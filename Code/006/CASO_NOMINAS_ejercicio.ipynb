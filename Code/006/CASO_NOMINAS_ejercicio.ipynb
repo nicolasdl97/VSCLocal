{
  "cells": [
    {
      "cell_type": "markdown",
      "metadata": {
        "id": "TOUlHAD9ju4I"
      },
      "source": [
        "#### CASO NÓMINAS\n",
        "\n",
        "Teniendo un dataset con las siguientes columnas:\n",
        "- COD_PERSONA\tIdentificador cliente\n",
        "- COD_EDAD\tEdad del cliente\n",
        "- XTI_IDEFISCO\tTipo de identificador fiscal\n",
        "- FEC_CANCEL\tFecha cancelación cliente\n",
        "- COD_POSTAL\tCódigo postal\n",
        "- IMP_NOMINA\tImporte Nómina Mes Análisis\n",
        "- IMP_PENSION\tImporte Pensión Mes Análisis\n",
        "- IMP_DESEMPL\tImporte Desempleo Mes Análisis\n",
        "\n",
        "Queremos resolver dos preguntas relacionadas con la tenencia de ingresos:\n",
        "* 1ª Pregunta: ¿qué importes medios de nómina, pensión o desempleo tengo en mi BBDD de Nov 21?\n",
        "* 2ª Pregunta: queremos saber cómo ha evolucionado la base de nóminas de Nov20 a Nov21 y cuál de las dos campañas que tenemos vigentes ha funcionado mejor: nuevas nóminas o captación de clientes"
      ]
    },
    {
      "cell_type": "markdown",
      "metadata": {
        "id": "UFOHIBmKVBTS"
      },
      "source": [
        "### Abrir los fichero de datos"
      ]
    },
    {
      "cell_type": "code",
      "execution_count": 15,
      "metadata": {
        "id": "C7xdJN3AR9wj"
      },
      "outputs": [],
      "source": [
        "import pandas as pd"
      ]
    },
    {
      "cell_type": "code",
      "execution_count": 16,
      "metadata": {
        "colab": {
          "base_uri": "https://localhost:8080/",
          "height": 423
        },
        "id": "qFG8VIjdTXt5",
        "outputId": "7473a0eb-9530-48ba-b493-3ca9c4584ef9"
      },
      "outputs": [
        {
          "data": {
            "text/html": [
              "<div>\n",
              "<style scoped>\n",
              "    .dataframe tbody tr th:only-of-type {\n",
              "        vertical-align: middle;\n",
              "    }\n",
              "\n",
              "    .dataframe tbody tr th {\n",
              "        vertical-align: top;\n",
              "    }\n",
              "\n",
              "    .dataframe thead th {\n",
              "        text-align: right;\n",
              "    }\n",
              "</style>\n",
              "<table border=\"1\" class=\"dataframe\">\n",
              "  <thead>\n",
              "    <tr style=\"text-align: right;\">\n",
              "      <th></th>\n",
              "      <th>COD_PERSONA</th>\n",
              "      <th>COD_EDAD</th>\n",
              "      <th>XTI_IDEFISCO</th>\n",
              "      <th>FEC_CANCEL</th>\n",
              "      <th>COD_POSTAL</th>\n",
              "      <th>IMP_NOMINA</th>\n",
              "      <th>IMP_PENSION</th>\n",
              "      <th>IMP_DESEMPL</th>\n",
              "    </tr>\n",
              "  </thead>\n",
              "  <tbody>\n",
              "    <tr>\n",
              "      <th>0</th>\n",
              "      <td>55574</td>\n",
              "      <td>48</td>\n",
              "      <td>1</td>\n",
              "      <td>00/00/0000</td>\n",
              "      <td>41010</td>\n",
              "      <td>1700</td>\n",
              "      <td>0</td>\n",
              "      <td>0</td>\n",
              "    </tr>\n",
              "    <tr>\n",
              "      <th>1</th>\n",
              "      <td>62886</td>\n",
              "      <td>44</td>\n",
              "      <td>1</td>\n",
              "      <td>00/00/0000</td>\n",
              "      <td>41010</td>\n",
              "      <td>1756</td>\n",
              "      <td>0</td>\n",
              "      <td>0</td>\n",
              "    </tr>\n",
              "    <tr>\n",
              "      <th>2</th>\n",
              "      <td>60718</td>\n",
              "      <td>26</td>\n",
              "      <td>1</td>\n",
              "      <td>00/00/0000</td>\n",
              "      <td>39300</td>\n",
              "      <td>0</td>\n",
              "      <td>0</td>\n",
              "      <td>93</td>\n",
              "    </tr>\n",
              "    <tr>\n",
              "      <th>3</th>\n",
              "      <td>41027</td>\n",
              "      <td>29</td>\n",
              "      <td>1</td>\n",
              "      <td>00/00/0000</td>\n",
              "      <td>41010</td>\n",
              "      <td>444</td>\n",
              "      <td>0</td>\n",
              "      <td>0</td>\n",
              "    </tr>\n",
              "    <tr>\n",
              "      <th>4</th>\n",
              "      <td>15613</td>\n",
              "      <td>33</td>\n",
              "      <td>1</td>\n",
              "      <td>00/00/0000</td>\n",
              "      <td>41010</td>\n",
              "      <td>0</td>\n",
              "      <td>0</td>\n",
              "      <td>318</td>\n",
              "    </tr>\n",
              "    <tr>\n",
              "      <th>...</th>\n",
              "      <td>...</td>\n",
              "      <td>...</td>\n",
              "      <td>...</td>\n",
              "      <td>...</td>\n",
              "      <td>...</td>\n",
              "      <td>...</td>\n",
              "      <td>...</td>\n",
              "      <td>...</td>\n",
              "    </tr>\n",
              "    <tr>\n",
              "      <th>994</th>\n",
              "      <td>52516</td>\n",
              "      <td>29</td>\n",
              "      <td>1</td>\n",
              "      <td>00/00/0000</td>\n",
              "      <td>28100</td>\n",
              "      <td>0</td>\n",
              "      <td>0</td>\n",
              "      <td>0</td>\n",
              "    </tr>\n",
              "    <tr>\n",
              "      <th>995</th>\n",
              "      <td>66964</td>\n",
              "      <td>63</td>\n",
              "      <td>1</td>\n",
              "      <td>00/00/0000</td>\n",
              "      <td>39300</td>\n",
              "      <td>1969</td>\n",
              "      <td>0</td>\n",
              "      <td>0</td>\n",
              "    </tr>\n",
              "    <tr>\n",
              "      <th>996</th>\n",
              "      <td>45022</td>\n",
              "      <td>26</td>\n",
              "      <td>1</td>\n",
              "      <td>00/00/0000</td>\n",
              "      <td>28100</td>\n",
              "      <td>561</td>\n",
              "      <td>0</td>\n",
              "      <td>0</td>\n",
              "    </tr>\n",
              "    <tr>\n",
              "      <th>997</th>\n",
              "      <td>59516</td>\n",
              "      <td>34</td>\n",
              "      <td>1</td>\n",
              "      <td>00/00/0000</td>\n",
              "      <td>41010</td>\n",
              "      <td>2933</td>\n",
              "      <td>0</td>\n",
              "      <td>0</td>\n",
              "    </tr>\n",
              "    <tr>\n",
              "      <th>998</th>\n",
              "      <td>52991</td>\n",
              "      <td>64</td>\n",
              "      <td>1</td>\n",
              "      <td>00/00/0000</td>\n",
              "      <td>23678</td>\n",
              "      <td>1950</td>\n",
              "      <td>0</td>\n",
              "      <td>0</td>\n",
              "    </tr>\n",
              "  </tbody>\n",
              "</table>\n",
              "<p>999 rows × 8 columns</p>\n",
              "</div>"
            ],
            "text/plain": [
              "     COD_PERSONA  COD_EDAD  XTI_IDEFISCO  FEC_CANCEL  COD_POSTAL  IMP_NOMINA  \\\n",
              "0          55574        48             1  00/00/0000       41010        1700   \n",
              "1          62886        44             1  00/00/0000       41010        1756   \n",
              "2          60718        26             1  00/00/0000       39300           0   \n",
              "3          41027        29             1  00/00/0000       41010         444   \n",
              "4          15613        33             1  00/00/0000       41010           0   \n",
              "..           ...       ...           ...         ...         ...         ...   \n",
              "994        52516        29             1  00/00/0000       28100           0   \n",
              "995        66964        63             1  00/00/0000       39300        1969   \n",
              "996        45022        26             1  00/00/0000       28100         561   \n",
              "997        59516        34             1  00/00/0000       41010        2933   \n",
              "998        52991        64             1  00/00/0000       23678        1950   \n",
              "\n",
              "     IMP_PENSION  IMP_DESEMPL  \n",
              "0              0            0  \n",
              "1              0            0  \n",
              "2              0           93  \n",
              "3              0            0  \n",
              "4              0          318  \n",
              "..           ...          ...  \n",
              "994            0            0  \n",
              "995            0            0  \n",
              "996            0            0  \n",
              "997            0            0  \n",
              "998            0            0  \n",
              "\n",
              "[999 rows x 8 columns]"
            ]
          },
          "execution_count": 16,
          "metadata": {},
          "output_type": "execute_result"
        }
      ],
      "source": [
        "df_2021 = pd.read_csv('C:/Users/nicol/OneDrive/Documentos/VSCLocal/Data/datos/006/4. CASO NÓMINAS.xlsx - BASE CLIENTES NOV21.csv')\n",
        "df_2021"
      ]
    },
    {
      "cell_type": "code",
      "execution_count": 17,
      "metadata": {
        "colab": {
          "base_uri": "https://localhost:8080/",
          "height": 423
        },
        "id": "hGzPaJx9nCuP",
        "outputId": "a252cabb-8bd7-43ec-edc4-a94a36a21395"
      },
      "outputs": [
        {
          "data": {
            "text/html": [
              "<div>\n",
              "<style scoped>\n",
              "    .dataframe tbody tr th:only-of-type {\n",
              "        vertical-align: middle;\n",
              "    }\n",
              "\n",
              "    .dataframe tbody tr th {\n",
              "        vertical-align: top;\n",
              "    }\n",
              "\n",
              "    .dataframe thead th {\n",
              "        text-align: right;\n",
              "    }\n",
              "</style>\n",
              "<table border=\"1\" class=\"dataframe\">\n",
              "  <thead>\n",
              "    <tr style=\"text-align: right;\">\n",
              "      <th></th>\n",
              "      <th>COD_PERSONA</th>\n",
              "      <th>COD_EDAD</th>\n",
              "      <th>XTI_IDEFISCO</th>\n",
              "      <th>FEC_CANCEL</th>\n",
              "      <th>COD_POSTAL</th>\n",
              "      <th>IMP_NOMINA</th>\n",
              "      <th>IMP_PENSION</th>\n",
              "      <th>IMP_DESEMPL</th>\n",
              "    </tr>\n",
              "  </thead>\n",
              "  <tbody>\n",
              "    <tr>\n",
              "      <th>0</th>\n",
              "      <td>92047</td>\n",
              "      <td>79</td>\n",
              "      <td>1</td>\n",
              "      <td>00/00/0000</td>\n",
              "      <td>39300</td>\n",
              "      <td>0</td>\n",
              "      <td>600</td>\n",
              "      <td>0</td>\n",
              "    </tr>\n",
              "    <tr>\n",
              "      <th>1</th>\n",
              "      <td>12415</td>\n",
              "      <td>42</td>\n",
              "      <td>1</td>\n",
              "      <td>00/00/0000</td>\n",
              "      <td>39300</td>\n",
              "      <td>0</td>\n",
              "      <td>1200</td>\n",
              "      <td>0</td>\n",
              "    </tr>\n",
              "    <tr>\n",
              "      <th>2</th>\n",
              "      <td>31103</td>\n",
              "      <td>21</td>\n",
              "      <td>1</td>\n",
              "      <td>00/00/0000</td>\n",
              "      <td>23678</td>\n",
              "      <td>0</td>\n",
              "      <td>0</td>\n",
              "      <td>0</td>\n",
              "    </tr>\n",
              "    <tr>\n",
              "      <th>3</th>\n",
              "      <td>91094</td>\n",
              "      <td>31</td>\n",
              "      <td>1</td>\n",
              "      <td>00/00/0000</td>\n",
              "      <td>28034</td>\n",
              "      <td>0</td>\n",
              "      <td>1100</td>\n",
              "      <td>0</td>\n",
              "    </tr>\n",
              "    <tr>\n",
              "      <th>4</th>\n",
              "      <td>81707</td>\n",
              "      <td>48</td>\n",
              "      <td>1</td>\n",
              "      <td>00/00/0000</td>\n",
              "      <td>28034</td>\n",
              "      <td>0</td>\n",
              "      <td>800</td>\n",
              "      <td>0</td>\n",
              "    </tr>\n",
              "    <tr>\n",
              "      <th>...</th>\n",
              "      <td>...</td>\n",
              "      <td>...</td>\n",
              "      <td>...</td>\n",
              "      <td>...</td>\n",
              "      <td>...</td>\n",
              "      <td>...</td>\n",
              "      <td>...</td>\n",
              "      <td>...</td>\n",
              "    </tr>\n",
              "    <tr>\n",
              "      <th>944</th>\n",
              "      <td>46018</td>\n",
              "      <td>22</td>\n",
              "      <td>1</td>\n",
              "      <td>00/00/0000</td>\n",
              "      <td>28100</td>\n",
              "      <td>1922</td>\n",
              "      <td>0</td>\n",
              "      <td>0</td>\n",
              "    </tr>\n",
              "    <tr>\n",
              "      <th>945</th>\n",
              "      <td>29889</td>\n",
              "      <td>74</td>\n",
              "      <td>1</td>\n",
              "      <td>00/00/0000</td>\n",
              "      <td>28100</td>\n",
              "      <td>0</td>\n",
              "      <td>0</td>\n",
              "      <td>2116</td>\n",
              "    </tr>\n",
              "    <tr>\n",
              "      <th>946</th>\n",
              "      <td>11778</td>\n",
              "      <td>67</td>\n",
              "      <td>1</td>\n",
              "      <td>00/00/0000</td>\n",
              "      <td>28100</td>\n",
              "      <td>520</td>\n",
              "      <td>0</td>\n",
              "      <td>0</td>\n",
              "    </tr>\n",
              "    <tr>\n",
              "      <th>947</th>\n",
              "      <td>77336</td>\n",
              "      <td>49</td>\n",
              "      <td>1</td>\n",
              "      <td>00/00/0000</td>\n",
              "      <td>41010</td>\n",
              "      <td>0</td>\n",
              "      <td>250</td>\n",
              "      <td>0</td>\n",
              "    </tr>\n",
              "    <tr>\n",
              "      <th>948</th>\n",
              "      <td>7386</td>\n",
              "      <td>75</td>\n",
              "      <td>1</td>\n",
              "      <td>00/00/0000</td>\n",
              "      <td>23678</td>\n",
              "      <td>0</td>\n",
              "      <td>1000</td>\n",
              "      <td>0</td>\n",
              "    </tr>\n",
              "  </tbody>\n",
              "</table>\n",
              "<p>949 rows × 8 columns</p>\n",
              "</div>"
            ],
            "text/plain": [
              "     COD_PERSONA  COD_EDAD  XTI_IDEFISCO  FEC_CANCEL  COD_POSTAL  IMP_NOMINA  \\\n",
              "0          92047        79             1  00/00/0000       39300           0   \n",
              "1          12415        42             1  00/00/0000       39300           0   \n",
              "2          31103        21             1  00/00/0000       23678           0   \n",
              "3          91094        31             1  00/00/0000       28034           0   \n",
              "4          81707        48             1  00/00/0000       28034           0   \n",
              "..           ...       ...           ...         ...         ...         ...   \n",
              "944        46018        22             1  00/00/0000       28100        1922   \n",
              "945        29889        74             1  00/00/0000       28100           0   \n",
              "946        11778        67             1  00/00/0000       28100         520   \n",
              "947        77336        49             1  00/00/0000       41010           0   \n",
              "948         7386        75             1  00/00/0000       23678           0   \n",
              "\n",
              "     IMP_PENSION  IMP_DESEMPL  \n",
              "0            600            0  \n",
              "1           1200            0  \n",
              "2              0            0  \n",
              "3           1100            0  \n",
              "4            800            0  \n",
              "..           ...          ...  \n",
              "944            0            0  \n",
              "945            0         2116  \n",
              "946            0            0  \n",
              "947          250            0  \n",
              "948         1000            0  \n",
              "\n",
              "[949 rows x 8 columns]"
            ]
          },
          "execution_count": 17,
          "metadata": {},
          "output_type": "execute_result"
        }
      ],
      "source": [
        "df_2020 = pd.read_csv('C:/Users/nicol/OneDrive/Documentos/VSCLocal/Data/datos/006/4. CASO NÓMINAS.xlsx - BASE CLIENTES NOV20.csv')\n",
        "df_2020"
      ]
    },
    {
      "cell_type": "markdown",
      "metadata": {
        "id": "O6Qqmomsj7nD"
      },
      "source": [
        "### Filtros\n",
        "Es un problema de clientes particulares, tendríamos que filtrar a personas jurídicas pero parece no haber\n",
        "Sí hay que filtrar clientes cancelados para sacar los datos que me piden"
      ]
    },
    {
      "cell_type": "code",
      "execution_count": 18,
      "metadata": {
        "id": "HjCFHg_0om5b"
      },
      "outputs": [],
      "source": [
        "import numpy as np"
      ]
    },
    {
      "cell_type": "code",
      "execution_count": 19,
      "metadata": {
        "id": "vQkIsCyklzmk"
      },
      "outputs": [],
      "source": [
        "def preparacion_dataset(df):\n",
        "  df = df[(df['XTI_IDEFISCO'] != 2) & (df['XTI_IDEFISCO'] != 3)]\n",
        "  df = df[(df['FEC_CANCEL'] == '00/00/0000')]\n",
        "  df['NOMINA'] = np.where(df['IMP_NOMINA'] > 0, 1, 0)\n",
        "  df['PENSION'] = np.where(df['IMP_PENSION'] > 0, 1, 0)\n",
        "  df['DESEMPL'] = np.where(df['IMP_DESEMPL'] > 0, 1, 0)\n",
        "  return df"
      ]
    },
    {
      "cell_type": "code",
      "execution_count": 20,
      "metadata": {
        "id": "OatUsinGnPzu"
      },
      "outputs": [],
      "source": [
        "df_2021 = preparacion_dataset(df_2021)\n",
        "df_2021 = df_2021.drop_duplicates(subset='COD_PERSONA', keep=\"last\")"
      ]
    },
    {
      "cell_type": "code",
      "execution_count": 21,
      "metadata": {
        "id": "NPpPg5l3rw81"
      },
      "outputs": [],
      "source": [
        "df_2020 = preparacion_dataset(df_2020)\n",
        "df_2020 = df_2020.drop_duplicates(subset='COD_PERSONA', keep=\"last\")"
      ]
    },
    {
      "cell_type": "markdown",
      "metadata": {
        "id": "dXQMO2PCD0iP"
      },
      "source": [
        "#### Análisis de 2021:\n",
        "* Tenencia de Nómina, Pensión y Desempleo\n",
        "* Media del Importe de la Nómina, Pensión y Desempleo"
      ]
    },
    {
      "cell_type": "code",
      "execution_count": 22,
      "metadata": {},
      "outputs": [
        {
          "name": "stdout",
          "output_type": "stream",
          "text": [
            "DATOS NÓMINAS DE 2021\n"
          ]
        },
        {
          "data": {
            "text/html": [
              "<div>\n",
              "<style scoped>\n",
              "    .dataframe tbody tr th:only-of-type {\n",
              "        vertical-align: middle;\n",
              "    }\n",
              "\n",
              "    .dataframe tbody tr th {\n",
              "        vertical-align: top;\n",
              "    }\n",
              "\n",
              "    .dataframe thead th {\n",
              "        text-align: right;\n",
              "    }\n",
              "</style>\n",
              "<table border=\"1\" class=\"dataframe\">\n",
              "  <thead>\n",
              "    <tr style=\"text-align: right;\">\n",
              "      <th></th>\n",
              "      <th>NOMINA</th>\n",
              "      <th>IMP_NOMINA</th>\n",
              "      <th>PENSION</th>\n",
              "      <th>IMP_PENSION</th>\n",
              "      <th>DESEMPL</th>\n",
              "      <th>IMP_DESEMPL</th>\n",
              "    </tr>\n",
              "  </thead>\n",
              "  <tbody>\n",
              "    <tr>\n",
              "      <th>sum</th>\n",
              "      <td>538.0</td>\n",
              "      <td>794497.000000</td>\n",
              "      <td>218.0</td>\n",
              "      <td>197500.000000</td>\n",
              "      <td>135.0</td>\n",
              "      <td>165492.000000</td>\n",
              "    </tr>\n",
              "    <tr>\n",
              "      <th>&lt;lambda&gt;</th>\n",
              "      <td>NaN</td>\n",
              "      <td>1476.760223</td>\n",
              "      <td>NaN</td>\n",
              "      <td>905.963303</td>\n",
              "      <td>NaN</td>\n",
              "      <td>1225.866667</td>\n",
              "    </tr>\n",
              "  </tbody>\n",
              "</table>\n",
              "</div>"
            ],
            "text/plain": [
              "          NOMINA     IMP_NOMINA  PENSION    IMP_PENSION  DESEMPL  \\\n",
              "sum        538.0  794497.000000    218.0  197500.000000    135.0   \n",
              "<lambda>     NaN    1476.760223      NaN     905.963303      NaN   \n",
              "\n",
              "            IMP_DESEMPL  \n",
              "sum       165492.000000  \n",
              "<lambda>    1225.866667  "
            ]
          },
          "execution_count": 22,
          "metadata": {},
          "output_type": "execute_result"
        }
      ],
      "source": [
        "print('DATOS NÓMINAS DE 2021')\n",
        "df_2021.agg({'NOMINA':'sum','IMP_NOMINA':['sum',lambda x: x.sum() / float(len(df_2021[df_2021['NOMINA']==1]))],\n",
        "             'PENSION':'sum','IMP_PENSION':['sum',lambda x: x.sum() / float(len(df_2021[df_2021['PENSION']==1]))],\n",
        "             'DESEMPL':'sum','IMP_DESEMPL':['sum',lambda x: x.sum() / float(len(df_2021[df_2021['DESEMPL']==1]))]\n",
        "             })\n"
      ]
    },
    {
      "cell_type": "markdown",
      "metadata": {
        "id": "V-fFRA3qEHwg"
      },
      "source": [
        "#### Análisis de 2020:\n",
        "* Tenencia de Nómina, Pensión y Desempleo\n",
        "* Media del Importe de la Nómina, Pensión y Desempleo"
      ]
    },
    {
      "cell_type": "code",
      "execution_count": 23,
      "metadata": {
        "colab": {
          "base_uri": "https://localhost:8080/",
          "height": 193
        },
        "id": "YFyFy-daBFW6",
        "outputId": "96ba6a81-2ea8-4183-aec0-87299b22351a"
      },
      "outputs": [
        {
          "name": "stdout",
          "output_type": "stream",
          "text": [
            "DATOS NÓMINAS DE 2020\n"
          ]
        },
        {
          "data": {
            "text/html": [
              "<div>\n",
              "<style scoped>\n",
              "    .dataframe tbody tr th:only-of-type {\n",
              "        vertical-align: middle;\n",
              "    }\n",
              "\n",
              "    .dataframe tbody tr th {\n",
              "        vertical-align: top;\n",
              "    }\n",
              "\n",
              "    .dataframe thead th {\n",
              "        text-align: right;\n",
              "    }\n",
              "</style>\n",
              "<table border=\"1\" class=\"dataframe\">\n",
              "  <thead>\n",
              "    <tr style=\"text-align: right;\">\n",
              "      <th></th>\n",
              "      <th>NOMINA</th>\n",
              "      <th>IMP_NOMINA</th>\n",
              "      <th>PENSION</th>\n",
              "      <th>IMP_PENSION</th>\n",
              "      <th>DESEMPL</th>\n",
              "      <th>IMP_DESEMPL</th>\n",
              "    </tr>\n",
              "  </thead>\n",
              "  <tbody>\n",
              "    <tr>\n",
              "      <th>sum</th>\n",
              "      <td>452.0</td>\n",
              "      <td>664599.00000</td>\n",
              "      <td>233.0</td>\n",
              "      <td>217525.000000</td>\n",
              "      <td>146.0</td>\n",
              "      <td>182400.000000</td>\n",
              "    </tr>\n",
              "    <tr>\n",
              "      <th>&lt;lambda&gt;</th>\n",
              "      <td>NaN</td>\n",
              "      <td>1470.35177</td>\n",
              "      <td>NaN</td>\n",
              "      <td>933.583691</td>\n",
              "      <td>NaN</td>\n",
              "      <td>1249.315068</td>\n",
              "    </tr>\n",
              "  </tbody>\n",
              "</table>\n",
              "</div>"
            ],
            "text/plain": [
              "          NOMINA    IMP_NOMINA  PENSION    IMP_PENSION  DESEMPL    IMP_DESEMPL\n",
              "sum        452.0  664599.00000    233.0  217525.000000    146.0  182400.000000\n",
              "<lambda>     NaN    1470.35177      NaN     933.583691      NaN    1249.315068"
            ]
          },
          "execution_count": 23,
          "metadata": {},
          "output_type": "execute_result"
        }
      ],
      "source": [
        "# YOUR CODE HERE\n",
        "print('DATOS NÓMINAS DE 2020')\n",
        "df_2020.agg({'NOMINA':'sum','IMP_NOMINA':['sum',lambda x: x.sum() / float(len(df_2020[df_2020['NOMINA']==1]))],\n",
        "             'PENSION':'sum','IMP_PENSION':['sum',lambda x: x.sum() / float(len(df_2020[df_2020['PENSION']==1]))],\n",
        "             'DESEMPL':'sum','IMP_DESEMPL':['sum',lambda x: x.sum() / float(len(df_2020[df_2020['DESEMPL']==1]))]\n",
        "             })"
      ]
    },
    {
      "cell_type": "markdown",
      "metadata": {
        "id": "WuIGeZtyr4Tl"
      },
      "source": [
        "#### Cruzamos ambas bases de datos\n",
        "Queremos saber no sólo si el cliente estaba en 2020 sino también si tenía en esas fechas Nómina, Pensión o Desempleo."
      ]
    },
    {
      "cell_type": "code",
      "execution_count": 26,
      "metadata": {},
      "outputs": [
        {
          "name": "stderr",
          "output_type": "stream",
          "text": [
            "C:\\Users\\nicol\\AppData\\Local\\Temp\\ipykernel_6752\\2810860074.py:2: FutureWarning: The default of observed=False is deprecated and will be changed to True in a future version of pandas. Pass observed=False to retain current behavior or observed=True to adopt the future default and silence this warning.\n",
            "  df_all.groupby('_merge').agg({'_merge':'count'})\n"
          ]
        },
        {
          "data": {
            "text/html": [
              "<div>\n",
              "<style scoped>\n",
              "    .dataframe tbody tr th:only-of-type {\n",
              "        vertical-align: middle;\n",
              "    }\n",
              "\n",
              "    .dataframe tbody tr th {\n",
              "        vertical-align: top;\n",
              "    }\n",
              "\n",
              "    .dataframe thead th {\n",
              "        text-align: right;\n",
              "    }\n",
              "</style>\n",
              "<table border=\"1\" class=\"dataframe\">\n",
              "  <thead>\n",
              "    <tr style=\"text-align: right;\">\n",
              "      <th></th>\n",
              "      <th>_merge</th>\n",
              "    </tr>\n",
              "    <tr>\n",
              "      <th>_merge</th>\n",
              "      <th></th>\n",
              "    </tr>\n",
              "  </thead>\n",
              "  <tbody>\n",
              "    <tr>\n",
              "      <th>left_only</th>\n",
              "      <td>22</td>\n",
              "    </tr>\n",
              "    <tr>\n",
              "      <th>right_only</th>\n",
              "      <td>71</td>\n",
              "    </tr>\n",
              "    <tr>\n",
              "      <th>both</th>\n",
              "      <td>895</td>\n",
              "    </tr>\n",
              "  </tbody>\n",
              "</table>\n",
              "</div>"
            ],
            "text/plain": [
              "            _merge\n",
              "_merge            \n",
              "left_only       22\n",
              "right_only      71\n",
              "both           895"
            ]
          },
          "execution_count": 26,
          "metadata": {},
          "output_type": "execute_result"
        }
      ],
      "source": [
        "df_all=df_2020.merge(df_2021, on=['COD_PERSONA'], how='outer',indicator=True)\n",
        "df_all.groupby('_merge').agg({'_merge':'count'})"
      ]
    },
    {
      "cell_type": "markdown",
      "metadata": {
        "id": "B_yRKSSVl0Iv"
      },
      "source": [
        "#### Clientes en nómina en 2020"
      ]
    },
    {
      "cell_type": "code",
      "execution_count": 27,
      "metadata": {
        "colab": {
          "base_uri": "https://localhost:8080/"
        },
        "id": "wEXG9rbh6kAI",
        "outputId": "e0eefac8-6a01-48e3-ec5b-2e6cbf41a32f"
      },
      "outputs": [
        {
          "name": "stdout",
          "output_type": "stream",
          "text": [
            "Clientes en nómina en 2020: 452\n"
          ]
        }
      ],
      "source": [
        "# YOUR CODE HERE\n",
        "print(f\"Clientes en nómina en 2020: {df_all[df_all['NOMINA_x']==1].shape[0]}\")"
      ]
    },
    {
      "cell_type": "markdown",
      "metadata": {
        "id": "D678D1MSl4cY"
      },
      "source": [
        "#### Clientes dados de baja de 2020 a 2021"
      ]
    },
    {
      "cell_type": "code",
      "execution_count": 30,
      "metadata": {
        "colab": {
          "base_uri": "https://localhost:8080/"
        },
        "id": "hNYqximk88TM",
        "outputId": "b8862c3d-3052-436a-f6e7-17a3c0fce402"
      },
      "outputs": [
        {
          "ename": "TypeError",
          "evalue": "unsupported operand type(s) for &: 'float' and 'bool'",
          "output_type": "error",
          "traceback": [
            "\u001b[1;31m---------------------------------------------------------------------------\u001b[0m",
            "\u001b[1;31mTypeError\u001b[0m                                 Traceback (most recent call last)",
            "File \u001b[1;32mc:\\Users\\nicol\\OneDrive\\Documentos\\VSCLocal\\nicolas-env\\Lib\\site-packages\\pandas\\core\\ops\\array_ops.py:362\u001b[0m, in \u001b[0;36mna_logical_op\u001b[1;34m(x, y, op)\u001b[0m\n\u001b[0;32m    353\u001b[0m \u001b[38;5;28;01mtry\u001b[39;00m:\n\u001b[0;32m    354\u001b[0m     \u001b[38;5;66;03m# For exposition, write:\u001b[39;00m\n\u001b[0;32m    355\u001b[0m     \u001b[38;5;66;03m#  yarr = isinstance(y, np.ndarray)\u001b[39;00m\n\u001b[1;32m   (...)\u001b[0m\n\u001b[0;32m    360\u001b[0m     \u001b[38;5;66;03m# Then Cases where this goes through without raising include:\u001b[39;00m\n\u001b[0;32m    361\u001b[0m     \u001b[38;5;66;03m#  (xint or xbool) and (yint or bool)\u001b[39;00m\n\u001b[1;32m--> 362\u001b[0m     result \u001b[38;5;241m=\u001b[39m \u001b[43mop\u001b[49m\u001b[43m(\u001b[49m\u001b[43mx\u001b[49m\u001b[43m,\u001b[49m\u001b[43m \u001b[49m\u001b[43my\u001b[49m\u001b[43m)\u001b[49m\n\u001b[0;32m    363\u001b[0m \u001b[38;5;28;01mexcept\u001b[39;00m \u001b[38;5;167;01mTypeError\u001b[39;00m:\n",
            "\u001b[1;31mTypeError\u001b[0m: unsupported operand type(s) for &: 'float' and 'bool'",
            "\nDuring handling of the above exception, another exception occurred:\n",
            "\u001b[1;31mTypeError\u001b[0m                                 Traceback (most recent call last)",
            "Cell \u001b[1;32mIn[30], line 2\u001b[0m\n\u001b[0;32m      1\u001b[0m \u001b[38;5;66;03m# YOUR CODE HERE\u001b[39;00m\n\u001b[1;32m----> 2\u001b[0m \u001b[38;5;28mprint\u001b[39m(\u001b[38;5;124mf\u001b[39m\u001b[38;5;124m\"\u001b[39m\u001b[38;5;124mClientes en nómina en 2020 a 2021: \u001b[39m\u001b[38;5;132;01m{\u001b[39;00m(\u001b[43m(\u001b[49m\u001b[43mdf_all\u001b[49m\u001b[43m[\u001b[49m\u001b[43mdf_all\u001b[49m\u001b[43m[\u001b[49m\u001b[38;5;124;43m'\u001b[39;49m\u001b[38;5;124;43mNOMINA_x\u001b[39;49m\u001b[38;5;124;43m'\u001b[39;49m\u001b[43m]\u001b[49m\u001b[38;5;241;43m==\u001b[39;49m\u001b[38;5;241;43m1\u001b[39;49m\u001b[43m]\u001b[49m\u001b[43m)\u001b[49m\u001b[38;5;250;43m \u001b[39;49m\u001b[38;5;241;43m&\u001b[39;49m\u001b[38;5;250;43m \u001b[39;49m\u001b[43m(\u001b[49m\u001b[43mdf_all\u001b[49m\u001b[43m[\u001b[49m\u001b[38;5;124;43m'\u001b[39;49m\u001b[38;5;124;43m_merge\u001b[39;49m\u001b[38;5;124;43m'\u001b[39;49m\u001b[43m]\u001b[49m\u001b[38;5;241;43m==\u001b[39;49m\u001b[38;5;124;43m'\u001b[39;49m\u001b[38;5;124;43mleft_only\u001b[39;49m\u001b[38;5;124;43m'\u001b[39;49m\u001b[43m)\u001b[49m)\u001b[38;5;241m.\u001b[39mshape[\u001b[38;5;241m0\u001b[39m]\u001b[38;5;132;01m}\u001b[39;00m\u001b[38;5;124m\"\u001b[39m)\n",
            "File \u001b[1;32mc:\\Users\\nicol\\OneDrive\\Documentos\\VSCLocal\\nicolas-env\\Lib\\site-packages\\pandas\\core\\ops\\common.py:76\u001b[0m, in \u001b[0;36m_unpack_zerodim_and_defer.<locals>.new_method\u001b[1;34m(self, other)\u001b[0m\n\u001b[0;32m     72\u001b[0m             \u001b[38;5;28;01mreturn\u001b[39;00m \u001b[38;5;28mNotImplemented\u001b[39m\n\u001b[0;32m     74\u001b[0m other \u001b[38;5;241m=\u001b[39m item_from_zerodim(other)\n\u001b[1;32m---> 76\u001b[0m \u001b[38;5;28;01mreturn\u001b[39;00m \u001b[43mmethod\u001b[49m\u001b[43m(\u001b[49m\u001b[38;5;28;43mself\u001b[39;49m\u001b[43m,\u001b[49m\u001b[43m \u001b[49m\u001b[43mother\u001b[49m\u001b[43m)\u001b[49m\n",
            "File \u001b[1;32mc:\\Users\\nicol\\OneDrive\\Documentos\\VSCLocal\\nicolas-env\\Lib\\site-packages\\pandas\\core\\arraylike.py:70\u001b[0m, in \u001b[0;36mOpsMixin.__and__\u001b[1;34m(self, other)\u001b[0m\n\u001b[0;32m     68\u001b[0m \u001b[38;5;129m@unpack_zerodim_and_defer\u001b[39m(\u001b[38;5;124m\"\u001b[39m\u001b[38;5;124m__and__\u001b[39m\u001b[38;5;124m\"\u001b[39m)\n\u001b[0;32m     69\u001b[0m \u001b[38;5;28;01mdef\u001b[39;00m \u001b[38;5;21m__and__\u001b[39m(\u001b[38;5;28mself\u001b[39m, other):\n\u001b[1;32m---> 70\u001b[0m     \u001b[38;5;28;01mreturn\u001b[39;00m \u001b[38;5;28;43mself\u001b[39;49m\u001b[38;5;241;43m.\u001b[39;49m\u001b[43m_logical_method\u001b[49m\u001b[43m(\u001b[49m\u001b[43mother\u001b[49m\u001b[43m,\u001b[49m\u001b[43m \u001b[49m\u001b[43moperator\u001b[49m\u001b[38;5;241;43m.\u001b[39;49m\u001b[43mand_\u001b[49m\u001b[43m)\u001b[49m\n",
            "File \u001b[1;32mc:\\Users\\nicol\\OneDrive\\Documentos\\VSCLocal\\nicolas-env\\Lib\\site-packages\\pandas\\core\\frame.py:7900\u001b[0m, in \u001b[0;36mDataFrame._arith_method\u001b[1;34m(self, other, op)\u001b[0m\n\u001b[0;32m   7897\u001b[0m \u001b[38;5;28mself\u001b[39m, other \u001b[38;5;241m=\u001b[39m \u001b[38;5;28mself\u001b[39m\u001b[38;5;241m.\u001b[39m_align_for_op(other, axis, flex\u001b[38;5;241m=\u001b[39m\u001b[38;5;28;01mTrue\u001b[39;00m, level\u001b[38;5;241m=\u001b[39m\u001b[38;5;28;01mNone\u001b[39;00m)\n\u001b[0;32m   7899\u001b[0m \u001b[38;5;28;01mwith\u001b[39;00m np\u001b[38;5;241m.\u001b[39merrstate(\u001b[38;5;28mall\u001b[39m\u001b[38;5;241m=\u001b[39m\u001b[38;5;124m\"\u001b[39m\u001b[38;5;124mignore\u001b[39m\u001b[38;5;124m\"\u001b[39m):\n\u001b[1;32m-> 7900\u001b[0m     new_data \u001b[38;5;241m=\u001b[39m \u001b[38;5;28;43mself\u001b[39;49m\u001b[38;5;241;43m.\u001b[39;49m\u001b[43m_dispatch_frame_op\u001b[49m\u001b[43m(\u001b[49m\u001b[43mother\u001b[49m\u001b[43m,\u001b[49m\u001b[43m \u001b[49m\u001b[43mop\u001b[49m\u001b[43m,\u001b[49m\u001b[43m \u001b[49m\u001b[43maxis\u001b[49m\u001b[38;5;241;43m=\u001b[39;49m\u001b[43maxis\u001b[49m\u001b[43m)\u001b[49m\n\u001b[0;32m   7901\u001b[0m \u001b[38;5;28;01mreturn\u001b[39;00m \u001b[38;5;28mself\u001b[39m\u001b[38;5;241m.\u001b[39m_construct_result(new_data)\n",
            "File \u001b[1;32mc:\\Users\\nicol\\OneDrive\\Documentos\\VSCLocal\\nicolas-env\\Lib\\site-packages\\pandas\\core\\frame.py:7943\u001b[0m, in \u001b[0;36mDataFrame._dispatch_frame_op\u001b[1;34m(self, right, func, axis)\u001b[0m\n\u001b[0;32m   7937\u001b[0m     \u001b[38;5;28;01massert\u001b[39;00m \u001b[38;5;28mself\u001b[39m\u001b[38;5;241m.\u001b[39mcolumns\u001b[38;5;241m.\u001b[39mequals(right\u001b[38;5;241m.\u001b[39mcolumns)\n\u001b[0;32m   7938\u001b[0m     \u001b[38;5;66;03m# TODO: The previous assertion `assert right._indexed_same(self)`\u001b[39;00m\n\u001b[0;32m   7939\u001b[0m     \u001b[38;5;66;03m#  fails in cases with empty columns reached via\u001b[39;00m\n\u001b[0;32m   7940\u001b[0m     \u001b[38;5;66;03m#  _frame_arith_method_with_reindex\u001b[39;00m\n\u001b[0;32m   7941\u001b[0m \n\u001b[0;32m   7942\u001b[0m     \u001b[38;5;66;03m# TODO operate_blockwise expects a manager of the same type\u001b[39;00m\n\u001b[1;32m-> 7943\u001b[0m     bm \u001b[38;5;241m=\u001b[39m \u001b[38;5;28;43mself\u001b[39;49m\u001b[38;5;241;43m.\u001b[39;49m\u001b[43m_mgr\u001b[49m\u001b[38;5;241;43m.\u001b[39;49m\u001b[43moperate_blockwise\u001b[49m\u001b[43m(\u001b[49m\n\u001b[0;32m   7944\u001b[0m \u001b[43m        \u001b[49m\u001b[38;5;66;43;03m# error: Argument 1 to \"operate_blockwise\" of \"ArrayManager\" has\u001b[39;49;00m\n\u001b[0;32m   7945\u001b[0m \u001b[43m        \u001b[49m\u001b[38;5;66;43;03m# incompatible type \"Union[ArrayManager, BlockManager]\"; expected\u001b[39;49;00m\n\u001b[0;32m   7946\u001b[0m \u001b[43m        \u001b[49m\u001b[38;5;66;43;03m# \"ArrayManager\"\u001b[39;49;00m\n\u001b[0;32m   7947\u001b[0m \u001b[43m        \u001b[49m\u001b[38;5;66;43;03m# error: Argument 1 to \"operate_blockwise\" of \"BlockManager\" has\u001b[39;49;00m\n\u001b[0;32m   7948\u001b[0m \u001b[43m        \u001b[49m\u001b[38;5;66;43;03m# incompatible type \"Union[ArrayManager, BlockManager]\"; expected\u001b[39;49;00m\n\u001b[0;32m   7949\u001b[0m \u001b[43m        \u001b[49m\u001b[38;5;66;43;03m# \"BlockManager\"\u001b[39;49;00m\n\u001b[0;32m   7950\u001b[0m \u001b[43m        \u001b[49m\u001b[43mright\u001b[49m\u001b[38;5;241;43m.\u001b[39;49m\u001b[43m_mgr\u001b[49m\u001b[43m,\u001b[49m\u001b[43m  \u001b[49m\u001b[38;5;66;43;03m# type: ignore[arg-type]\u001b[39;49;00m\n\u001b[0;32m   7951\u001b[0m \u001b[43m        \u001b[49m\u001b[43marray_op\u001b[49m\u001b[43m,\u001b[49m\n\u001b[0;32m   7952\u001b[0m \u001b[43m    \u001b[49m\u001b[43m)\u001b[49m\n\u001b[0;32m   7953\u001b[0m     \u001b[38;5;28;01mreturn\u001b[39;00m \u001b[38;5;28mself\u001b[39m\u001b[38;5;241m.\u001b[39m_constructor_from_mgr(bm, axes\u001b[38;5;241m=\u001b[39mbm\u001b[38;5;241m.\u001b[39maxes)\n\u001b[0;32m   7955\u001b[0m \u001b[38;5;28;01melif\u001b[39;00m \u001b[38;5;28misinstance\u001b[39m(right, Series) \u001b[38;5;129;01mand\u001b[39;00m axis \u001b[38;5;241m==\u001b[39m \u001b[38;5;241m1\u001b[39m:\n\u001b[0;32m   7956\u001b[0m     \u001b[38;5;66;03m# axis=1 means we want to operate row-by-row\u001b[39;00m\n",
            "File \u001b[1;32mc:\\Users\\nicol\\OneDrive\\Documentos\\VSCLocal\\nicolas-env\\Lib\\site-packages\\pandas\\core\\internals\\managers.py:1511\u001b[0m, in \u001b[0;36mBlockManager.operate_blockwise\u001b[1;34m(self, other, array_op)\u001b[0m\n\u001b[0;32m   1507\u001b[0m \u001b[38;5;28;01mdef\u001b[39;00m \u001b[38;5;21moperate_blockwise\u001b[39m(\u001b[38;5;28mself\u001b[39m, other: BlockManager, array_op) \u001b[38;5;241m-\u001b[39m\u001b[38;5;241m>\u001b[39m BlockManager:\n\u001b[0;32m   1508\u001b[0m \u001b[38;5;250m    \u001b[39m\u001b[38;5;124;03m\"\"\"\u001b[39;00m\n\u001b[0;32m   1509\u001b[0m \u001b[38;5;124;03m    Apply array_op blockwise with another (aligned) BlockManager.\u001b[39;00m\n\u001b[0;32m   1510\u001b[0m \u001b[38;5;124;03m    \"\"\"\u001b[39;00m\n\u001b[1;32m-> 1511\u001b[0m     \u001b[38;5;28;01mreturn\u001b[39;00m \u001b[43moperate_blockwise\u001b[49m\u001b[43m(\u001b[49m\u001b[38;5;28;43mself\u001b[39;49m\u001b[43m,\u001b[49m\u001b[43m \u001b[49m\u001b[43mother\u001b[49m\u001b[43m,\u001b[49m\u001b[43m \u001b[49m\u001b[43marray_op\u001b[49m\u001b[43m)\u001b[49m\n",
            "File \u001b[1;32mc:\\Users\\nicol\\OneDrive\\Documentos\\VSCLocal\\nicolas-env\\Lib\\site-packages\\pandas\\core\\internals\\ops.py:65\u001b[0m, in \u001b[0;36moperate_blockwise\u001b[1;34m(left, right, array_op)\u001b[0m\n\u001b[0;32m     63\u001b[0m res_blks: \u001b[38;5;28mlist\u001b[39m[Block] \u001b[38;5;241m=\u001b[39m []\n\u001b[0;32m     64\u001b[0m \u001b[38;5;28;01mfor\u001b[39;00m lvals, rvals, locs, left_ea, right_ea, rblk \u001b[38;5;129;01min\u001b[39;00m _iter_block_pairs(left, right):\n\u001b[1;32m---> 65\u001b[0m     res_values \u001b[38;5;241m=\u001b[39m \u001b[43marray_op\u001b[49m\u001b[43m(\u001b[49m\u001b[43mlvals\u001b[49m\u001b[43m,\u001b[49m\u001b[43m \u001b[49m\u001b[43mrvals\u001b[49m\u001b[43m)\u001b[49m\n\u001b[0;32m     66\u001b[0m     \u001b[38;5;28;01mif\u001b[39;00m (\n\u001b[0;32m     67\u001b[0m         left_ea\n\u001b[0;32m     68\u001b[0m         \u001b[38;5;129;01mand\u001b[39;00m \u001b[38;5;129;01mnot\u001b[39;00m right_ea\n\u001b[0;32m     69\u001b[0m         \u001b[38;5;129;01mand\u001b[39;00m \u001b[38;5;28mhasattr\u001b[39m(res_values, \u001b[38;5;124m\"\u001b[39m\u001b[38;5;124mreshape\u001b[39m\u001b[38;5;124m\"\u001b[39m)\n\u001b[0;32m     70\u001b[0m         \u001b[38;5;129;01mand\u001b[39;00m \u001b[38;5;129;01mnot\u001b[39;00m is_1d_only_ea_dtype(res_values\u001b[38;5;241m.\u001b[39mdtype)\n\u001b[0;32m     71\u001b[0m     ):\n\u001b[0;32m     72\u001b[0m         res_values \u001b[38;5;241m=\u001b[39m res_values\u001b[38;5;241m.\u001b[39mreshape(\u001b[38;5;241m1\u001b[39m, \u001b[38;5;241m-\u001b[39m\u001b[38;5;241m1\u001b[39m)\n",
            "File \u001b[1;32mc:\\Users\\nicol\\OneDrive\\Documentos\\VSCLocal\\nicolas-env\\Lib\\site-packages\\pandas\\core\\ops\\array_ops.py:454\u001b[0m, in \u001b[0;36mlogical_op\u001b[1;34m(left, right, op)\u001b[0m\n\u001b[0;32m    450\u001b[0m \u001b[38;5;28;01melse\u001b[39;00m:\n\u001b[0;32m    451\u001b[0m     \u001b[38;5;66;03m# i.e. scalar\u001b[39;00m\n\u001b[0;32m    452\u001b[0m     is_other_int_dtype \u001b[38;5;241m=\u001b[39m lib\u001b[38;5;241m.\u001b[39mis_integer(rvalues)\n\u001b[1;32m--> 454\u001b[0m res_values \u001b[38;5;241m=\u001b[39m \u001b[43mna_logical_op\u001b[49m\u001b[43m(\u001b[49m\u001b[43mlvalues\u001b[49m\u001b[43m,\u001b[49m\u001b[43m \u001b[49m\u001b[43mrvalues\u001b[49m\u001b[43m,\u001b[49m\u001b[43m \u001b[49m\u001b[43mop\u001b[49m\u001b[43m)\u001b[49m\n\u001b[0;32m    456\u001b[0m \u001b[38;5;66;03m# For int vs int `^`, `|`, `&` are bitwise operators and return\u001b[39;00m\n\u001b[0;32m    457\u001b[0m \u001b[38;5;66;03m#   integer dtypes.  Otherwise these are boolean ops\u001b[39;00m\n\u001b[0;32m    458\u001b[0m \u001b[38;5;28;01mif\u001b[39;00m \u001b[38;5;129;01mnot\u001b[39;00m (left\u001b[38;5;241m.\u001b[39mdtype\u001b[38;5;241m.\u001b[39mkind \u001b[38;5;129;01min\u001b[39;00m \u001b[38;5;124m\"\u001b[39m\u001b[38;5;124miu\u001b[39m\u001b[38;5;124m\"\u001b[39m \u001b[38;5;129;01mand\u001b[39;00m is_other_int_dtype):\n",
            "File \u001b[1;32mc:\\Users\\nicol\\OneDrive\\Documentos\\VSCLocal\\nicolas-env\\Lib\\site-packages\\pandas\\core\\ops\\array_ops.py:369\u001b[0m, in \u001b[0;36mna_logical_op\u001b[1;34m(x, y, op)\u001b[0m\n\u001b[0;32m    367\u001b[0m     x \u001b[38;5;241m=\u001b[39m ensure_object(x)\n\u001b[0;32m    368\u001b[0m     y \u001b[38;5;241m=\u001b[39m ensure_object(y)\n\u001b[1;32m--> 369\u001b[0m     result \u001b[38;5;241m=\u001b[39m \u001b[43mlibops\u001b[49m\u001b[38;5;241;43m.\u001b[39;49m\u001b[43mvec_binop\u001b[49m\u001b[43m(\u001b[49m\u001b[43mx\u001b[49m\u001b[38;5;241;43m.\u001b[39;49m\u001b[43mravel\u001b[49m\u001b[43m(\u001b[49m\u001b[43m)\u001b[49m\u001b[43m,\u001b[49m\u001b[43m \u001b[49m\u001b[43my\u001b[49m\u001b[38;5;241;43m.\u001b[39;49m\u001b[43mravel\u001b[49m\u001b[43m(\u001b[49m\u001b[43m)\u001b[49m\u001b[43m,\u001b[49m\u001b[43m \u001b[49m\u001b[43mop\u001b[49m\u001b[43m)\u001b[49m\n\u001b[0;32m    370\u001b[0m \u001b[38;5;28;01melse\u001b[39;00m:\n\u001b[0;32m    371\u001b[0m     \u001b[38;5;66;03m# let null fall thru\u001b[39;00m\n\u001b[0;32m    372\u001b[0m     \u001b[38;5;28;01massert\u001b[39;00m lib\u001b[38;5;241m.\u001b[39mis_scalar(y)\n",
            "File \u001b[1;32mops.pyx:252\u001b[0m, in \u001b[0;36mpandas._libs.ops.vec_binop\u001b[1;34m()\u001b[0m\n",
            "File \u001b[1;32mops.pyx:245\u001b[0m, in \u001b[0;36mpandas._libs.ops.vec_binop\u001b[1;34m()\u001b[0m\n",
            "\u001b[1;31mTypeError\u001b[0m: unsupported operand type(s) for &: 'float' and 'bool'"
          ]
        }
      ],
      "source": [
        "# YOUR CODE HERE\n",
        "print(f\"Clientes en nómina en 2020 a 2021: {((df_all[df_all['NOMINA_x']==1]) & (df_all['_merge']=='left_only')).shape[0]}\")"
      ]
    },
    {
      "cell_type": "markdown",
      "metadata": {
        "id": "qaRA0jAcmDWC"
      },
      "source": [
        "#### Clientes que ya no tienen nómina en 2021"
      ]
    },
    {
      "cell_type": "code",
      "execution_count": null,
      "metadata": {
        "colab": {
          "base_uri": "https://localhost:8080/"
        },
        "id": "_lvsrNYh9Y-o",
        "outputId": "801bf967-5f41-4527-a637-938d6197db49"
      },
      "outputs": [
        {
          "name": "stdout",
          "output_type": "stream",
          "text": [
            "Clientes que ya no tienen nómina en 2021:  1\n"
          ]
        }
      ],
      "source": [
        "# YOUR CODE HERE"
      ]
    },
    {
      "cell_type": "markdown",
      "metadata": {
        "id": "9NTVKaBjmGXj"
      },
      "source": [
        "#### Clientes que permanecen en nómina en 2021"
      ]
    },
    {
      "cell_type": "code",
      "execution_count": null,
      "metadata": {
        "colab": {
          "base_uri": "https://localhost:8080/"
        },
        "id": "YBT209LU6xrR",
        "outputId": "91c7641e-cbe4-4847-e554-5a4688541451"
      },
      "outputs": [
        {
          "name": "stdout",
          "output_type": "stream",
          "text": [
            "Clientes que permanecen en nómina en 2021:  444\n"
          ]
        }
      ],
      "source": [
        "# YOUR CODE HERE"
      ]
    },
    {
      "cell_type": "markdown",
      "metadata": {
        "id": "SfwRNzRsmJ-U"
      },
      "source": [
        "#### Clientes dados de alta en 2021 y con nómina"
      ]
    },
    {
      "cell_type": "code",
      "execution_count": null,
      "metadata": {
        "colab": {
          "base_uri": "https://localhost:8080/"
        },
        "id": "euxVBwAqufH7",
        "outputId": "16559775-3ba2-41fa-c116-f24251bb00ff"
      },
      "outputs": [
        {
          "name": "stdout",
          "output_type": "stream",
          "text": [
            "Clientes con nómina dados de alta en 2021:  35\n"
          ]
        }
      ],
      "source": [
        "# YOUR CODE HERE"
      ]
    },
    {
      "cell_type": "markdown",
      "metadata": {
        "id": "sQyUeYlImSTg"
      },
      "source": [
        "#### Clientes que pasan a tener nómina en 2021 y que en 2020 tenían Pensión"
      ]
    },
    {
      "cell_type": "code",
      "execution_count": null,
      "metadata": {
        "colab": {
          "base_uri": "https://localhost:8080/"
        },
        "id": "NQo7lPJhCW2B",
        "outputId": "4f7bb833-7348-49d4-8a55-dcd6b4595969"
      },
      "outputs": [
        {
          "name": "stdout",
          "output_type": "stream",
          "text": [
            "Clientes que pasan a tener nómina en 2021 (PENSIÓN):  28\n"
          ]
        }
      ],
      "source": [
        "# YOUR CODE HERE"
      ]
    },
    {
      "cell_type": "markdown",
      "metadata": {
        "id": "cOsWnd1Tmg9t"
      },
      "source": [
        "#### Clientes que pasan a tener nómina en 2021 y que en 2020 tenían Desempleo"
      ]
    },
    {
      "cell_type": "code",
      "execution_count": null,
      "metadata": {
        "colab": {
          "base_uri": "https://localhost:8080/"
        },
        "id": "5I0sGr22FAZU",
        "outputId": "479684e3-216e-40f9-c7b2-783e619f20f1"
      },
      "outputs": [
        {
          "name": "stdout",
          "output_type": "stream",
          "text": [
            "Clientes que pasan a tener nómina en 2021 (DESEMPLEO):  13\n"
          ]
        }
      ],
      "source": [
        "# YOUR CODE HERE"
      ]
    },
    {
      "cell_type": "markdown",
      "metadata": {
        "id": "-cDw-RfTmp6F"
      },
      "source": [
        "#### Clientes que pasan a tener nómina en 2021 (únicamente nuevas nóminas, descartando aquellos que tenían desempleo o pensión en 2020"
      ]
    },
    {
      "cell_type": "code",
      "execution_count": null,
      "metadata": {
        "colab": {
          "base_uri": "https://localhost:8080/"
        },
        "id": "x6Y9OtjOFHkV",
        "outputId": "6354232b-27e9-4ac0-a0f6-d6673741aeed"
      },
      "outputs": [
        {
          "name": "stdout",
          "output_type": "stream",
          "text": [
            "Clientes que pasan a tener nómina en 2021 (NUEVAS NÓMINAS):  18\n"
          ]
        }
      ],
      "source": [
        "# YOUR CODE HERE"
      ]
    },
    {
      "cell_type": "markdown",
      "metadata": {
        "id": "fDnkBb_km0Zz"
      },
      "source": [
        "#### Clientes totales con nómina en 2021"
      ]
    },
    {
      "cell_type": "code",
      "execution_count": null,
      "metadata": {
        "colab": {
          "base_uri": "https://localhost:8080/"
        },
        "id": "chISfU0VCyol",
        "outputId": "e5ef04e6-0756-42f2-8153-d7360095b027"
      },
      "outputs": [
        {
          "name": "stdout",
          "output_type": "stream",
          "text": [
            "Clientes con nómina en 2021:  538\n"
          ]
        }
      ],
      "source": [
        "# YOUR CODE HERE"
      ]
    }
  ],
  "metadata": {
    "colab": {
      "provenance": []
    },
    "kernelspec": {
      "display_name": "Python 3",
      "name": "python3"
    },
    "language_info": {
      "codemirror_mode": {
        "name": "ipython",
        "version": 3
      },
      "file_extension": ".py",
      "mimetype": "text/x-python",
      "name": "python",
      "nbconvert_exporter": "python",
      "pygments_lexer": "ipython3",
      "version": "3.12.0"
    }
  },
  "nbformat": 4,
  "nbformat_minor": 0
}
