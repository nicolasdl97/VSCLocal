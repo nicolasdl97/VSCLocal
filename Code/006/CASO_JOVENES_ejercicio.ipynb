{
  "cells": [
    {
      "cell_type": "markdown",
      "metadata": {
        "id": "Ty8ko7FoyFbu"
      },
      "source": [
        "# CASO JÓVENES\n",
        "\n",
        "Queremos resolver dos preguntas relacionadas con los jóvenes (clientes entre 18 y 29 años):\n",
        "1ª Pregunta: ¿cómo son?\n",
        "2ª Pregunta. ¿cómo han evolucionado respecto a Noviembre 2020?"
      ]
    },
    {
      "cell_type": "markdown",
      "metadata": {
        "id": "UFOHIBmKVBTS"
      },
      "source": [
        "### Abrir el fichero de datos"
      ]
    },
    {
      "cell_type": "code",
      "execution_count": 1,
      "metadata": {
        "id": "C7xdJN3AR9wj"
      },
      "outputs": [],
      "source": [
        "import pandas as pd"
      ]
    },
    {
      "cell_type": "code",
      "execution_count": 2,
      "metadata": {
        "colab": {
          "base_uri": "https://localhost:8080/"
        },
        "id": "qFG8VIjdTXt5",
        "outputId": "8d6f4c5d-01b4-4a05-b3b2-7033fef29140"
      },
      "outputs": [
        {
          "data": {
            "text/plain": [
              "CCLIEN                int64\n",
              "COD EDAD              int64\n",
              "COD_TERRIT            int64\n",
              "SALDO CUENTA          int64\n",
              "IMPORTE CONSUMO       int64\n",
              "SEGURO COCHE          int64\n",
              "IMPORTE HIPOTECA    float64\n",
              "TENENCIA NOMINA       int64\n",
              "XTI_IDEFISCO          int64\n",
              "dtype: object"
            ]
          },
          "execution_count": 2,
          "metadata": {},
          "output_type": "execute_result"
        }
      ],
      "source": [
        "df = pd.read_csv('C:/Users/nicol/OneDrive/Documentos/VSCLocal/Data/datos/006/3. CASO JÓVENES.xlsx - BASE CLIENTES NOV21.csv')\n",
        "df.dtypes"
      ]
    },
    {
      "cell_type": "markdown",
      "metadata": {
        "id": "83BDeVRJyr-S"
      },
      "source": [
        "#### Filtros\n",
        "Es un problema de clientes particulares, así tendremos que filtrar a las personas jurídicas, que si comprobamos en el catálogo, se seleccionan por XTI_IDEFISCO = 2 Ó 3"
      ]
    },
    {
      "cell_type": "code",
      "execution_count": 3,
      "metadata": {
        "colab": {
          "base_uri": "https://localhost:8080/"
        },
        "id": "jJEgOXDWywvr",
        "outputId": "22597c6e-c135-4ad1-dffb-ba1a84fa2350"
      },
      "outputs": [
        {
          "name": "stdout",
          "output_type": "stream",
          "text": [
            "Número de registros:  1000\n",
            "Número de registros filtrando por particulares:  915\n"
          ]
        }
      ],
      "source": [
        "print('Número de registros: ', df.shape[0])\n",
        "df_filtro_partic = df[(df['XTI_IDEFISCO'] != 2) & (df['XTI_IDEFISCO'] != 3)]\n",
        "print('Número de registros filtrando por particulares: ', df_filtro_partic.shape[0])"
      ]
    },
    {
      "cell_type": "markdown",
      "metadata": {
        "id": "IVTk0TsGyw8c"
      },
      "source": [
        "#### Limpieza de datos\n",
        "Comprobamos si hay missing values, sustituyéndolos por 0"
      ]
    },
    {
      "cell_type": "code",
      "execution_count": 4,
      "metadata": {
        "colab": {
          "base_uri": "https://localhost:8080/"
        },
        "id": "RzciGN7sy4RA",
        "outputId": "8e21246a-fb26-47b4-bf11-1d1c41955865"
      },
      "outputs": [
        {
          "data": {
            "text/plain": [
              "CCLIEN              0\n",
              "COD EDAD            0\n",
              "COD_TERRIT          0\n",
              "SALDO CUENTA        0\n",
              "IMPORTE CONSUMO     0\n",
              "SEGURO COCHE        0\n",
              "IMPORTE HIPOTECA    4\n",
              "TENENCIA NOMINA     0\n",
              "XTI_IDEFISCO        0\n",
              "dtype: int64"
            ]
          },
          "execution_count": 4,
          "metadata": {},
          "output_type": "execute_result"
        }
      ],
      "source": [
        "df_filtro_partic.isna().sum()"
      ]
    },
    {
      "cell_type": "code",
      "execution_count": 5,
      "metadata": {
        "id": "6jrlq5jG326z"
      },
      "outputs": [],
      "source": [
        "df_limpio = df_filtro_partic.fillna(0)"
      ]
    },
    {
      "cell_type": "code",
      "execution_count": 6,
      "metadata": {
        "colab": {
          "base_uri": "https://localhost:8080/"
        },
        "id": "W7AuhfHt352G",
        "outputId": "1d972b09-5e63-4e6d-a679-3b7cae05a2b0"
      },
      "outputs": [
        {
          "data": {
            "text/plain": [
              "CCLIEN              0\n",
              "COD EDAD            0\n",
              "COD_TERRIT          0\n",
              "SALDO CUENTA        0\n",
              "IMPORTE CONSUMO     0\n",
              "SEGURO COCHE        0\n",
              "IMPORTE HIPOTECA    0\n",
              "TENENCIA NOMINA     0\n",
              "XTI_IDEFISCO        0\n",
              "dtype: int64"
            ]
          },
          "execution_count": 6,
          "metadata": {},
          "output_type": "execute_result"
        }
      ],
      "source": [
        "df_limpio.isna().sum()"
      ]
    },
    {
      "cell_type": "markdown",
      "metadata": {
        "id": "tkAjCG5Sy499"
      },
      "source": [
        "#### Variables contador\n",
        "* Generamos variables contador de tenencia de productos y de hipoteca\n",
        "* Generamos variable de tramo de edad: menores, jóvenes, entre 30 y 59 y mayores de 59 años"
      ]
    },
    {
      "cell_type": "code",
      "execution_count": 7,
      "metadata": {
        "id": "ZRdsniAqzi8R"
      },
      "outputs": [],
      "source": [
        "import numpy as np\n",
        "\n",
        "df_limpio['HIPOTECA'] = np.where(df_limpio['IMPORTE HIPOTECA'] > 0, 1, 0)\n",
        "df_limpio['CONSUMO'] = np.where(df_limpio['IMPORTE CONSUMO'] > 0, 1, 0)"
      ]
    },
    {
      "cell_type": "code",
      "execution_count": 9,
      "metadata": {
        "colab": {
          "base_uri": "https://localhost:8080/"
        },
        "id": "naC_uzRK4TZu",
        "outputId": "06a8c77b-e4a5-4d2c-9e69-edd8af9b2e2d"
      },
      "outputs": [
        {
          "data": {
            "text/plain": [
              "0      B\n",
              "1      C\n",
              "2      B\n",
              "3      B\n",
              "4      B\n",
              "      ..\n",
              "995    B\n",
              "996    D\n",
              "997    B\n",
              "998    D\n",
              "999    B\n",
              "Name: TRAMO_EDAD, Length: 915, dtype: object"
            ]
          },
          "execution_count": 9,
          "metadata": {},
          "output_type": "execute_result"
        }
      ],
      "source": [
        "conditions = [\n",
        "    (df_limpio['COD EDAD'] < 18),\n",
        "    (df_limpio['COD EDAD'] >= 18) & (df_limpio['COD EDAD'] < 30),\n",
        "    (df_limpio['COD EDAD'] >= 30) & (df_limpio['COD EDAD'] <= 59),\n",
        "    (df_limpio['COD EDAD'] > 59),\n",
        "]\n",
        "\n",
        "choices = ['A', 'B', 'D', 'C']\n",
        "\n",
        "df_limpio['TRAMO_EDAD'] = np.select(conditions, choices, default=0)\n",
        "df_limpio['TRAMO_EDAD']"
      ]
    },
    {
      "cell_type": "code",
      "execution_count": 10,
      "metadata": {
        "colab": {
          "base_uri": "https://localhost:8080/",
          "height": 206
        },
        "id": "n8us1S1j7IZJ",
        "outputId": "2a768ba1-0ed2-4adb-cbf2-43c116b37456"
      },
      "outputs": [
        {
          "data": {
            "text/html": [
              "<div>\n",
              "<style scoped>\n",
              "    .dataframe tbody tr th:only-of-type {\n",
              "        vertical-align: middle;\n",
              "    }\n",
              "\n",
              "    .dataframe tbody tr th {\n",
              "        vertical-align: top;\n",
              "    }\n",
              "\n",
              "    .dataframe thead th {\n",
              "        text-align: right;\n",
              "    }\n",
              "</style>\n",
              "<table border=\"1\" class=\"dataframe\">\n",
              "  <thead>\n",
              "    <tr style=\"text-align: right;\">\n",
              "      <th></th>\n",
              "      <th>TRAMO_EDAD</th>\n",
              "      <th>TENENCIA NOMINA</th>\n",
              "      <th>IMPORTE CONSUMO</th>\n",
              "      <th>CONSUMO</th>\n",
              "      <th>IMPORTE HIPOTECA</th>\n",
              "      <th>HIPOTECA</th>\n",
              "      <th>SEGURO COCHE</th>\n",
              "      <th>SALDO CUENTA</th>\n",
              "    </tr>\n",
              "    <tr>\n",
              "      <th>TRAMO_EDAD</th>\n",
              "      <th></th>\n",
              "      <th></th>\n",
              "      <th></th>\n",
              "      <th></th>\n",
              "      <th></th>\n",
              "      <th></th>\n",
              "      <th></th>\n",
              "      <th></th>\n",
              "    </tr>\n",
              "  </thead>\n",
              "  <tbody>\n",
              "    <tr>\n",
              "      <th>A</th>\n",
              "      <td>57</td>\n",
              "      <td>0</td>\n",
              "      <td>0</td>\n",
              "      <td>0</td>\n",
              "      <td>0.0</td>\n",
              "      <td>0</td>\n",
              "      <td>0</td>\n",
              "      <td>96100</td>\n",
              "    </tr>\n",
              "    <tr>\n",
              "      <th>B</th>\n",
              "      <td>426</td>\n",
              "      <td>136</td>\n",
              "      <td>1283594</td>\n",
              "      <td>237</td>\n",
              "      <td>9299289.0</td>\n",
              "      <td>55</td>\n",
              "      <td>118</td>\n",
              "      <td>2014668</td>\n",
              "    </tr>\n",
              "    <tr>\n",
              "      <th>C</th>\n",
              "      <td>157</td>\n",
              "      <td>21</td>\n",
              "      <td>252730</td>\n",
              "      <td>50</td>\n",
              "      <td>3739769.0</td>\n",
              "      <td>19</td>\n",
              "      <td>36</td>\n",
              "      <td>8259325</td>\n",
              "    </tr>\n",
              "    <tr>\n",
              "      <th>D</th>\n",
              "      <td>275</td>\n",
              "      <td>142</td>\n",
              "      <td>847728</td>\n",
              "      <td>165</td>\n",
              "      <td>24092870.0</td>\n",
              "      <td>140</td>\n",
              "      <td>96</td>\n",
              "      <td>13186452</td>\n",
              "    </tr>\n",
              "  </tbody>\n",
              "</table>\n",
              "</div>"
            ],
            "text/plain": [
              "            TRAMO_EDAD  TENENCIA NOMINA  IMPORTE CONSUMO  CONSUMO  \\\n",
              "TRAMO_EDAD                                                          \n",
              "A                   57                0                0        0   \n",
              "B                  426              136          1283594      237   \n",
              "C                  157               21           252730       50   \n",
              "D                  275              142           847728      165   \n",
              "\n",
              "            IMPORTE HIPOTECA  HIPOTECA  SEGURO COCHE  SALDO CUENTA  \n",
              "TRAMO_EDAD                                                          \n",
              "A                        0.0         0             0         96100  \n",
              "B                  9299289.0        55           118       2014668  \n",
              "C                  3739769.0        19            36       8259325  \n",
              "D                 24092870.0       140            96      13186452  "
            ]
          },
          "execution_count": 10,
          "metadata": {},
          "output_type": "execute_result"
        }
      ],
      "source": [
        "df_limpio.groupby('TRAMO_EDAD').agg({'TRAMO_EDAD': 'count',\n",
        "                                     'TENENCIA NOMINA': 'sum',\n",
        "                                     'IMPORTE CONSUMO':'sum',\n",
        "                                     'CONSUMO': 'sum',\n",
        "                                     'IMPORTE HIPOTECA':'sum',\n",
        "                                     'HIPOTECA': 'sum',\n",
        "                                     'SEGURO COCHE': 'sum',\n",
        "                                     'SALDO CUENTA': 'sum'})"
      ]
    },
    {
      "cell_type": "code",
      "execution_count": 11,
      "metadata": {
        "colab": {
          "base_uri": "https://localhost:8080/",
          "height": 206
        },
        "id": "GKbT27-VAPp0",
        "outputId": "da0dd584-b8e5-47d9-9a58-6ac1d1569a8b"
      },
      "outputs": [
        {
          "data": {
            "text/html": [
              "<div>\n",
              "<style scoped>\n",
              "    .dataframe tbody tr th:only-of-type {\n",
              "        vertical-align: middle;\n",
              "    }\n",
              "\n",
              "    .dataframe tbody tr th {\n",
              "        vertical-align: top;\n",
              "    }\n",
              "\n",
              "    .dataframe thead th {\n",
              "        text-align: right;\n",
              "    }\n",
              "</style>\n",
              "<table border=\"1\" class=\"dataframe\">\n",
              "  <thead>\n",
              "    <tr style=\"text-align: right;\">\n",
              "      <th></th>\n",
              "      <th>TRAMO_EDAD</th>\n",
              "      <th>TENENCIA NOMINA</th>\n",
              "      <th>CONSUMO</th>\n",
              "      <th>HIPOTECA</th>\n",
              "      <th>SEGURO COCHE</th>\n",
              "      <th>SALDO CUENTA</th>\n",
              "    </tr>\n",
              "    <tr>\n",
              "      <th>TRAMO_EDAD</th>\n",
              "      <th></th>\n",
              "      <th></th>\n",
              "      <th></th>\n",
              "      <th></th>\n",
              "      <th></th>\n",
              "      <th></th>\n",
              "    </tr>\n",
              "  </thead>\n",
              "  <tbody>\n",
              "    <tr>\n",
              "      <th>A</th>\n",
              "      <td>6.229508</td>\n",
              "      <td>0.000000</td>\n",
              "      <td>0.000000</td>\n",
              "      <td>0.000000</td>\n",
              "      <td>0.000000</td>\n",
              "      <td>1685.964912</td>\n",
              "    </tr>\n",
              "    <tr>\n",
              "      <th>B</th>\n",
              "      <td>46.557377</td>\n",
              "      <td>31.924883</td>\n",
              "      <td>55.633803</td>\n",
              "      <td>12.910798</td>\n",
              "      <td>27.699531</td>\n",
              "      <td>4729.267606</td>\n",
              "    </tr>\n",
              "    <tr>\n",
              "      <th>C</th>\n",
              "      <td>17.158470</td>\n",
              "      <td>13.375796</td>\n",
              "      <td>31.847134</td>\n",
              "      <td>12.101911</td>\n",
              "      <td>22.929936</td>\n",
              "      <td>52607.165605</td>\n",
              "    </tr>\n",
              "    <tr>\n",
              "      <th>D</th>\n",
              "      <td>30.054645</td>\n",
              "      <td>51.636364</td>\n",
              "      <td>60.000000</td>\n",
              "      <td>50.909091</td>\n",
              "      <td>34.909091</td>\n",
              "      <td>47950.734545</td>\n",
              "    </tr>\n",
              "  </tbody>\n",
              "</table>\n",
              "</div>"
            ],
            "text/plain": [
              "            TRAMO_EDAD  TENENCIA NOMINA    CONSUMO   HIPOTECA  SEGURO COCHE  \\\n",
              "TRAMO_EDAD                                                                    \n",
              "A             6.229508         0.000000   0.000000   0.000000      0.000000   \n",
              "B            46.557377        31.924883  55.633803  12.910798     27.699531   \n",
              "C            17.158470        13.375796  31.847134  12.101911     22.929936   \n",
              "D            30.054645        51.636364  60.000000  50.909091     34.909091   \n",
              "\n",
              "            SALDO CUENTA  \n",
              "TRAMO_EDAD                \n",
              "A            1685.964912  \n",
              "B            4729.267606  \n",
              "C           52607.165605  \n",
              "D           47950.734545  "
            ]
          },
          "execution_count": 11,
          "metadata": {},
          "output_type": "execute_result"
        }
      ],
      "source": [
        "df_limpio.groupby('TRAMO_EDAD').agg({'TRAMO_EDAD': lambda x: x.count() / df_limpio.shape[0] * 100,\n",
        "                                     'TENENCIA NOMINA': lambda x: x.sum() / float(x.count()) * 100,\n",
        "                                     'CONSUMO': lambda x: x.sum() / float(x.count()) * 100,\n",
        "                                     'HIPOTECA': lambda x: x.sum() / float(x.count()) * 100,\n",
        "                                     'SEGURO COCHE': lambda x: x.sum() / float(x.count()) * 100,\n",
        "                                     'SALDO CUENTA': lambda x: x.sum() / float(x.count())})"
      ]
    },
    {
      "cell_type": "markdown",
      "metadata": {
        "id": "ip56Sg4czz3_"
      },
      "source": [
        "* 1ª Conclusión: los jóvenes suponen un 46,56% de mi base de clientes\n",
        "* 2ª Conclusión: destaca su tenencia de consumo, así como su tenencia de seguro de coche"
      ]
    },
    {
      "cell_type": "markdown",
      "metadata": {
        "id": "BcBmV-jBz10r"
      },
      "source": [
        "#### Cruce de las bases de datos\n",
        "\n",
        "Vamos a calcular cómo ha evolucionado mi base de jóvenes respecto a Noviembre 2020 (sin filtros)"
      ]
    },
    {
      "cell_type": "code",
      "execution_count": 12,
      "metadata": {
        "colab": {
          "base_uri": "https://localhost:8080/"
        },
        "id": "Yw1xwGezM9Oq",
        "outputId": "ce7968ef-da2d-4679-cbf9-a188748c1635"
      },
      "outputs": [
        {
          "name": "stdout",
          "output_type": "stream",
          "text": [
            "(1000, 9)\n",
            "(949, 9)\n"
          ]
        }
      ],
      "source": [
        "df_2021 = pd.read_csv('C:/Users/nicol/OneDrive/Documentos/VSCLocal/Data/datos/006/3. CASO JÓVENES.xlsx - BASE CLIENTES NOV21.csv')\n",
        "print(df_2021.shape)\n",
        "\n",
        "df_2020 = pd.read_csv('C:/Users/nicol/OneDrive/Documentos/VSCLocal/Data/datos/006/3. CASO JÓVENES.xlsx - BASE CLIENTES NOV20.csv')\n",
        "print(df_2020.shape)"
      ]
    },
    {
      "cell_type": "code",
      "execution_count": 13,
      "metadata": {
        "colab": {
          "base_uri": "https://localhost:8080/"
        },
        "id": "jCozDWF2N_Fk",
        "outputId": "5f6c905e-6c95-4a0b-ebb2-596973257533"
      },
      "outputs": [
        {
          "name": "stdout",
          "output_type": "stream",
          "text": [
            "Numero de clientes que cruzan:  889\n"
          ]
        }
      ],
      "source": [
        "result = pd.merge(\n",
        "    df_2021,\n",
        "    df_2020,\n",
        "    how=\"inner\",\n",
        "    on=\"CCLIEN\")\n",
        "print(\"Numero de clientes que cruzan: \", result.shape[0])"
      ]
    },
    {
      "cell_type": "markdown",
      "metadata": {
        "id": "H0IpEank0FOT"
      },
      "source": [
        "1) En primer lugar vamos a ver cómo ha evolucionado la base completa de clientes y posteriormente veremos cómo ha evolucionado la base de jóvenes"
      ]
    },
    {
      "cell_type": "code",
      "execution_count": 37,
      "metadata": {
        "colab": {
          "base_uri": "https://localhost:8080/"
        },
        "id": "iwyXw3QiSZmt",
        "outputId": "1d94b162-7599-472b-b226-1da27f611007"
      },
      "outputs": [
        {
          "name": "stdout",
          "output_type": "stream",
          "text": [
            "ALTAS: 111\n",
            "BAJAS: 60\n",
            "PERMANECEN: 889\n"
          ]
        }
      ],
      "source": [
        "print(f\"ALTAS: {df_2021.shape[0]-result.shape[0]}\")\n",
        "print(f\"BAJAS: {df_2020.shape[0]-result.shape[0]}\")\n",
        "print(f\"PERMANECEN: {result.shape[0]}\")"
      ]
    },
    {
      "cell_type": "code",
      "execution_count": 38,
      "metadata": {},
      "outputs": [
        {
          "data": {
            "text/html": [
              "<div>\n",
              "<style scoped>\n",
              "    .dataframe tbody tr th:only-of-type {\n",
              "        vertical-align: middle;\n",
              "    }\n",
              "\n",
              "    .dataframe tbody tr th {\n",
              "        vertical-align: top;\n",
              "    }\n",
              "\n",
              "    .dataframe thead th {\n",
              "        text-align: right;\n",
              "    }\n",
              "</style>\n",
              "<table border=\"1\" class=\"dataframe\">\n",
              "  <thead>\n",
              "    <tr style=\"text-align: right;\">\n",
              "      <th></th>\n",
              "      <th>CCLIEN</th>\n",
              "      <th>COD EDAD_x</th>\n",
              "      <th>COD_TERRIT_x</th>\n",
              "      <th>SALDO CUENTA_x</th>\n",
              "      <th>IMPORTE CONSUMO_x</th>\n",
              "      <th>SEGURO COCHE_x</th>\n",
              "      <th>IMPORTE HIPOTECA_x</th>\n",
              "      <th>TENENCIA NOMINA_x</th>\n",
              "      <th>XTI_IDEFISCO_x</th>\n",
              "      <th>COD EDAD_y</th>\n",
              "      <th>COD_TERRIT_y</th>\n",
              "      <th>SALDO CUENTA_y</th>\n",
              "      <th>IMPORTE CONSUMO_y</th>\n",
              "      <th>SEGURO COCHE_y</th>\n",
              "      <th>IMPORTE HIPOTECA_y</th>\n",
              "      <th>TENENCIA NOMINA_y</th>\n",
              "      <th>XTI_IDEFISCO_y</th>\n",
              "      <th>JOVEN</th>\n",
              "    </tr>\n",
              "  </thead>\n",
              "  <tbody>\n",
              "    <tr>\n",
              "      <th>0</th>\n",
              "      <td>75328</td>\n",
              "      <td>22</td>\n",
              "      <td>72</td>\n",
              "      <td>9396</td>\n",
              "      <td>3006</td>\n",
              "      <td>0</td>\n",
              "      <td>0.0</td>\n",
              "      <td>0</td>\n",
              "      <td>1</td>\n",
              "      <td>21</td>\n",
              "      <td>72</td>\n",
              "      <td>10801</td>\n",
              "      <td>2442</td>\n",
              "      <td>0</td>\n",
              "      <td>150000</td>\n",
              "      <td>0</td>\n",
              "      <td>1</td>\n",
              "      <td>1</td>\n",
              "    </tr>\n",
              "    <tr>\n",
              "      <th>1</th>\n",
              "      <td>66872</td>\n",
              "      <td>34</td>\n",
              "      <td>63</td>\n",
              "      <td>24124</td>\n",
              "      <td>2644</td>\n",
              "      <td>1</td>\n",
              "      <td>309954.0</td>\n",
              "      <td>1</td>\n",
              "      <td>1</td>\n",
              "      <td>33</td>\n",
              "      <td>63</td>\n",
              "      <td>27731</td>\n",
              "      <td>2148</td>\n",
              "      <td>1</td>\n",
              "      <td>272524</td>\n",
              "      <td>1</td>\n",
              "      <td>1</td>\n",
              "      <td>0</td>\n",
              "    </tr>\n",
              "    <tr>\n",
              "      <th>2</th>\n",
              "      <td>17769</td>\n",
              "      <td>25</td>\n",
              "      <td>63</td>\n",
              "      <td>4097</td>\n",
              "      <td>0</td>\n",
              "      <td>0</td>\n",
              "      <td>239255.0</td>\n",
              "      <td>0</td>\n",
              "      <td>1</td>\n",
              "      <td>24</td>\n",
              "      <td>63</td>\n",
              "      <td>4709</td>\n",
              "      <td>5000</td>\n",
              "      <td>0</td>\n",
              "      <td>210362</td>\n",
              "      <td>0</td>\n",
              "      <td>1</td>\n",
              "      <td>1</td>\n",
              "    </tr>\n",
              "    <tr>\n",
              "      <th>3</th>\n",
              "      <td>68575</td>\n",
              "      <td>28</td>\n",
              "      <td>51</td>\n",
              "      <td>7773</td>\n",
              "      <td>2082</td>\n",
              "      <td>0</td>\n",
              "      <td>0.0</td>\n",
              "      <td>0</td>\n",
              "      <td>1</td>\n",
              "      <td>27</td>\n",
              "      <td>51</td>\n",
              "      <td>8935</td>\n",
              "      <td>1691</td>\n",
              "      <td>0</td>\n",
              "      <td>150000</td>\n",
              "      <td>0</td>\n",
              "      <td>1</td>\n",
              "      <td>1</td>\n",
              "    </tr>\n",
              "    <tr>\n",
              "      <th>4</th>\n",
              "      <td>50321</td>\n",
              "      <td>32</td>\n",
              "      <td>1525</td>\n",
              "      <td>56809</td>\n",
              "      <td>7737</td>\n",
              "      <td>0</td>\n",
              "      <td>0.0</td>\n",
              "      <td>0</td>\n",
              "      <td>1</td>\n",
              "      <td>31</td>\n",
              "      <td>1525</td>\n",
              "      <td>65304</td>\n",
              "      <td>6287</td>\n",
              "      <td>0</td>\n",
              "      <td>150000</td>\n",
              "      <td>0</td>\n",
              "      <td>1</td>\n",
              "      <td>0</td>\n",
              "    </tr>\n",
              "    <tr>\n",
              "      <th>...</th>\n",
              "      <td>...</td>\n",
              "      <td>...</td>\n",
              "      <td>...</td>\n",
              "      <td>...</td>\n",
              "      <td>...</td>\n",
              "      <td>...</td>\n",
              "      <td>...</td>\n",
              "      <td>...</td>\n",
              "      <td>...</td>\n",
              "      <td>...</td>\n",
              "      <td>...</td>\n",
              "      <td>...</td>\n",
              "      <td>...</td>\n",
              "      <td>...</td>\n",
              "      <td>...</td>\n",
              "      <td>...</td>\n",
              "      <td>...</td>\n",
              "      <td>...</td>\n",
              "    </tr>\n",
              "    <tr>\n",
              "      <th>884</th>\n",
              "      <td>71468</td>\n",
              "      <td>19</td>\n",
              "      <td>51</td>\n",
              "      <td>5363</td>\n",
              "      <td>2099</td>\n",
              "      <td>0</td>\n",
              "      <td>0.0</td>\n",
              "      <td>0</td>\n",
              "      <td>1</td>\n",
              "      <td>18</td>\n",
              "      <td>51</td>\n",
              "      <td>6165</td>\n",
              "      <td>1705</td>\n",
              "      <td>0</td>\n",
              "      <td>0</td>\n",
              "      <td>0</td>\n",
              "      <td>1</td>\n",
              "      <td>1</td>\n",
              "    </tr>\n",
              "    <tr>\n",
              "      <th>885</th>\n",
              "      <td>17594</td>\n",
              "      <td>46</td>\n",
              "      <td>8302</td>\n",
              "      <td>19344</td>\n",
              "      <td>0</td>\n",
              "      <td>1</td>\n",
              "      <td>0.0</td>\n",
              "      <td>0</td>\n",
              "      <td>1</td>\n",
              "      <td>45</td>\n",
              "      <td>8302</td>\n",
              "      <td>22236</td>\n",
              "      <td>0</td>\n",
              "      <td>1</td>\n",
              "      <td>0</td>\n",
              "      <td>0</td>\n",
              "      <td>1</td>\n",
              "      <td>0</td>\n",
              "    </tr>\n",
              "    <tr>\n",
              "      <th>886</th>\n",
              "      <td>70253</td>\n",
              "      <td>22</td>\n",
              "      <td>72</td>\n",
              "      <td>7697</td>\n",
              "      <td>0</td>\n",
              "      <td>1</td>\n",
              "      <td>0.0</td>\n",
              "      <td>0</td>\n",
              "      <td>1</td>\n",
              "      <td>21</td>\n",
              "      <td>72</td>\n",
              "      <td>8848</td>\n",
              "      <td>0</td>\n",
              "      <td>1</td>\n",
              "      <td>0</td>\n",
              "      <td>0</td>\n",
              "      <td>1</td>\n",
              "      <td>1</td>\n",
              "    </tr>\n",
              "    <tr>\n",
              "      <th>887</th>\n",
              "      <td>77577</td>\n",
              "      <td>44</td>\n",
              "      <td>1523</td>\n",
              "      <td>91195</td>\n",
              "      <td>4195</td>\n",
              "      <td>1</td>\n",
              "      <td>280510.0</td>\n",
              "      <td>1</td>\n",
              "      <td>1</td>\n",
              "      <td>43</td>\n",
              "      <td>1523</td>\n",
              "      <td>104832</td>\n",
              "      <td>3408</td>\n",
              "      <td>1</td>\n",
              "      <td>246635</td>\n",
              "      <td>1</td>\n",
              "      <td>1</td>\n",
              "      <td>0</td>\n",
              "    </tr>\n",
              "    <tr>\n",
              "      <th>888</th>\n",
              "      <td>84501</td>\n",
              "      <td>20</td>\n",
              "      <td>1523</td>\n",
              "      <td>847</td>\n",
              "      <td>0</td>\n",
              "      <td>1</td>\n",
              "      <td>0.0</td>\n",
              "      <td>1</td>\n",
              "      <td>1</td>\n",
              "      <td>19</td>\n",
              "      <td>1523</td>\n",
              "      <td>973</td>\n",
              "      <td>0</td>\n",
              "      <td>1</td>\n",
              "      <td>0</td>\n",
              "      <td>1</td>\n",
              "      <td>1</td>\n",
              "      <td>1</td>\n",
              "    </tr>\n",
              "  </tbody>\n",
              "</table>\n",
              "<p>889 rows × 18 columns</p>\n",
              "</div>"
            ],
            "text/plain": [
              "     CCLIEN  COD EDAD_x  COD_TERRIT_x  SALDO CUENTA_x  IMPORTE CONSUMO_x  \\\n",
              "0     75328          22            72            9396               3006   \n",
              "1     66872          34            63           24124               2644   \n",
              "2     17769          25            63            4097                  0   \n",
              "3     68575          28            51            7773               2082   \n",
              "4     50321          32          1525           56809               7737   \n",
              "..      ...         ...           ...             ...                ...   \n",
              "884   71468          19            51            5363               2099   \n",
              "885   17594          46          8302           19344                  0   \n",
              "886   70253          22            72            7697                  0   \n",
              "887   77577          44          1523           91195               4195   \n",
              "888   84501          20          1523             847                  0   \n",
              "\n",
              "     SEGURO COCHE_x  IMPORTE HIPOTECA_x  TENENCIA NOMINA_x  XTI_IDEFISCO_x  \\\n",
              "0                 0                 0.0                  0               1   \n",
              "1                 1            309954.0                  1               1   \n",
              "2                 0            239255.0                  0               1   \n",
              "3                 0                 0.0                  0               1   \n",
              "4                 0                 0.0                  0               1   \n",
              "..              ...                 ...                ...             ...   \n",
              "884               0                 0.0                  0               1   \n",
              "885               1                 0.0                  0               1   \n",
              "886               1                 0.0                  0               1   \n",
              "887               1            280510.0                  1               1   \n",
              "888               1                 0.0                  1               1   \n",
              "\n",
              "     COD EDAD_y  COD_TERRIT_y  SALDO CUENTA_y  IMPORTE CONSUMO_y  \\\n",
              "0            21            72           10801               2442   \n",
              "1            33            63           27731               2148   \n",
              "2            24            63            4709               5000   \n",
              "3            27            51            8935               1691   \n",
              "4            31          1525           65304               6287   \n",
              "..          ...           ...             ...                ...   \n",
              "884          18            51            6165               1705   \n",
              "885          45          8302           22236                  0   \n",
              "886          21            72            8848                  0   \n",
              "887          43          1523          104832               3408   \n",
              "888          19          1523             973                  0   \n",
              "\n",
              "     SEGURO COCHE_y IMPORTE HIPOTECA_y  TENENCIA NOMINA_y  XTI_IDEFISCO_y  \\\n",
              "0                 0             150000                  0               1   \n",
              "1                 1             272524                  1               1   \n",
              "2                 0             210362                  0               1   \n",
              "3                 0             150000                  0               1   \n",
              "4                 0             150000                  0               1   \n",
              "..              ...                ...                ...             ...   \n",
              "884               0                  0                  0               1   \n",
              "885               1                  0                  0               1   \n",
              "886               1                  0                  0               1   \n",
              "887               1             246635                  1               1   \n",
              "888               1                  0                  1               1   \n",
              "\n",
              "     JOVEN  \n",
              "0        1  \n",
              "1        0  \n",
              "2        1  \n",
              "3        1  \n",
              "4        0  \n",
              "..     ...  \n",
              "884      1  \n",
              "885      0  \n",
              "886      1  \n",
              "887      0  \n",
              "888      1  \n",
              "\n",
              "[889 rows x 18 columns]"
            ]
          },
          "execution_count": 38,
          "metadata": {},
          "output_type": "execute_result"
        }
      ],
      "source": [
        "result"
      ]
    },
    {
      "cell_type": "markdown",
      "metadata": {
        "id": "vz-_VTi70KtC"
      },
      "source": [
        "Se cumple el cálculo: Base Nov20 - Bajas = Clientes que permanecen o Base Nov21 - Altas = Clientes que permanecen"
      ]
    },
    {
      "cell_type": "markdown",
      "metadata": {
        "id": "vuC17Dq_0PEb"
      },
      "source": [
        "2) Vamos a hacer el mismo cálculo con los Jóvenes"
      ]
    },
    {
      "cell_type": "code",
      "execution_count": 36,
      "metadata": {},
      "outputs": [
        {
          "name": "stdout",
          "output_type": "stream",
          "text": [
            "JOVENES - 2021: 426\n",
            "JOVENES - 2020: 396\n",
            "JOVENES - PERMANECEN: 389\n",
            "ALTAS: 37\n",
            "BAJAS: 7\n"
          ]
        }
      ],
      "source": [
        "import numpy as np\n",
        "df_2021['JOVEN']=np.where((df_2021['COD EDAD'] >= 18) & (df_2021['COD EDAD'] < 30) & (df_2021['XTI_IDEFISCO'] !=2) & (df_2021['XTI_IDEFISCO'] !=3), 1, 0)\n",
        "df_2020['JOVEN']=np.where((df_2020['COD EDAD'] >= 18) & (df_2020['COD EDAD'] < 30) & (df_2020['XTI_IDEFISCO'] !=2) & (df_2020['XTI_IDEFISCO'] !=3), 1, 0)\n",
        "result['JOVEN']=np.where((result['COD EDAD_x'] >= 18) & (result['COD EDAD_x'] < 30) & (result['XTI_IDEFISCO_x'] !=2) & (result['XTI_IDEFISCO_x'] !=3), 1, 0)\n",
        "\n",
        "df_2021_jovenes=df_2021[df_2021['JOVEN']==1]\n",
        "df_2020_jovenes=df_2020[df_2020['JOVEN']==1]\n",
        "result_jovenes=result[result['JOVEN']==1]\n",
        "\n",
        "print(f\"JOVENES - 2021: {df_2021_jovenes.shape[0]}\")\n",
        "print(f\"JOVENES - 2020: {df_2020_jovenes.shape[0]}\")\n",
        "print(f\"JOVENES - PERMANECEN: {result_jovenes.shape[0]}\")\n",
        "print(f\"ALTAS: {df_2021_jovenes.shape[0]-result_jovenes.shape[0]}\")\n",
        "print(f\"BAJAS: {df_2020_jovenes.shape[0]-result_jovenes.shape[0]}\")"
      ]
    },
    {
      "cell_type": "code",
      "execution_count": 45,
      "metadata": {
        "colab": {
          "base_uri": "https://localhost:8080/"
        },
        "id": "TF0k_bu3ea5g",
        "outputId": "9ef2c0f2-224c-49c9-8201-245560b2b28b"
      },
      "outputs": [
        {
          "name": "stdout",
          "output_type": "stream",
          "text": [
            "Número de clientes que cruzan: 1060\n"
          ]
        },
        {
          "name": "stderr",
          "output_type": "stream",
          "text": [
            "C:\\Users\\nicol\\AppData\\Local\\Temp\\ipykernel_17892\\4036926657.py:6: FutureWarning: The default of observed=False is deprecated and will be changed to True in a future version of pandas. Pass observed=False to retain current behavior or observed=True to adopt the future default and silence this warning.\n",
            "  df_x.groupby('_merge').agg({'_merge':'count'})\n"
          ]
        },
        {
          "data": {
            "text/html": [
              "<div>\n",
              "<style scoped>\n",
              "    .dataframe tbody tr th:only-of-type {\n",
              "        vertical-align: middle;\n",
              "    }\n",
              "\n",
              "    .dataframe tbody tr th {\n",
              "        vertical-align: top;\n",
              "    }\n",
              "\n",
              "    .dataframe thead th {\n",
              "        text-align: right;\n",
              "    }\n",
              "</style>\n",
              "<table border=\"1\" class=\"dataframe\">\n",
              "  <thead>\n",
              "    <tr style=\"text-align: right;\">\n",
              "      <th></th>\n",
              "      <th>_merge</th>\n",
              "    </tr>\n",
              "    <tr>\n",
              "      <th>_merge</th>\n",
              "      <th></th>\n",
              "    </tr>\n",
              "  </thead>\n",
              "  <tbody>\n",
              "    <tr>\n",
              "      <th>left_only</th>\n",
              "      <td>30</td>\n",
              "    </tr>\n",
              "    <tr>\n",
              "      <th>right_only</th>\n",
              "      <td>0</td>\n",
              "    </tr>\n",
              "    <tr>\n",
              "      <th>both</th>\n",
              "      <td>366</td>\n",
              "    </tr>\n",
              "  </tbody>\n",
              "</table>\n",
              "</div>"
            ],
            "text/plain": [
              "            _merge\n",
              "_merge            \n",
              "left_only       30\n",
              "right_only       0\n",
              "both           366"
            ]
          },
          "execution_count": 45,
          "metadata": {},
          "output_type": "execute_result"
        }
      ],
      "source": [
        "df_all=df_2020.merge(df_2021,on=['CCLIEN'],\n",
        "                     how='outer',indicator=True)\n",
        "print(f\"Número de clientes que cruzan: {df_all.shape[0]}\")\n",
        "df_all['JOVEN_x']=np.where((df_all['COD EDAD_x'] >= 18) & (df_all['COD EDAD_x'] < 30) & (df_all['XTI_IDEFISCO_x'] !=2) & (df_all['XTI_IDEFISCO_x'] !=3), 1, 0)\n",
        "df_x=df_all[df_all['JOVEN_x']==1]\n",
        "df_x.groupby('_merge').agg({'_merge':'count'})\n"
      ]
    },
    {
      "cell_type": "code",
      "execution_count": 46,
      "metadata": {
        "colab": {
          "base_uri": "https://localhost:8080/"
        },
        "id": "qw_nJw47g9IF",
        "outputId": "e792bc1a-a978-4503-df62-8143fbea7560"
      },
      "outputs": [
        {
          "name": "stdout",
          "output_type": "stream",
          "text": [
            "Número de clientes que cruzan: 1060\n"
          ]
        },
        {
          "name": "stderr",
          "output_type": "stream",
          "text": [
            "C:\\Users\\nicol\\AppData\\Local\\Temp\\ipykernel_17892\\3883352370.py:6: FutureWarning: The default of observed=False is deprecated and will be changed to True in a future version of pandas. Pass observed=False to retain current behavior or observed=True to adopt the future default and silence this warning.\n",
            "  df_x.groupby('_merge').agg({'_merge':'count'})\n"
          ]
        },
        {
          "data": {
            "text/html": [
              "<div>\n",
              "<style scoped>\n",
              "    .dataframe tbody tr th:only-of-type {\n",
              "        vertical-align: middle;\n",
              "    }\n",
              "\n",
              "    .dataframe tbody tr th {\n",
              "        vertical-align: top;\n",
              "    }\n",
              "\n",
              "    .dataframe thead th {\n",
              "        text-align: right;\n",
              "    }\n",
              "</style>\n",
              "<table border=\"1\" class=\"dataframe\">\n",
              "  <thead>\n",
              "    <tr style=\"text-align: right;\">\n",
              "      <th></th>\n",
              "      <th>_merge</th>\n",
              "    </tr>\n",
              "    <tr>\n",
              "      <th>_merge</th>\n",
              "      <th></th>\n",
              "    </tr>\n",
              "  </thead>\n",
              "  <tbody>\n",
              "    <tr>\n",
              "      <th>left_only</th>\n",
              "      <td>0</td>\n",
              "    </tr>\n",
              "    <tr>\n",
              "      <th>right_only</th>\n",
              "      <td>37</td>\n",
              "    </tr>\n",
              "    <tr>\n",
              "      <th>both</th>\n",
              "      <td>389</td>\n",
              "    </tr>\n",
              "  </tbody>\n",
              "</table>\n",
              "</div>"
            ],
            "text/plain": [
              "            _merge\n",
              "_merge            \n",
              "left_only        0\n",
              "right_only      37\n",
              "both           389"
            ]
          },
          "execution_count": 46,
          "metadata": {},
          "output_type": "execute_result"
        }
      ],
      "source": [
        "df_all=df_2020.merge(df_2021,on=['CCLIEN'],\n",
        "                     how='outer',indicator=True)\n",
        "print(f\"Número de clientes que cruzan: {df_all.shape[0]}\")\n",
        "df_all['JOVEN_y']=np.where((df_all['COD EDAD_y'] >= 18) & (df_all['COD EDAD_y'] < 30) & (df_all['XTI_IDEFISCO_y'] !=2) & (df_all['XTI_IDEFISCO_y'] !=3), 1, 0)\n",
        "df_x=df_all[df_all['JOVEN_y']==1]\n",
        "df_x.groupby('_merge').agg({'_merge':'count'})"
      ]
    },
    {
      "cell_type": "markdown",
      "metadata": {
        "id": "_I1RFHwi0aEU"
      },
      "source": [
        "¿Por qué hay dos valores posibles para clientes que permanecen?¿por qué no se cumplen los cálculos anteriores?\n",
        "Porque nos falta considerar las altas vegetativas / bajas vegetativas: los que cumplen 18 o cumplen 30"
      ]
    },
    {
      "cell_type": "code",
      "execution_count": 48,
      "metadata": {},
      "outputs": [
        {
          "name": "stdout",
          "output_type": "stream",
          "text": [
            "BAJAS VEGETATIVAS: 8\n"
          ]
        }
      ],
      "source": [
        "df_bajas_vegetativas=df_all[(df_all['COD EDAD_x'] < 30) & (df_all['COD EDAD_y'] >= 30) & (df_all['XTI_IDEFISCO_y'] !=2) & (df_all['XTI_IDEFISCO_y'] !=3)]\n",
        "print(f\"BAJAS VEGETATIVAS: {df_bajas_vegetativas.shape[0]}\")"
      ]
    },
    {
      "cell_type": "code",
      "execution_count": 49,
      "metadata": {},
      "outputs": [
        {
          "name": "stdout",
          "output_type": "stream",
          "text": [
            "ALTAS VEGETATIVAS: 31\n"
          ]
        }
      ],
      "source": [
        "df_altas_vegetativas=df_all[(df_all['COD EDAD_x'] < 18) & (df_all['COD EDAD_y'] >= 18) & (df_all['XTI_IDEFISCO_y'] !=2) & (df_all['XTI_IDEFISCO_y'] !=3)]\n",
        "print(f\"ALTAS VEGETATIVAS: {df_altas_vegetativas.shape[0]}\")"
      ]
    },
    {
      "cell_type": "markdown",
      "metadata": {
        "id": "NNckbxof0fAF"
      },
      "source": [
        "Resolución: el buen crecimiento de la base de jóvenes se debe fundamentalmente a las altas vegetativas ya que hay un volumen de altas similar al de bajas, pero más altas vegetativas que bajas vegetativas. Esto tiene un riesgo: si no se cuida la base de menores, este crecimiento no se seguirá produciendo"
      ]
    }
  ],
  "metadata": {
    "colab": {
      "provenance": []
    },
    "kernelspec": {
      "display_name": "Python 3",
      "name": "python3"
    },
    "language_info": {
      "codemirror_mode": {
        "name": "ipython",
        "version": 3
      },
      "file_extension": ".py",
      "mimetype": "text/x-python",
      "name": "python",
      "nbconvert_exporter": "python",
      "pygments_lexer": "ipython3",
      "version": "3.12.0"
    }
  },
  "nbformat": 4,
  "nbformat_minor": 0
}
