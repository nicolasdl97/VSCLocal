{
  "cells": [
    {
      "cell_type": "markdown",
      "metadata": {
        "id": "pBWNp4QABLj8"
      },
      "source": [
        "The first step to obtain the data, is to request the API client and secret from Idealista.\n",
        "It can be done here: https://developers.idealista.com/access-request"
      ]
    },
    {
      "cell_type": "markdown",
      "metadata": {
        "id": "-BAzvt4CBLkA"
      },
      "source": [
        "Once we have our credentials, we can start creating a function to generate our personalised token, which will give us authorisation to extract data."
      ]
    },
    {
      "cell_type": "code",
      "execution_count": null,
      "metadata": {
        "id": "wKKi0C6RBLkB"
      },
      "outputs": [],
      "source": [
        "# Import the necessary libraries\n",
        "\n",
        "import base64\n",
        "import requests as rq\n",
        "import json"
      ]
    },
    {
      "cell_type": "code",
      "execution_count": null,
      "metadata": {
        "id": "fYsRsfGRBLkD"
      },
      "outputs": [],
      "source": [
        "# Define a function in order to obtain our personalised token\n",
        "\n",
        "def get_oauth_token():\n",
        "    '''\n",
        "    This function will return our personalised token\n",
        "    '''\n",
        "    api_key = 'djvzi2qwau9s1iae317x3sumhi4ovilo'   # Your API key provided by Idealista\n",
        "    secret = 'dExwCHGjb87b'   # Your secred code provided by Idealista\n",
        "\n",
        "    \"\"\"\n",
        "    api_key = 'djvzi2qwau9s1iae317x3sumhi4ovilo'   # Your API key provided by Idealista\n",
        "    secret = 'dExwCHGjb87b'   # Your secred code provided by Idealista\n",
        "\n",
        "    api_key = 'z11k3lqpxg3z6zf80628a8745n8sqrdg'   # Your API key provided by Idealista\n",
        "        secret = 'Fem4xrnUfG8N'   # Your secred code provided by Idealista\"\"\"\n",
        "\n",
        "    message = api_key + \":\" + secret   # Combine the API key and the secret to get our personalised message\n",
        "\n",
        "    auth = \"Basic \" + base64.b64encode(message.encode(\"ascii\")).decode(\"ascii\")   # Encode the message\n",
        "\n",
        "    headers_dic = {\"Authorization\" : auth,\n",
        "                   \"Content-Type\" : \"application/x-www-form-urlencoded;charset=UTF-8\"}   # Define our headers\n",
        "\n",
        "    params_dic = {\"grant_type\" : \"client_credentials\",   # Define the request params\n",
        "                  \"scope\" : \"read\"}\n",
        "\n",
        "    r = rq.post(\"https://api.idealista.com/oauth/token\",   # Perform the request with the api url, headers and params\n",
        "                      headers = headers_dic,\n",
        "                      params = params_dic)\n",
        "\n",
        "    token = json.loads(r.text)['access_token']   # Obtain the personalised token, as a json\n",
        "\n",
        "    return token"
      ]
    },
    {
      "cell_type": "markdown",
      "metadata": {
        "id": "dvL9VCwKBLkD"
      },
      "source": [
        "The next step will be to define the search url. We will do this by defining the filter params of the search, and combining them into the resulting url."
      ]
    },
    {
      "cell_type": "code",
      "execution_count": null,
      "metadata": {
        "id": "3qLiMv8HBLkE"
      },
      "outputs": [],
      "source": [
        "# This are the params we will use to filter our search\n",
        "\n",
        "base_url = 'https://api.idealista.com/3.5/'     # Base search url\n",
        "country = 'es'     # Search country (es, it, pt)\n",
        "language = 'es'     # Search language (es, it, pt, en, ca)\n",
        "max_items = '50'     # Max items per call, the maximum set by Idealista is 50\n",
        "operation = 'sale'     # Kind of operation (sale, rent)\n",
        "property_type = 'homes'     # Type of property (homes, offices, premises, garages, bedrooms)\n",
        "order = 'priceDown'     # Order of the listings, consult documentation for all the available orders\n",
        "center = '40.4167,-3.70325'     # Coordinates of the search center\n",
        "distance = '15000'     # Max distance from the center\n",
        "sort = 'desc'     # How to sort the found items\n",
        "bankOffer = 'false'     # If the owner is a bank\n",
        "maxprice = '850000'\n",
        "minprice = '100000'\n",
        "# Max price of the listings"
      ]
    },
    {
      "cell_type": "code",
      "execution_count": null,
      "metadata": {
        "id": "Sff49tE2BLkE"
      },
      "outputs": [],
      "source": [
        "# Define a function to obtain our search url\n",
        "\n",
        "def define_search_url():\n",
        "    '''\n",
        "    This function will combine our params with the url, in order to create our own search url\n",
        "    '''\n",
        "    url = (base_url +\n",
        "           country +\n",
        "           '/search?operation=' + operation +\n",
        "           '&maxItems=' + max_items +\n",
        "           '&order=' + order +\n",
        "           '&center=' + center +\n",
        "           '&distance=' + distance +\n",
        "           '&propertyType=' + property_type +\n",
        "           '&sort=' + sort +\n",
        "           '&numPage=%s' +\n",
        "           '&maxPrice=' + maxprice +\n",
        "           '&language=' + language)\n",
        "\n",
        "    return url"
      ]
    },
    {
      "cell_type": "code",
      "execution_count": null,
      "metadata": {
        "id": "WjCNYtxfBLkF"
      },
      "outputs": [],
      "source": [
        "url = define_search_url()"
      ]
    },
    {
      "cell_type": "code",
      "execution_count": null,
      "metadata": {
        "colab": {
          "base_uri": "https://localhost:8080/"
        },
        "id": "EOjys5snlzXf",
        "outputId": "2b72d8b3-b4a2-4c3a-f1e8-41fb28033f9a"
      },
      "outputs": [
        {
          "name": "stdout",
          "output_type": "stream",
          "text": [
            "https://api.idealista.com/3.5/es/search?operation=sale&maxItems=50&order=priceDown&center=40.4167,-3.70325&distance=15000&propertyType=homes&sort=desc&numPage=%s&maxPrice=850000&language=es\n"
          ]
        }
      ],
      "source": [
        "print(url)"
      ]
    },
    {
      "cell_type": "markdown",
      "metadata": {
        "id": "PbGsUlh-BLkG"
      },
      "source": [
        "Now we need to create a function in order to do our search, with the data we already have."
      ]
    },
    {
      "cell_type": "code",
      "execution_count": null,
      "metadata": {
        "id": "Z40-7CgyBLkG"
      },
      "outputs": [],
      "source": [
        "def search_api(url):\n",
        "    '''\n",
        "    This function will use the token and url created previously, and return our search results.\n",
        "    '''\n",
        "    token = get_oauth_token()   #  Get the personalised token\n",
        "\n",
        "    headers = {'Content-Type': 'Content-Type: multipart/form-data;',   # Define the search headers\n",
        "               'Authorization' : 'Bearer ' + token}\n",
        "\n",
        "    content = rq.post(url, headers = headers)   # Return the content from the request\n",
        "\n",
        "    result = json.loads(content.text)   # Transform the result as a json file\n",
        "\n",
        "    return result"
      ]
    },
    {
      "cell_type": "code",
      "execution_count": null,
      "metadata": {
        "id": "kQJ48noLBLkH"
      },
      "outputs": [],
      "source": [
        "# Since we need to give pagination to our search and this is our first search, we will set the pagination as 1\n",
        "pagination = 100 #100\n",
        "first_search_url = url %(pagination)"
      ]
    },
    {
      "cell_type": "code",
      "execution_count": null,
      "metadata": {
        "colab": {
          "base_uri": "https://localhost:8080/"
        },
        "id": "QY_CILzQg8Jc",
        "outputId": "d60aec76-c53f-442e-911a-14895ac8af0b"
      },
      "outputs": [
        {
          "name": "stdout",
          "output_type": "stream",
          "text": [
            "https://api.idealista.com/3.5/es/search?operation=sale&maxItems=50&order=priceDown&center=40.4167,-3.70325&distance=15000&propertyType=homes&sort=desc&numPage=100&maxPrice=850000&language=es\n"
          ]
        }
      ],
      "source": [
        "print(first_search_url)"
      ]
    },
    {
      "cell_type": "code",
      "execution_count": null,
      "metadata": {
        "id": "Q63hAZzlBLkH"
      },
      "outputs": [],
      "source": [
        "# Proceed to do the search with the paginated url\n",
        "results = search_api(first_search_url)"
      ]
    },
    {
      "cell_type": "markdown",
      "metadata": {
        "id": "H1kkxjwVBLkH"
      },
      "source": [
        "We have already gotten all the results, so we can start working in them."
      ]
    },
    {
      "cell_type": "code",
      "execution_count": null,
      "metadata": {
        "id": "J1NgWNPuBLkH"
      },
      "outputs": [],
      "source": [
        "# First of all, we can extract 50 results/page, but there are more pages, so we have to define how many pages there are.\n",
        "\n",
        "total_pages = results['totalPages']"
      ]
    },
    {
      "cell_type": "code",
      "execution_count": null,
      "metadata": {
        "colab": {
          "base_uri": "https://localhost:8080/"
        },
        "id": "kT1oN1jDiPWu",
        "outputId": "7d832b17-33d6-47d6-f8cb-1e891b5d88da"
      },
      "outputs": [
        {
          "name": "stdout",
          "output_type": "stream",
          "text": [
            "145\n"
          ]
        }
      ],
      "source": [
        "print(total_pages)"
      ]
    },
    {
      "cell_type": "markdown",
      "metadata": {
        "id": "yBxhzA95BLkI"
      },
      "source": [
        "We can also save our first dataset. We will save it as an individual dataframe, but then we have to add it to a bigger dataset, which will contains all our individual dataframes.\n",
        "\n",
        "We will create two functions for that."
      ]
    },
    {
      "cell_type": "code",
      "execution_count": null,
      "metadata": {
        "execution": {
          "iopub.execute_input": "2022-09-25T13:50:40.368746Z",
          "iopub.status.busy": "2022-09-25T13:50:40.368223Z",
          "iopub.status.idle": "2022-09-25T13:50:40.401480Z",
          "shell.execute_reply": "2022-09-25T13:50:40.400107Z",
          "shell.execute_reply.started": "2022-09-25T13:50:40.368640Z"
        },
        "id": "_MHPLjjbBLkI",
        "trusted": true
      },
      "outputs": [],
      "source": [
        "# Import the necessary libraries\n",
        "\n",
        "import pandas as pd"
      ]
    },
    {
      "cell_type": "code",
      "execution_count": null,
      "metadata": {
        "id": "awAdEd22BLkI"
      },
      "outputs": [],
      "source": [
        "def results_to_df(results):\n",
        "    '''\n",
        "    This function will save the json results as a dataframe and return the resulting dataframe\n",
        "    '''\n",
        "    df = pd.DataFrame.from_dict(results['elementList'])\n",
        "\n",
        "    return df"
      ]
    },
    {
      "cell_type": "code",
      "execution_count": null,
      "metadata": {
        "id": "FIfg7wqnBLkI"
      },
      "outputs": [],
      "source": [
        "def concat_df(df, df_tot):\n",
        "    '''\n",
        "    This function will take the main dataframe (df_tot), and concat it with the given individual dataframe,\n",
        "    returning the main dataframe\n",
        "    '''\n",
        "    df_tot= pd.concat([df_tot,df],ignore_index=True)\n",
        "\n",
        "    return df_tot"
      ]
    },
    {
      "cell_type": "code",
      "execution_count": null,
      "metadata": {
        "id": "g4O-ejJWBLkJ"
      },
      "outputs": [],
      "source": [
        "# Proceed to save the obtained results as a dataframe\n",
        "df = results_to_df(results)"
      ]
    },
    {
      "cell_type": "code",
      "execution_count": null,
      "metadata": {
        "id": "f5aDe6IJBLkJ"
      },
      "outputs": [],
      "source": [
        "# Since we still don't have a main dataframe where we can store all the data, we will create an empty dataframe\n",
        "df_tot = pd.DataFrame()\n",
        "df_tot = concat_df(df, df_tot)"
      ]
    },
    {
      "cell_type": "code",
      "execution_count": null,
      "metadata": {
        "id": "Cogjc6z4nObH"
      },
      "outputs": [],
      "source": [
        "url = define_search_url()"
      ]
    },
    {
      "cell_type": "code",
      "execution_count": null,
      "metadata": {
        "colab": {
          "base_uri": "https://localhost:8080/"
        },
        "id": "ENGAgIv8nPiW",
        "outputId": "6486f41d-ca05-43d4-e3a1-aec441fbfa49"
      },
      "outputs": [
        {
          "name": "stdout",
          "output_type": "stream",
          "text": [
            "https://api.idealista.com/3.5/es/search?operation=sale&maxItems=50&order=priceDown&center=40.4167,-3.70325&distance=15000&propertyType=homes&sort=desc&numPage=%s&maxPrice=850000&language=es\n"
          ]
        }
      ],
      "source": [
        "print(url)"
      ]
    },
    {
      "cell_type": "code",
      "execution_count": null,
      "metadata": {
        "colab": {
          "base_uri": "https://localhost:8080/"
        },
        "id": "E5CUrlLJgOLp",
        "outputId": "7ba9a465-a1b6-4288-a93a-630f4c74551a"
      },
      "outputs": [
        {
          "name": "stdout",
          "output_type": "stream",
          "text": [
            "  propertyCode                                          thumbnail  numPhotos  \\\n",
            "0    107236927  https://img4.idealista.com/blur/WEB_LISTING/0/...         18   \n",
            "\n",
            "  floor     price                                          priceInfo  \\\n",
            "0     2  219000.0  {'price': {'amount': 219000.0, 'currencySuffix...   \n",
            "\n",
            "  propertyType operation  size exterior  ...          detailedType  \\\n",
            "0         flat      sale  84.0     True  ...  {'typology': 'flat'}   \n",
            "\n",
            "                                      suggestedTexts hasPlan has3DTour has360  \\\n",
            "0  {'subtitle': 'Los Ángeles, Madrid', 'title': '...   False     False  False   \n",
            "\n",
            "  hasStaging topNewDevelopment topPlus  parkingSpace  externalReference  \n",
            "0      False             False   False           NaN                NaN  \n",
            "\n",
            "[1 rows x 39 columns]\n"
          ]
        }
      ],
      "source": [
        "print(df_tot.head(1))"
      ]
    },
    {
      "cell_type": "markdown",
      "metadata": {
        "id": "TTMBHUmpBLkJ"
      },
      "source": [
        "At this point, we have all the necessary code to extract the data, but we need to extract data in all the pages of the results. For this, we will create a loop, which will perform a search in every of the pages"
      ]
    },
    {
      "cell_type": "code",
      "execution_count": null,
      "metadata": {
        "id": "M30ftdaDBLkJ"
      },
      "outputs": [],
      "source": [
        "# This will loop over all the pages in the search results. It start from 2, because we've already gotten the first page\n",
        "for i in range(pagination+1, total_pages):\n",
        "    url = define_search_url()\n",
        "    url = url %(i)   # Add the pagination to the url\n",
        "    results = search_api(url)   # Get the search results\n",
        "    df = results_to_df(results)   # Save the results as a dataframe\n",
        "    df_tot = concat_df(df, df_tot)   # Concat the results to the main dataframe"
      ]
    },
    {
      "cell_type": "code",
      "execution_count": null,
      "metadata": {
        "id": "48EwYvLkBLkJ"
      },
      "outputs": [],
      "source": [
        "# Once we have all our data, we just need to save it as a csv file, we have created the following function for that:\n",
        "\n",
        "file_path = 'idealista_sale_02_2025_2.csv'\n",
        "\n",
        "def df_to_csv(df):\n",
        "    '''\n",
        "    This function will take a given dataframe and save it as a csv file\n",
        "    '''\n",
        "    df = df.reset_index()   # Reset the index in order to organise the records\n",
        "    df.to_csv(file_path, index=False)   # Save it into a csv"
      ]
    },
    {
      "cell_type": "code",
      "execution_count": null,
      "metadata": {
        "id": "HljlKQLLBLkK"
      },
      "outputs": [],
      "source": [
        "# Run the function and you'll obtain a csv file with all the extracted data\n",
        "df_to_csv(df_tot)"
      ]
    },
    {
      "cell_type": "markdown",
      "metadata": {
        "id": "RR12uT6VBLkK"
      },
      "source": [
        "Idealista API has a limitation of 100 search queries/month, so this should be taken into consideration when performing the search queries"
      ]
    },
    {
      "cell_type": "markdown",
      "metadata": {
        "id": "jqRDPibjBLkK"
      },
      "source": [
        "In the following cells you can find the resulting dataframe from the search."
      ]
    },
    {
      "cell_type": "code",
      "execution_count": null,
      "metadata": {
        "execution": {
          "iopub.execute_input": "2022-09-25T13:50:45.633782Z",
          "iopub.status.busy": "2022-09-25T13:50:45.633342Z",
          "iopub.status.idle": "2022-09-25T13:50:45.686565Z",
          "shell.execute_reply": "2022-09-25T13:50:45.685305Z",
          "shell.execute_reply.started": "2022-09-25T13:50:45.633735Z"
        },
        "id": "H9_aJrPyBLkK",
        "trusted": true
      },
      "outputs": [],
      "source": [
        "df = pd.read_csv('../input/idealista-madrid-rental-real-state/idealista_api_rent_madrid.csv')\n"
      ]
    },
    {
      "cell_type": "code",
      "execution_count": null,
      "metadata": {
        "execution": {
          "iopub.execute_input": "2022-09-25T13:50:47.424914Z",
          "iopub.status.busy": "2022-09-25T13:50:47.424363Z",
          "iopub.status.idle": "2022-09-25T13:50:47.478672Z",
          "shell.execute_reply": "2022-09-25T13:50:47.477400Z",
          "shell.execute_reply.started": "2022-09-25T13:50:47.424863Z"
        },
        "id": "YISt5iO_BLkK",
        "trusted": true
      },
      "outputs": [],
      "source": [
        "df.head()"
      ]
    }
  ],
  "metadata": {
    "colab": {
      "provenance": []
    },
    "kernelspec": {
      "display_name": "Python 3",
      "language": "python",
      "name": "python3"
    },
    "language_info": {
      "codemirror_mode": {
        "name": "ipython",
        "version": 3
      },
      "file_extension": ".py",
      "mimetype": "text/x-python",
      "name": "python",
      "nbconvert_exporter": "python",
      "pygments_lexer": "ipython3",
      "version": "3.6.4"
    }
  },
  "nbformat": 4,
  "nbformat_minor": 0
}
