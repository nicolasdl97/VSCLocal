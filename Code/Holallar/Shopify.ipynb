{
 "cells": [
  {
   "cell_type": "markdown",
   "metadata": {},
   "source": [
    "# Analisis Datos Holallar"
   ]
  },
  {
   "cell_type": "markdown",
   "metadata": {},
   "source": [
    "## Shopify"
   ]
  },
  {
   "cell_type": "code",
   "execution_count": 63,
   "metadata": {},
   "outputs": [
    {
     "name": "stdout",
     "output_type": "stream",
     "text": [
      "Archivo más reciente: C:\\Users\\nicol\\OneDrive\\Documentos\\VSCLocal\\Data\\Holallar\\Shopify\\Shopify_23-01-2025_1.csv\n",
      "(5827, 79)\n"
     ]
    }
   ],
   "source": [
    "import os\n",
    "import pandas as pd\n",
    "from datetime import datetime\n",
    "import matplotlib.pyplot as plt\n",
    "%matplotlib inline\n",
    "\n",
    "def read_latest_csv(directory_path):\n",
    "    try:\n",
    "        # Obtener la lista de archivos en el directorio\n",
    "        files = [\n",
    "            os.path.join(directory_path, file)\n",
    "            for file in os.listdir(directory_path)\n",
    "            if file.endswith('.csv')\n",
    "        ]\n",
    "\n",
    "        if not files:\n",
    "            print(\"No se encontraron archivos CSV en la ruta especificada.\")\n",
    "            return None\n",
    "\n",
    "        # Encontrar el archivo más reciente por fecha de modificación\n",
    "        latest_file = max(files, key=os.path.getmtime)\n",
    "\n",
    "        # Leer el archivo CSV usando pandas\n",
    "        data = pd.read_csv(latest_file)\n",
    "        print(f\"Archivo más reciente: {latest_file}\")\n",
    "\n",
    "        return data\n",
    "    except Exception as e:\n",
    "        print(f\"Ocurrió un error: {e}\")\n",
    "        return None\n",
    "\n",
    "# Ruta de la carpeta compartida\n",
    "directory_path_shopify = r\"C:\\Users\\nicol\\OneDrive\\Documentos\\VSCLocal\\Data\\Holallar\\Shopify\"\n",
    "\n",
    "# Ruta de los productos\n",
    "directory_path_products = pd.read_excel(r\"C:\\Users\\nicol\\OneDrive\\Documentos\\VSCLocal\\Data\\Holallar\\Tablas_auxiliares\\Productos.xlsx\")\n",
    "\n",
    "# Leer el archivo más reciente\n",
    "latest_data_shopify = read_latest_csv(directory_path_shopify)\n",
    "\n",
    "if latest_data_shopify is not None:\n",
    "    print(latest_data_shopify.shape)"
   ]
  },
  {
   "cell_type": "code",
   "execution_count": 64,
   "metadata": {},
   "outputs": [
    {
     "name": "stdout",
     "output_type": "stream",
     "text": [
      "Rótulos del DataFrame:\n",
      "Name, Email, Financial Status, Paid at, Fulfillment Status, Fulfilled at, Accepts Marketing, Currency, Subtotal, Shipping\n",
      "Taxes, Total, Discount Code, Discount Amount, Shipping Method, Created at, Lineitem quantity, Lineitem name, Lineitem price, Lineitem compare at price\n",
      "Lineitem sku, Lineitem requires shipping, Lineitem taxable, Lineitem fulfillment status, Billing Name, Billing Street, Billing Address1, Billing Address2, Billing Company, Billing City\n",
      "Billing Zip, Billing Province, Billing Country, Billing Phone, Shipping Name, Shipping Street, Shipping Address1, Shipping Address2, Shipping Company, Shipping City\n",
      "Shipping Zip, Shipping Province, Shipping Country, Shipping Phone, Notes, Note Attributes, Cancelled at, Payment Method, Payment Reference, Refunded Amount\n",
      "Vendor, Outstanding Balance, Employee, Location, Device ID, Id, Tags, Risk Level, Source, Lineitem discount\n",
      "Tax 1 Name, Tax 1 Value, Tax 2 Name, Tax 2 Value, Tax 3 Name, Tax 3 Value, Tax 4 Name, Tax 4 Value, Tax 5 Name, Tax 5 Value\n",
      "Phone, Receipt Number, Duties, Billing Province Name, Shipping Province Name, Payment ID, Payment Terms Name, Next Payment Due At, Payment References\n"
     ]
    }
   ],
   "source": [
    "if latest_data_shopify is not None:\n",
    "    print(\"Rótulos del DataFrame:\")\n",
    "    col_list = list(latest_data_shopify.columns)\n",
    "    chunk_size = 10  # Número de columnas por línea\n",
    "    for i in range(0, len(col_list), chunk_size):\n",
    "        print(\", \".join(col_list[i:i + chunk_size]))"
   ]
  },
  {
   "cell_type": "code",
   "execution_count": 65,
   "metadata": {},
   "outputs": [
    {
     "data": {
      "text/plain": [
       "dtype('O')"
      ]
     },
     "execution_count": 65,
     "metadata": {},
     "output_type": "execute_result"
    }
   ],
   "source": [
    "latest_data_shopify['Created at'].dtypes"
   ]
  },
  {
   "cell_type": "code",
   "execution_count": 66,
   "metadata": {},
   "outputs": [
    {
     "data": {
      "text/html": [
       "<div>\n",
       "<style scoped>\n",
       "    .dataframe tbody tr th:only-of-type {\n",
       "        vertical-align: middle;\n",
       "    }\n",
       "\n",
       "    .dataframe tbody tr th {\n",
       "        vertical-align: top;\n",
       "    }\n",
       "\n",
       "    .dataframe thead th {\n",
       "        text-align: right;\n",
       "    }\n",
       "</style>\n",
       "<table border=\"1\" class=\"dataframe\">\n",
       "  <thead>\n",
       "    <tr style=\"text-align: right;\">\n",
       "      <th></th>\n",
       "      <th>Name</th>\n",
       "      <th>Email</th>\n",
       "      <th>Financial Status</th>\n",
       "      <th>Paid at</th>\n",
       "      <th>Fulfillment Status</th>\n",
       "      <th>Fulfilled at</th>\n",
       "      <th>Accepts Marketing</th>\n",
       "      <th>Currency</th>\n",
       "      <th>Subtotal</th>\n",
       "      <th>Shipping</th>\n",
       "      <th>...</th>\n",
       "      <th>Tax 5 Value</th>\n",
       "      <th>Phone</th>\n",
       "      <th>Receipt Number</th>\n",
       "      <th>Duties</th>\n",
       "      <th>Billing Province Name</th>\n",
       "      <th>Shipping Province Name</th>\n",
       "      <th>Payment ID</th>\n",
       "      <th>Payment Terms Name</th>\n",
       "      <th>Next Payment Due At</th>\n",
       "      <th>Payment References</th>\n",
       "    </tr>\n",
       "  </thead>\n",
       "  <tbody>\n",
       "    <tr>\n",
       "      <th>0</th>\n",
       "      <td>#9307</td>\n",
       "      <td>jcpelgar@gmail.com</td>\n",
       "      <td>pending</td>\n",
       "      <td>NaN</td>\n",
       "      <td>unfulfilled</td>\n",
       "      <td>NaN</td>\n",
       "      <td>no</td>\n",
       "      <td>EUR</td>\n",
       "      <td>49.99</td>\n",
       "      <td>0.0</td>\n",
       "      <td>...</td>\n",
       "      <td>NaN</td>\n",
       "      <td>3.464618e+10</td>\n",
       "      <td>NaN</td>\n",
       "      <td>NaN</td>\n",
       "      <td>Asturias</td>\n",
       "      <td>Asturias</td>\n",
       "      <td>#9307.1</td>\n",
       "      <td>NaN</td>\n",
       "      <td>NaN</td>\n",
       "      <td>#9307.1</td>\n",
       "    </tr>\n",
       "    <tr>\n",
       "      <th>1</th>\n",
       "      <td>#9306</td>\n",
       "      <td>carihuela2021@gmail.com</td>\n",
       "      <td>pending</td>\n",
       "      <td>NaN</td>\n",
       "      <td>unfulfilled</td>\n",
       "      <td>NaN</td>\n",
       "      <td>no</td>\n",
       "      <td>EUR</td>\n",
       "      <td>29.99</td>\n",
       "      <td>0.0</td>\n",
       "      <td>...</td>\n",
       "      <td>NaN</td>\n",
       "      <td>3.462099e+10</td>\n",
       "      <td>NaN</td>\n",
       "      <td>NaN</td>\n",
       "      <td>Ciudad Real</td>\n",
       "      <td>Ciudad Real</td>\n",
       "      <td>#9306.1</td>\n",
       "      <td>NaN</td>\n",
       "      <td>NaN</td>\n",
       "      <td>#9306.1</td>\n",
       "    </tr>\n",
       "    <tr>\n",
       "      <th>2</th>\n",
       "      <td>#9305</td>\n",
       "      <td>misupema@hotmail.com</td>\n",
       "      <td>pending</td>\n",
       "      <td>NaN</td>\n",
       "      <td>unfulfilled</td>\n",
       "      <td>NaN</td>\n",
       "      <td>no</td>\n",
       "      <td>EUR</td>\n",
       "      <td>29.99</td>\n",
       "      <td>0.0</td>\n",
       "      <td>...</td>\n",
       "      <td>NaN</td>\n",
       "      <td>3.463989e+10</td>\n",
       "      <td>NaN</td>\n",
       "      <td>NaN</td>\n",
       "      <td>Asturias</td>\n",
       "      <td>Asturias</td>\n",
       "      <td>#9305.1</td>\n",
       "      <td>NaN</td>\n",
       "      <td>NaN</td>\n",
       "      <td>#9305.1</td>\n",
       "    </tr>\n",
       "  </tbody>\n",
       "</table>\n",
       "<p>3 rows × 79 columns</p>\n",
       "</div>"
      ],
      "text/plain": [
       "    Name                    Email Financial Status Paid at Fulfillment Status  \\\n",
       "0  #9307       jcpelgar@gmail.com          pending     NaN        unfulfilled   \n",
       "1  #9306  carihuela2021@gmail.com          pending     NaN        unfulfilled   \n",
       "2  #9305     misupema@hotmail.com          pending     NaN        unfulfilled   \n",
       "\n",
       "  Fulfilled at Accepts Marketing Currency  Subtotal  Shipping  ...  \\\n",
       "0          NaN                no      EUR     49.99       0.0  ...   \n",
       "1          NaN                no      EUR     29.99       0.0  ...   \n",
       "2          NaN                no      EUR     29.99       0.0  ...   \n",
       "\n",
       "   Tax 5 Value         Phone Receipt Number  Duties Billing Province Name  \\\n",
       "0          NaN  3.464618e+10            NaN     NaN              Asturias   \n",
       "1          NaN  3.462099e+10            NaN     NaN           Ciudad Real   \n",
       "2          NaN  3.463989e+10            NaN     NaN              Asturias   \n",
       "\n",
       "  Shipping Province Name  Payment ID Payment Terms Name  Next Payment Due At  \\\n",
       "0               Asturias     #9307.1                NaN                  NaN   \n",
       "1            Ciudad Real     #9306.1                NaN                  NaN   \n",
       "2               Asturias     #9305.1                NaN                  NaN   \n",
       "\n",
       "   Payment References  \n",
       "0             #9307.1  \n",
       "1             #9306.1  \n",
       "2             #9305.1  \n",
       "\n",
       "[3 rows x 79 columns]"
      ]
     },
     "metadata": {},
     "output_type": "display_data"
    }
   ],
   "source": [
    "display(latest_data_shopify.head(3))"
   ]
  },
  {
   "cell_type": "code",
   "execution_count": 69,
   "metadata": {},
   "outputs": [
    {
     "name": "stdout",
     "output_type": "stream",
     "text": [
      "Error al transformar el DataFrame: Can only use .dt accessor with datetimelike values\n"
     ]
    },
    {
     "name": "stderr",
     "output_type": "stream",
     "text": [
      "C:\\Users\\nicol\\AppData\\Local\\Temp\\ipykernel_23332\\4070426750.py:29: FutureWarning: In a future version of pandas, parsing datetimes with mixed time zones will raise an error unless `utc=True`. Please specify `utc=True` to opt in to the new behaviour and silence this warning. To create a `Series` with mixed offsets and `object` dtype, please use `apply` and `datetime.datetime.strptime`\n",
      "  df[col] = pd.to_datetime(df[col], format='%Y-%m-%d %H:%M:%S %z', errors='coerce')\n"
     ]
    }
   ],
   "source": [
    "def transform_dataframe(df, directory_path_products):\n",
    "    try:\n",
    "        # Cambiar tipos de columnas\n",
    "        df = df.astype({\n",
    "            \"Subtotal\": \"float64\",\n",
    "            \"Total\": \"float64\",\n",
    "            \"Discount Amount\": \"float64\",\n",
    "            \"Lineitem quantity\": \"int64\"\n",
    "        })\n",
    "\n",
    "        # Seleccionar columnas necesarias\n",
    "        required_columns = [\n",
    "            \"Name\", \"Financial Status\", \"Fulfillment Status\", \"Total\", \"Paid at\", \n",
    "            \"Created at\", \"Fulfilled at\", \"Cancelled at\", \"Lineitem quantity\", \n",
    "            \"Lineitem name\", \"Payment Method\", \"Shipping Zip\", \"Shipping City\", \n",
    "            \"Shipping Province\"\n",
    "        ]\n",
    "        df = df[required_columns]\n",
    "\n",
    "        # Reemplazar caracteres en columnas específicas\n",
    "        df[\"Lineitem name\"] = df[\"Lineitem name\"].str.replace(\"®\", \"\", regex=False)\n",
    "\n",
    "        # Lista de las columnas con fechas\n",
    "        date_columns = [\"Created at\", \"Paid at\", \"Fulfilled at\", \"Cancelled at\"]\n",
    "\n",
    "        # Convertir las columnas a datetime y formatear a fecha corta\n",
    "        for col in date_columns:\n",
    "            # Convertir a formato datetime, manejando errores y valores NaN\n",
    "            df[col] = pd.to_datetime(df[col], format='%Y-%m-%d %H:%M:%S %z', errors='coerce')\n",
    "            \n",
    "            # Convertir a formato corto (dd/mm/yyyy), preservando NaT para valores NaN\n",
    "            df[col] = df[col].dt.strftime('%d/%m/%Y')\n",
    "\n",
    "        # Crear columna \"Estado Detallado\"\n",
    "        estado_mapping = lambda row: (\n",
    "            \"Pendiente de envío\" if row[\"Financial Status\"] in [\"paid\", \"pending\"] and row[\"Fulfillment Status\"] == \"unfulfilled\" else\n",
    "            \"Enviado\" if row[\"Financial Status\"] == \"pending\" and row[\"Fulfillment Status\"] == \"fulfilled\" else\n",
    "            \"Entregado\" if row[\"Financial Status\"] == \"paid\" and row[\"Fulfillment Status\"] == \"fulfilled\" else\n",
    "            \"Anulado\" if row[\"Financial Status\"] in [\"voided\", \"refunded\"] and row[\"Fulfillment Status\"] == \"unfulfilled\" else\n",
    "            \"Devuelto\" if row[\"Financial Status\"] in [\"voided\", \"refunded\"] and row[\"Fulfillment Status\"] == \"fulfilled\" else\n",
    "            \"Anulado\" if row[\"Financial Status\"] == \"voided\" and row[\"Fulfillment Status\"] == \"restocked\" else\n",
    "            \"Otro\"\n",
    "        )\n",
    "        df[\"Estado Detallado\"] = df.apply(estado_mapping, axis=1)\n",
    "\n",
    "        # Definir el límite de tiempo para la condición de 'publicidad'\n",
    "        time_limit_str = '2025-01-21'\n",
    "        time_limit = time_limit_str.dt.strftime('%d/%m/%Y')\n",
    "\n",
    "        df['publicidad'] = df['Created at'].apply(\n",
    "            lambda x: 'Meta Ads' if pd.notnull(x) and x.date() < time_limit else 'Tik Tok Ads')\n",
    "        \n",
    "        # Convertir fechas a formato tz-naive\n",
    "        for col in date_columns:\n",
    "            df[col] = df[col].dt.tz_localize(None)\n",
    "\n",
    "        # Crear columnas con formato corto (dd/mm/aaaa)\n",
    "        for col in date_columns:\n",
    "            df[f\"{col}_short\"] = df[col].dt.strftime('%d/%m/%Y')\n",
    "\n",
    "        # Modificar 'Payment Method'\n",
    "        payment_method_mapping = lambda x: (\n",
    "            'COD' if x in ['Cash on Delivery (COD)', 'Manual'] else\n",
    "            'Prepayment' if x in ['Shopify Payments', 'PayPal Express Checkout'] else\n",
    "            'Otro'\n",
    "        )\n",
    "        df['Payment Method'] = df['Payment Method'].apply(payment_method_mapping)\n",
    "\n",
    "        # Unir tabla de Shopify con la tabla de productos\n",
    "        merged_df = df.merge(\n",
    "            directory_path_products,\n",
    "            left_on=\"Lineitem name\",\n",
    "            right_on=\"Producto\",\n",
    "            how=\"left\"\n",
    "        )\n",
    "\n",
    "        # Crear columna 'Identificador costo'\n",
    "        merged_df['Identificador costo'] = (\n",
    "            merged_df['Etiqueta'] + '_' + \n",
    "            merged_df['Created at'].dt.strftime('%Y') + '_' + \n",
    "            merged_df['Created at'].dt.strftime('%m')\n",
    "        )\n",
    "\n",
    "        # Reordenar columnas\n",
    "        merged_df = merged_df[[\n",
    "            \"Name\", \"Estado Detallado\", \"Financial Status\", \"Fulfillment Status\", \"Total\", \n",
    "            \"Created at\", \"Fulfilled at\", \"Paid at\", \"Cancelled at\", \"Lineitem name\", \n",
    "            \"Etiqueta\", \"Tipo\", \"Lineitem quantity\", \"Factor\", \"Payment Method\", \n",
    "            \"publicidad\", \"Identificador costo\", \"Shipping Zip\", \"Shipping City\", \n",
    "            \"Shipping Province\"\n",
    "        ]]\n",
    "\n",
    "        # Quitar duplicados basados en la columna 'Etiqueta'\n",
    "        etiquetas_to_check = [\"Mascarilla lifting\", \"Guantes térmicos\", \"Lumiluxa\"]\n",
    "        filtered_df = merged_df[merged_df['Etiqueta'].isin(etiquetas_to_check)]\n",
    "        other_df = merged_df[~merged_df['Etiqueta'].isin(etiquetas_to_check)]\n",
    "\n",
    "        grouped_df = (filtered_df.groupby('Name', as_index=False)\n",
    "                      .agg({col: 'first' if col != 'Lineitem quantity' else 'sum' for col in filtered_df.columns}))\n",
    "\n",
    "        merged_df = pd.concat([grouped_df, other_df], ignore_index=True)\n",
    "\n",
    "        # Calcular 'Cantidad Ajustada'\n",
    "        merged_df['Cantidad Ajustada'] = merged_df['Lineitem quantity'] * merged_df['Factor']\n",
    "\n",
    "        # Eliminar filas con 'Factor' igual a 0\n",
    "        merged_df = merged_df[merged_df['Factor'] != 0]\n",
    "\n",
    "        # Convertir 'Factor' y 'Cantidad Ajustada' a enteros\n",
    "        merged_df['Factor'] = merged_df['Factor'].fillna(0).astype(int)\n",
    "        merged_df['Cantidad Ajustada'] = merged_df['Cantidad Ajustada'].fillna(0).astype(int)\n",
    "\n",
    "        return merged_df\n",
    "\n",
    "    except Exception as e:\n",
    "        print(f\"Error al transformar el DataFrame: {e}\")\n",
    "        return None\n",
    "\n",
    "# Aplicación de la función\n",
    "if latest_data_shopify is not None:\n",
    "    transformed_data = transform_dataframe(latest_data_shopify, directory_path_products)\n",
    "    if transformed_data is not None:\n",
    "        display(transformed_data.shape)\n"
   ]
  },
  {
   "cell_type": "code",
   "execution_count": 68,
   "metadata": {},
   "outputs": [
    {
     "ename": "AttributeError",
     "evalue": "'NoneType' object has no attribute 'columns'",
     "output_type": "error",
     "traceback": [
      "\u001b[1;31m---------------------------------------------------------------------------\u001b[0m",
      "\u001b[1;31mAttributeError\u001b[0m                            Traceback (most recent call last)",
      "Cell \u001b[1;32mIn[68], line 34\u001b[0m\n\u001b[0;32m     31\u001b[0m     \u001b[38;5;28;01mreturn\u001b[39;00m df\n\u001b[0;32m     33\u001b[0m \u001b[38;5;66;03m# Aplicar la función al DataFrame transformado\u001b[39;00m\n\u001b[1;32m---> 34\u001b[0m processed_data \u001b[38;5;241m=\u001b[39m \u001b[43mprocess_and_sort_dates\u001b[49m\u001b[43m(\u001b[49m\u001b[43mtransformed_data\u001b[49m\u001b[43m)\u001b[49m\n\u001b[0;32m     36\u001b[0m \u001b[38;5;66;03m# Mostrar el tamaño del DataFrame procesado\u001b[39;00m\n\u001b[0;32m     37\u001b[0m processed_data\u001b[38;5;241m.\u001b[39mshape\n",
      "Cell \u001b[1;32mIn[68], line 18\u001b[0m, in \u001b[0;36mprocess_and_sort_dates\u001b[1;34m(df, columns_to_convert, sort_by_column)\u001b[0m\n\u001b[0;32m     15\u001b[0m     columns_to_convert \u001b[38;5;241m=\u001b[39m [\u001b[38;5;124m\"\u001b[39m\u001b[38;5;124mPaid at\u001b[39m\u001b[38;5;124m\"\u001b[39m, \u001b[38;5;124m\"\u001b[39m\u001b[38;5;124mCreated at\u001b[39m\u001b[38;5;124m\"\u001b[39m, \u001b[38;5;124m\"\u001b[39m\u001b[38;5;124mFulfilled at\u001b[39m\u001b[38;5;124m\"\u001b[39m, \u001b[38;5;124m\"\u001b[39m\u001b[38;5;124mCancelled at\u001b[39m\u001b[38;5;124m\"\u001b[39m]\n\u001b[0;32m     17\u001b[0m \u001b[38;5;66;03m# Verificar que las columnas existen en el DataFrame\u001b[39;00m\n\u001b[1;32m---> 18\u001b[0m columns_to_convert \u001b[38;5;241m=\u001b[39m [col \u001b[38;5;28;01mfor\u001b[39;00m col \u001b[38;5;129;01min\u001b[39;00m columns_to_convert \u001b[38;5;28;01mif\u001b[39;00m col \u001b[38;5;129;01min\u001b[39;00m \u001b[43mdf\u001b[49m\u001b[38;5;241;43m.\u001b[39;49m\u001b[43mcolumns\u001b[49m]\n\u001b[0;32m     20\u001b[0m \u001b[38;5;28;01mfor\u001b[39;00m column \u001b[38;5;129;01min\u001b[39;00m columns_to_convert:\n\u001b[0;32m     21\u001b[0m     \u001b[38;5;66;03m# Convertir a datetime manejando zonas horarias y errores\u001b[39;00m\n\u001b[0;32m     22\u001b[0m     df[column] \u001b[38;5;241m=\u001b[39m pd\u001b[38;5;241m.\u001b[39mto_datetime(df[column], errors\u001b[38;5;241m=\u001b[39m\u001b[38;5;124m\"\u001b[39m\u001b[38;5;124mcoerce\u001b[39m\u001b[38;5;124m\"\u001b[39m, utc\u001b[38;5;241m=\u001b[39m\u001b[38;5;28;01mTrue\u001b[39;00m)\n",
      "\u001b[1;31mAttributeError\u001b[0m: 'NoneType' object has no attribute 'columns'"
     ]
    }
   ],
   "source": [
    "def process_and_sort_dates(df, columns_to_convert=None, sort_by_column=\"Created at\"):\n",
    "    \"\"\"\n",
    "    Procesa un DataFrame para convertir columnas de fecha a formato normalizado y lo ordena por una columna específica.\n",
    "\n",
    "    Parámetros:\n",
    "        df (pd.DataFrame): DataFrame a procesar.\n",
    "        columns_to_convert (list, opcional): Lista de columnas a convertir a formato de fecha. Si es None, usa columnas predeterminadas.\n",
    "        sort_by_column (str): Columna por la que se ordenará el DataFrame (por defecto \"Created at\").\n",
    "\n",
    "    Retorna:\n",
    "        pd.DataFrame: DataFrame procesado y ordenado.\n",
    "    \"\"\"\n",
    "    # Usar columnas predeterminadas si no se especifican\n",
    "    if columns_to_convert is None:\n",
    "        columns_to_convert = [\"Paid at\", \"Created at\", \"Fulfilled at\", \"Cancelled at\"]\n",
    "\n",
    "    # Verificar que las columnas existen en el DataFrame\n",
    "    columns_to_convert = [col for col in columns_to_convert if col in df.columns]\n",
    "\n",
    "    for column in columns_to_convert:\n",
    "        # Convertir a datetime manejando zonas horarias y errores\n",
    "        df[column] = pd.to_datetime(df[column], errors=\"coerce\", utc=True)\n",
    "\n",
    "        # Normalizar las fechas eliminando horas, minutos y segundos\n",
    "        df[column] = df[column].dt.date\n",
    "\n",
    "    # Ordenar el DataFrame por la columna especificada si existe\n",
    "    if sort_by_column in df.columns:\n",
    "        df = df.sort_values(by=sort_by_column)\n",
    "\n",
    "    return df\n",
    "\n",
    "# Aplicar la función al DataFrame transformado\n",
    "processed_data = process_and_sort_dates(transformed_data)\n",
    "\n",
    "# Mostrar el tamaño del DataFrame procesado\n",
    "processed_data.shape\n"
   ]
  },
  {
   "cell_type": "code",
   "execution_count": 52,
   "metadata": {},
   "outputs": [],
   "source": [
    "output_path = r\"C:\\Users\\nicol\\OneDrive\\Documentos\\VSCLocal\\Data\\Holallar\\Tablas_auxiliares\\shopify_orders.csv\"\n",
    "process_and_sort_dates(transformed_data).to_csv(output_path, index=False)"
   ]
  },
  {
   "cell_type": "code",
   "execution_count": null,
   "metadata": {},
   "outputs": [
    {
     "data": {
      "text/plain": [
       "(4887, 21)"
      ]
     },
     "execution_count": 53,
     "metadata": {},
     "output_type": "execute_result"
    }
   ],
   "source": [
    "process_and_sort_dates(transformed_data).shape"
   ]
  },
  {
   "cell_type": "code",
   "execution_count": 56,
   "metadata": {},
   "outputs": [
    {
     "data": {
      "text/plain": [
       "(0, 0)"
      ]
     },
     "execution_count": 56,
     "metadata": {},
     "output_type": "execute_result"
    }
   ],
   "source": [
    "grouped = process_and_sort_dates(transformed_data).groupby([\"Created at\", \"Estado Detallado\"])[\"Name\"].count().unstack(fill_value=0)\n",
    "grouped.shape"
   ]
  },
  {
   "cell_type": "code",
   "execution_count": null,
   "metadata": {},
   "outputs": [
    {
     "ename": "KeyError",
     "evalue": "\"None of [Index(['Otro', 'Devuelto', 'Entregado', 'Enviado', 'Anulado',\\n       'Pendiente de envío'],\\n      dtype='object', name='Estado Detallado')] are in the [columns]\"",
     "output_type": "error",
     "traceback": [
      "\u001b[1;31m---------------------------------------------------------------------------\u001b[0m",
      "\u001b[1;31mKeyError\u001b[0m                                  Traceback (most recent call last)",
      "Cell \u001b[1;32mIn[55], line 62\u001b[0m\n\u001b[0;32m     59\u001b[0m     \u001b[38;5;66;03m# Mostrar el gráfico\u001b[39;00m\n\u001b[0;32m     60\u001b[0m     plt\u001b[38;5;241m.\u001b[39mshow()\n\u001b[1;32m---> 62\u001b[0m \u001b[43mplot_grouped_orders_by_status\u001b[49m\u001b[43m(\u001b[49m\u001b[43mprocessed_data\u001b[49m\u001b[43m)\u001b[49m\n",
      "Cell \u001b[1;32mIn[55], line 31\u001b[0m, in \u001b[0;36mplot_grouped_orders_by_status\u001b[1;34m(df, date_column, status_column, name_column)\u001b[0m\n\u001b[0;32m     21\u001b[0m estado_colores \u001b[38;5;241m=\u001b[39m {\n\u001b[0;32m     22\u001b[0m     \u001b[38;5;124m\"\u001b[39m\u001b[38;5;124mPendiente de envío\u001b[39m\u001b[38;5;124m\"\u001b[39m: \u001b[38;5;124m\"\u001b[39m\u001b[38;5;124m#FFD700\u001b[39m\u001b[38;5;124m\"\u001b[39m,  \u001b[38;5;66;03m# Amarillo\u001b[39;00m\n\u001b[0;32m     23\u001b[0m     \u001b[38;5;124m\"\u001b[39m\u001b[38;5;124mAnulado\u001b[39m\u001b[38;5;124m\"\u001b[39m: \u001b[38;5;124m\"\u001b[39m\u001b[38;5;124m#FFA500\u001b[39m\u001b[38;5;124m\"\u001b[39m,           \u001b[38;5;66;03m# Naranja\u001b[39;00m\n\u001b[1;32m   (...)\u001b[0m\n\u001b[0;32m     27\u001b[0m     \u001b[38;5;124m\"\u001b[39m\u001b[38;5;124mOtro\u001b[39m\u001b[38;5;124m\"\u001b[39m: \u001b[38;5;124m\"\u001b[39m\u001b[38;5;124m#CCCCCC\u001b[39m\u001b[38;5;124m\"\u001b[39m               \u001b[38;5;66;03m# Gris\u001b[39;00m\n\u001b[0;32m     28\u001b[0m }\n\u001b[0;32m     30\u001b[0m \u001b[38;5;66;03m# Reordenar las columnas del DataFrame en el orden deseado\u001b[39;00m\n\u001b[1;32m---> 31\u001b[0m grouped \u001b[38;5;241m=\u001b[39m \u001b[43mgrouped\u001b[49m\u001b[43m[\u001b[49m\u001b[38;5;28;43mlist\u001b[39;49m\u001b[43m(\u001b[49m\u001b[43mestado_colores\u001b[49m\u001b[38;5;241;43m.\u001b[39;49m\u001b[43mkeys\u001b[49m\u001b[43m(\u001b[49m\u001b[43m)\u001b[49m\u001b[43m)\u001b[49m\u001b[43m[\u001b[49m\u001b[43m:\u001b[49m\u001b[43m:\u001b[49m\u001b[38;5;241;43m-\u001b[39;49m\u001b[38;5;241;43m1\u001b[39;49m\u001b[43m]\u001b[49m\u001b[43m]\u001b[49m  \u001b[38;5;66;03m# Invertir el orden de las columnas\u001b[39;00m\n\u001b[0;32m     33\u001b[0m \u001b[38;5;66;03m# Crear el gráfico con los colores personalizados\u001b[39;00m\n\u001b[0;32m     34\u001b[0m ax \u001b[38;5;241m=\u001b[39m grouped\u001b[38;5;241m.\u001b[39mplot(\n\u001b[0;32m     35\u001b[0m     kind\u001b[38;5;241m=\u001b[39m\u001b[38;5;124m\"\u001b[39m\u001b[38;5;124mbar\u001b[39m\u001b[38;5;124m\"\u001b[39m,\n\u001b[0;32m     36\u001b[0m     stacked\u001b[38;5;241m=\u001b[39m\u001b[38;5;28;01mTrue\u001b[39;00m,\n\u001b[0;32m     37\u001b[0m     figsize\u001b[38;5;241m=\u001b[39m(\u001b[38;5;241m20\u001b[39m, \u001b[38;5;241m8\u001b[39m),\n\u001b[0;32m     38\u001b[0m     color\u001b[38;5;241m=\u001b[39m[estado_colores[col] \u001b[38;5;28;01mfor\u001b[39;00m col \u001b[38;5;129;01min\u001b[39;00m grouped\u001b[38;5;241m.\u001b[39mcolumns]\n\u001b[0;32m     39\u001b[0m )\n",
      "File \u001b[1;32mc:\\Users\\nicol\\OneDrive\\Documentos\\VSCLocal\\nicolas-env\\Lib\\site-packages\\pandas\\core\\frame.py:4096\u001b[0m, in \u001b[0;36mDataFrame.__getitem__\u001b[1;34m(self, key)\u001b[0m\n\u001b[0;32m   4094\u001b[0m     \u001b[38;5;28;01mif\u001b[39;00m is_iterator(key):\n\u001b[0;32m   4095\u001b[0m         key \u001b[38;5;241m=\u001b[39m \u001b[38;5;28mlist\u001b[39m(key)\n\u001b[1;32m-> 4096\u001b[0m     indexer \u001b[38;5;241m=\u001b[39m \u001b[38;5;28;43mself\u001b[39;49m\u001b[38;5;241;43m.\u001b[39;49m\u001b[43mcolumns\u001b[49m\u001b[38;5;241;43m.\u001b[39;49m\u001b[43m_get_indexer_strict\u001b[49m\u001b[43m(\u001b[49m\u001b[43mkey\u001b[49m\u001b[43m,\u001b[49m\u001b[43m \u001b[49m\u001b[38;5;124;43m\"\u001b[39;49m\u001b[38;5;124;43mcolumns\u001b[39;49m\u001b[38;5;124;43m\"\u001b[39;49m\u001b[43m)\u001b[49m[\u001b[38;5;241m1\u001b[39m]\n\u001b[0;32m   4098\u001b[0m \u001b[38;5;66;03m# take() does not accept boolean indexers\u001b[39;00m\n\u001b[0;32m   4099\u001b[0m \u001b[38;5;28;01mif\u001b[39;00m \u001b[38;5;28mgetattr\u001b[39m(indexer, \u001b[38;5;124m\"\u001b[39m\u001b[38;5;124mdtype\u001b[39m\u001b[38;5;124m\"\u001b[39m, \u001b[38;5;28;01mNone\u001b[39;00m) \u001b[38;5;241m==\u001b[39m \u001b[38;5;28mbool\u001b[39m:\n",
      "File \u001b[1;32mc:\\Users\\nicol\\OneDrive\\Documentos\\VSCLocal\\nicolas-env\\Lib\\site-packages\\pandas\\core\\indexes\\base.py:6200\u001b[0m, in \u001b[0;36mIndex._get_indexer_strict\u001b[1;34m(self, key, axis_name)\u001b[0m\n\u001b[0;32m   6197\u001b[0m \u001b[38;5;28;01melse\u001b[39;00m:\n\u001b[0;32m   6198\u001b[0m     keyarr, indexer, new_indexer \u001b[38;5;241m=\u001b[39m \u001b[38;5;28mself\u001b[39m\u001b[38;5;241m.\u001b[39m_reindex_non_unique(keyarr)\n\u001b[1;32m-> 6200\u001b[0m \u001b[38;5;28;43mself\u001b[39;49m\u001b[38;5;241;43m.\u001b[39;49m\u001b[43m_raise_if_missing\u001b[49m\u001b[43m(\u001b[49m\u001b[43mkeyarr\u001b[49m\u001b[43m,\u001b[49m\u001b[43m \u001b[49m\u001b[43mindexer\u001b[49m\u001b[43m,\u001b[49m\u001b[43m \u001b[49m\u001b[43maxis_name\u001b[49m\u001b[43m)\u001b[49m\n\u001b[0;32m   6202\u001b[0m keyarr \u001b[38;5;241m=\u001b[39m \u001b[38;5;28mself\u001b[39m\u001b[38;5;241m.\u001b[39mtake(indexer)\n\u001b[0;32m   6203\u001b[0m \u001b[38;5;28;01mif\u001b[39;00m \u001b[38;5;28misinstance\u001b[39m(key, Index):\n\u001b[0;32m   6204\u001b[0m     \u001b[38;5;66;03m# GH 42790 - Preserve name from an Index\u001b[39;00m\n",
      "File \u001b[1;32mc:\\Users\\nicol\\OneDrive\\Documentos\\VSCLocal\\nicolas-env\\Lib\\site-packages\\pandas\\core\\indexes\\base.py:6249\u001b[0m, in \u001b[0;36mIndex._raise_if_missing\u001b[1;34m(self, key, indexer, axis_name)\u001b[0m\n\u001b[0;32m   6247\u001b[0m \u001b[38;5;28;01mif\u001b[39;00m nmissing:\n\u001b[0;32m   6248\u001b[0m     \u001b[38;5;28;01mif\u001b[39;00m nmissing \u001b[38;5;241m==\u001b[39m \u001b[38;5;28mlen\u001b[39m(indexer):\n\u001b[1;32m-> 6249\u001b[0m         \u001b[38;5;28;01mraise\u001b[39;00m \u001b[38;5;167;01mKeyError\u001b[39;00m(\u001b[38;5;124mf\u001b[39m\u001b[38;5;124m\"\u001b[39m\u001b[38;5;124mNone of [\u001b[39m\u001b[38;5;132;01m{\u001b[39;00mkey\u001b[38;5;132;01m}\u001b[39;00m\u001b[38;5;124m] are in the [\u001b[39m\u001b[38;5;132;01m{\u001b[39;00maxis_name\u001b[38;5;132;01m}\u001b[39;00m\u001b[38;5;124m]\u001b[39m\u001b[38;5;124m\"\u001b[39m)\n\u001b[0;32m   6251\u001b[0m     not_found \u001b[38;5;241m=\u001b[39m \u001b[38;5;28mlist\u001b[39m(ensure_index(key)[missing_mask\u001b[38;5;241m.\u001b[39mnonzero()[\u001b[38;5;241m0\u001b[39m]]\u001b[38;5;241m.\u001b[39munique())\n\u001b[0;32m   6252\u001b[0m     \u001b[38;5;28;01mraise\u001b[39;00m \u001b[38;5;167;01mKeyError\u001b[39;00m(\u001b[38;5;124mf\u001b[39m\u001b[38;5;124m\"\u001b[39m\u001b[38;5;132;01m{\u001b[39;00mnot_found\u001b[38;5;132;01m}\u001b[39;00m\u001b[38;5;124m not in index\u001b[39m\u001b[38;5;124m\"\u001b[39m)\n",
      "\u001b[1;31mKeyError\u001b[0m: \"None of [Index(['Otro', 'Devuelto', 'Entregado', 'Enviado', 'Anulado',\\n       'Pendiente de envío'],\\n      dtype='object', name='Estado Detallado')] are in the [columns]\""
     ]
    }
   ],
   "source": [
    "def plot_grouped_orders_by_status(df, date_column=\"Created at\", status_column=\"Estado Detallado\", name_column=\"Name\"):\n",
    "    \"\"\"\n",
    "    Crea un gráfico de barras apiladas que muestra los pedidos agrupados por fecha y estado detallado.\n",
    "\n",
    "    Parámetros:\n",
    "        df (pd.DataFrame): DataFrame que contiene los datos de pedidos.\n",
    "        date_column (str): Nombre de la columna con las fechas (por defecto \"Created at\").\n",
    "        status_column (str): Nombre de la columna con los estados detallados (por defecto \"Estado Detallado\").\n",
    "        name_column (str): Nombre de la columna con los identificadores de los pedidos (por defecto \"Name\").\n",
    "\n",
    "    Retorna:\n",
    "        None: Muestra el gráfico directamente.\n",
    "    \"\"\"\n",
    "    # Ordenar el DataFrame por la columna de fecha\n",
    "    df = df.sort_values(by=date_column)\n",
    "\n",
    "    # Agrupar por fecha y estado detallado, contando los pedidos por estado\n",
    "    grouped = df.groupby([date_column, status_column])[name_column].count().unstack(fill_value=0)\n",
    "\n",
    "    # Asignar colores a cada estado en el orden deseado\n",
    "    estado_colores = {\n",
    "        \"Pendiente de envío\": \"#FFD700\",  # Amarillo\n",
    "        \"Anulado\": \"#FFA500\",           # Naranja\n",
    "        \"Enviado\": \"#6699CC\",           # Azul\n",
    "        \"Entregado\": \"#66CC66\",         # Verde brillante\n",
    "        \"Devuelto\": \"#FF6666\",          # Rojo claro\n",
    "        \"Otro\": \"#CCCCCC\"               # Gris\n",
    "    }\n",
    "\n",
    "    # Reordenar las columnas del DataFrame en el orden deseado\n",
    "    grouped = grouped[list(estado_colores.keys())[::-1]]  # Invertir el orden de las columnas\n",
    "\n",
    "    # Crear el gráfico con los colores personalizados\n",
    "    ax = grouped.plot(\n",
    "        kind=\"bar\",\n",
    "        stacked=True,\n",
    "        figsize=(20, 8),\n",
    "        color=[estado_colores[col] for col in grouped.columns]\n",
    "    )\n",
    "\n",
    "    # Agregar etiquetas encima de cada barra apilada (solo si el valor es mayor a 0)\n",
    "    for container in ax.containers:\n",
    "        labels = [f\"{int(val)}\" if val > 0 else \"\" for val in container.datavalues]\n",
    "        ax.bar_label(container, labels=labels, label_type=\"center\", fontsize=8, padding=2)\n",
    "\n",
    "    # Calcular y agregar los totales encima de cada barra\n",
    "    totales = grouped.sum(axis=1)\n",
    "    for i, total in enumerate(totales):\n",
    "        ax.text(i, total + 2, f\"{int(total)}\", ha=\"center\", fontsize=8, fontweight=\"bold\")\n",
    "\n",
    "    # Personalizar el gráfico\n",
    "    plt.title(\"Pedidos agrupados por día y estado detallado\", fontsize=16)\n",
    "    plt.xlabel(\"Fecha\", fontsize=12)\n",
    "    plt.ylabel(\"Número de pedidos\", fontsize=12)\n",
    "    plt.legend(title=\"Estado Detallado\", loc=\"upper left\", fontsize=10)\n",
    "    plt.xticks(rotation=90, fontsize=10)  # Ajustar rotación y tamaño de texto en el eje X\n",
    "    plt.tight_layout()\n",
    "\n",
    "    # Mostrar el gráfico\n",
    "    plt.show()\n",
    "\n",
    "plot_grouped_orders_by_status(processed_data)"
   ]
  },
  {
   "cell_type": "code",
   "execution_count": 36,
   "metadata": {},
   "outputs": [
    {
     "data": {
      "image/png": "[encoded data removed]",
      "text/plain": [
       "<Figure size 2000x800 with 1 Axes>"
      ]
     },
     "metadata": {},
     "output_type": "display_data"
    }
   ],
   "source": [
    "def plot_fulfilled_orders_by_status(df, date_column=\"Fulfilled at\", status_column=\"Estado Detallado\", name_column=\"Name\"):\n",
    "    \"\"\"\n",
    "    Crea un gráfico de barras apiladas que muestra los pedidos cumplidos agrupados por fecha y estado detallado.\n",
    "\n",
    "    Parámetros:\n",
    "        df (pd.DataFrame): DataFrame que contiene los datos de pedidos.\n",
    "        date_column (str): Nombre de la columna con las fechas (por defecto \"Fulfilled at\").\n",
    "        status_column (str): Nombre de la columna con los estados detallados (por defecto \"Estado Detallado\").\n",
    "        name_column (str): Nombre de la columna con los identificadores de los pedidos (por defecto \"Name\").\n",
    "\n",
    "    Retorna:\n",
    "        None: Muestra el gráfico directamente.\n",
    "    \"\"\"\n",
    "    # Ordenar el DataFrame por la columna de fecha\n",
    "    df = df.sort_values(by=date_column)\n",
    "\n",
    "    # Agrupar por fecha y estado detallado, contando los pedidos por estado\n",
    "    grouped = df.groupby([date_column, status_column])[name_column].count().unstack(fill_value=0)\n",
    "\n",
    "    # Asignar colores a cada estado en el orden deseado\n",
    "    estado_colores = {\n",
    "        \"Enviado\": \"#6699CC\",           # Azul\n",
    "        \"Entregado\": \"#66CC66\",         # Verde brillante\n",
    "        \"Devuelto\": \"#FF6666\"           # Rojo claro\n",
    "    }\n",
    "\n",
    "    # Reordenar las columnas del DataFrame en el orden deseado\n",
    "    grouped = grouped[list(estado_colores.keys())[::-1]]  # Invertir el orden de las columnas\n",
    "\n",
    "    # Crear el gráfico con los colores personalizados\n",
    "    ax = grouped.plot(\n",
    "        kind=\"bar\",\n",
    "        stacked=True,\n",
    "        figsize=(20, 8),\n",
    "        color=[estado_colores[col] for col in grouped.columns]\n",
    "    )\n",
    "\n",
    "    # Agregar etiquetas encima de cada barra apilada (solo si el valor es mayor a 0)\n",
    "    for container in ax.containers:\n",
    "        labels = [f\"{int(val)}\" if val > 0 else \"\" for val in container.datavalues]\n",
    "        ax.bar_label(container, labels=labels, label_type=\"center\", fontsize=8, padding=2)\n",
    "\n",
    "    # Calcular y agregar los totales encima de cada barra\n",
    "    totales = grouped.sum(axis=1)\n",
    "    for i, total in enumerate(totales):\n",
    "        ax.text(i, total + 2, f\"{int(total)}\", ha=\"center\", fontsize=8, fontweight=\"bold\")\n",
    "\n",
    "    # Personalizar el gráfico\n",
    "    plt.title(\"Pedidos enviados agrupados por día y estado detallado\", fontsize=16)\n",
    "    plt.xlabel(\"Fecha\", fontsize=12)\n",
    "    plt.ylabel(\"Número de pedidos\", fontsize=12)\n",
    "    plt.legend(title=\"Estado Detallado\", loc=\"upper left\", fontsize=10)\n",
    "    plt.xticks(rotation=90, fontsize=10)  # Ajustar rotación y tamaño de texto en el eje X\n",
    "    plt.tight_layout()\n",
    "\n",
    "    # Mostrar el gráfico\n",
    "    plt.show()\n",
    "\n",
    "plot_fulfilled_orders_by_status(transformed_data)"
   ]
  },
  {
   "cell_type": "code",
   "execution_count": 9,
   "metadata": {},
   "outputs": [
    {
     "data": {
      "application/vnd.plotly.v1+json": {
       "config": {
        "plotlyServerURL": "https://plot.ly"
       },
       "data": [
        {
         "alignmentgroup": "True",
         "hovertemplate": "Estado Detallado=Entregado<br>Fecha=%{x}<br>Número de pedidos=%{y}<extra></extra>",
         "legendgroup": "Entregado",
         "marker": {
          "color": "#66CC66",
          "pattern": {
           "shape": ""
          }
         },
         "name": "Entregado",
         "offsetgroup": "Entregado",
         "orientation": "v",
         "showlegend": true,
         "textposition": "auto",
         "type": "bar",
         "x": [
          "2024-10-01",
          "2024-10-02",
          "2024-10-03",
          "2024-10-04",
          "2024-10-07",
          "2024-10-08",
          "2024-10-09",
          "2024-10-10",
          "2024-10-14",
          "2024-10-15",
          "2024-10-16",
          "2024-10-17",
          "2024-10-18",
          "2024-10-21",
          "2024-10-22",
          "2024-10-23",
          "2024-10-24",
          "2024-10-25",
          "2024-10-28",
          "2024-10-29",
          "2024-10-30",
          "2024-10-31",
          "2024-11-04",
          "2024-11-05",
          "2024-11-06",
          "2024-11-07",
          "2024-11-08",
          "2024-11-11",
          "2024-11-12",
          "2024-11-13",
          "2024-11-14",
          "2024-11-15",
          "2024-11-18",
          "2024-11-19",
          "2024-11-20",
          "2024-11-21",
          "2024-11-22",
          "2024-11-25",
          "2024-11-26",
          "2024-11-27",
          "2024-11-28",
          "2024-11-29",
          "2024-12-02",
          "2024-12-03",
          "2024-12-04",
          "2024-12-09",
          "2024-12-10",
          "2024-12-11",
          "2024-12-12",
          "2024-12-13",
          "2024-12-16",
          "2024-12-17",
          "2024-12-18",
          "2024-12-19",
          "2024-12-20",
          "2024-12-23",
          "2024-12-24",
          "2024-12-27",
          "2024-12-30",
          "2024-12-31",
          "2025-01-02",
          "2025-01-03",
          "2025-01-08",
          "2025-01-09",
          "2025-01-10",
          "2025-01-13",
          "2025-01-14",
          "2025-01-15",
          "2025-01-16",
          "2025-01-17",
          "2025-01-20",
          "2025-01-21",
          "2025-01-22",
          "2025-01-23"
         ],
         "xaxis": "x",
         "y": [
          5,
          8,
          2,
          9,
          42,
          9,
          5,
          3,
          3,
          12,
          7,
          8,
          13,
          49,
          3,
          29,
          28,
          39,
          81,
          33,
          16,
          13,
          74,
          32,
          18,
          16,
          11,
          55,
          10,
          13,
          33,
          16,
          39,
          23,
          27,
          28,
          47,
          139,
          67,
          55,
          64,
          49,
          125,
          21,
          24,
          52,
          22,
          44,
          59,
          55,
          195,
          75,
          65,
          39,
          43,
          156,
          33,
          123,
          86,
          22,
          71,
          8,
          110,
          86,
          100,
          250,
          79,
          79,
          75,
          55,
          261,
          94,
          52,
          23
         ],
         "yaxis": "y"
        },
        {
         "alignmentgroup": "True",
         "hovertemplate": "Estado Detallado=Devuelto<br>Fecha=%{x}<br>Número de pedidos=%{y}<extra></extra>",
         "legendgroup": "Devuelto",
         "marker": {
          "color": "#FF6666",
          "pattern": {
           "shape": ""
          }
         },
         "name": "Devuelto",
         "offsetgroup": "Devuelto",
         "orientation": "v",
         "showlegend": true,
         "textposition": "auto",
         "type": "bar",
         "x": [
          "2024-10-02",
          "2024-10-03",
          "2024-10-04",
          "2024-10-07",
          "2024-10-08",
          "2024-10-16",
          "2024-10-17",
          "2024-10-18",
          "2024-10-21",
          "2024-10-22",
          "2024-10-23",
          "2024-10-24",
          "2024-10-25",
          "2024-10-28",
          "2024-10-29",
          "2024-10-30",
          "2024-10-31",
          "2024-11-04",
          "2024-11-06",
          "2024-11-07",
          "2024-11-08",
          "2024-11-11",
          "2024-11-12",
          "2024-11-13",
          "2024-11-14",
          "2024-11-15",
          "2024-11-18",
          "2024-11-20",
          "2024-11-21",
          "2024-11-22",
          "2024-11-25",
          "2024-11-26",
          "2024-11-27",
          "2024-11-28",
          "2024-11-29",
          "2024-12-02",
          "2024-12-03",
          "2024-12-04",
          "2024-12-09",
          "2024-12-10",
          "2024-12-11",
          "2024-12-12",
          "2024-12-13",
          "2024-12-16",
          "2024-12-17",
          "2024-12-18",
          "2024-12-19",
          "2024-12-20",
          "2024-12-23",
          "2024-12-24",
          "2024-12-27",
          "2024-12-30",
          "2024-12-31",
          "2025-01-02",
          "2025-01-03",
          "2025-01-08",
          "2025-01-09",
          "2025-01-10",
          "2025-01-13",
          "2025-01-14",
          "2025-01-15",
          "2025-01-20",
          "2025-01-21"
         ],
         "xaxis": "x",
         "y": [
          2,
          1,
          3,
          11,
          2,
          1,
          3,
          3,
          7,
          3,
          4,
          2,
          3,
          15,
          5,
          5,
          4,
          13,
          1,
          2,
          1,
          5,
          3,
          3,
          5,
          5,
          4,
          3,
          2,
          5,
          18,
          9,
          7,
          7,
          3,
          18,
          2,
          1,
          8,
          1,
          3,
          9,
          6,
          30,
          15,
          7,
          4,
          13,
          40,
          9,
          29,
          8,
          2,
          5,
          2,
          12,
          1,
          1,
          3,
          1,
          5,
          1,
          1
         ],
         "yaxis": "y"
        },
        {
         "alignmentgroup": "True",
         "hovertemplate": "Estado Detallado=Enviado<br>Fecha=%{x}<br>Número de pedidos=%{y}<extra></extra>",
         "legendgroup": "Enviado",
         "marker": {
          "color": "#6699CC",
          "pattern": {
           "shape": ""
          }
         },
         "name": "Enviado",
         "offsetgroup": "Enviado",
         "orientation": "v",
         "showlegend": true,
         "textposition": "auto",
         "type": "bar",
         "x": [
          "2024-10-04",
          "2024-10-28",
          "2024-10-29",
          "2024-11-04",
          "2024-11-05",
          "2024-11-06",
          "2024-11-07",
          "2024-11-08",
          "2024-11-11",
          "2024-11-13",
          "2024-11-14",
          "2024-11-15",
          "2024-11-18",
          "2024-11-19",
          "2024-11-20",
          "2024-11-21",
          "2024-11-22",
          "2024-11-25",
          "2024-11-26",
          "2024-11-27",
          "2024-11-28",
          "2024-11-29",
          "2024-12-02",
          "2024-12-03",
          "2024-12-10",
          "2024-12-11",
          "2024-12-12",
          "2024-12-13",
          "2024-12-16",
          "2024-12-17",
          "2024-12-18",
          "2024-12-19",
          "2024-12-20",
          "2024-12-23",
          "2024-12-27",
          "2024-12-30",
          "2024-12-31",
          "2025-01-02",
          "2025-01-08",
          "2025-01-09",
          "2025-01-10",
          "2025-01-13",
          "2025-01-14",
          "2025-01-15",
          "2025-01-16",
          "2025-01-17",
          "2025-01-20",
          "2025-01-21",
          "2025-01-22",
          "2025-01-23"
         ],
         "xaxis": "x",
         "y": [
          3,
          1,
          3,
          2,
          3,
          2,
          1,
          2,
          5,
          1,
          1,
          2,
          3,
          1,
          1,
          1,
          3,
          1,
          11,
          3,
          6,
          1,
          2,
          1,
          2,
          1,
          1,
          1,
          7,
          2,
          1,
          4,
          1,
          2,
          5,
          3,
          2,
          5,
          8,
          12,
          3,
          28,
          7,
          6,
          6,
          8,
          36,
          12,
          20,
          97
         ],
         "yaxis": "y"
        }
       ],
       "layout": {
        "annotations": [
         {
          "font": {
           "color": "black",
           "family": "Arial",
           "size": 12
          },
          "showarrow": false,
          "text": "5",
          "x": "2024-10-01",
          "y": 5,
          "yshift": 10
         },
         {
          "font": {
           "color": "black",
           "family": "Arial",
           "size": 12
          },
          "showarrow": false,
          "text": "10",
          "x": "2024-10-02",
          "y": 10,
          "yshift": 10
         },
         {
          "font": {
           "color": "black",
           "family": "Arial",
           "size": 12
          },
          "showarrow": false,
          "text": "3",
          "x": "2024-10-03",
          "y": 3,
          "yshift": 10
         },
         {
          "font": {
           "color": "black",
           "family": "Arial",
           "size": 12
          },
          "showarrow": false,
          "text": "15",
          "x": "2024-10-04",
          "y": 15,
          "yshift": 10
         },
         {
          "font": {
           "color": "black",
           "family": "Arial",
           "size": 12
          },
          "showarrow": false,
          "text": "53",
          "x": "2024-10-07",
          "y": 53,
          "yshift": 10
         },
         {
          "font": {
           "color": "black",
           "family": "Arial",
           "size": 12
          },
          "showarrow": false,
          "text": "11",
          "x": "2024-10-08",
          "y": 11,
          "yshift": 10
         },
         {
          "font": {
           "color": "black",
           "family": "Arial",
           "size": 12
          },
          "showarrow": false,
          "text": "5",
          "x": "2024-10-09",
          "y": 5,
          "yshift": 10
         },
         {
          "font": {
           "color": "black",
           "family": "Arial",
           "size": 12
          },
          "showarrow": false,
          "text": "3",
          "x": "2024-10-10",
          "y": 3,
          "yshift": 10
         },
         {
          "font": {
           "color": "black",
           "family": "Arial",
           "size": 12
          },
          "showarrow": false,
          "text": "3",
          "x": "2024-10-14",
          "y": 3,
          "yshift": 10
         },
         {
          "font": {
           "color": "black",
           "family": "Arial",
           "size": 12
          },
          "showarrow": false,
          "text": "12",
          "x": "2024-10-15",
          "y": 12,
          "yshift": 10
         },
         {
          "font": {
           "color": "black",
           "family": "Arial",
           "size": 12
          },
          "showarrow": false,
          "text": "8",
          "x": "2024-10-16",
          "y": 8,
          "yshift": 10
         },
         {
          "font": {
           "color": "black",
           "family": "Arial",
           "size": 12
          },
          "showarrow": false,
          "text": "11",
          "x": "2024-10-17",
          "y": 11,
          "yshift": 10
         },
         {
          "font": {
           "color": "black",
           "family": "Arial",
           "size": 12
          },
          "showarrow": false,
          "text": "16",
          "x": "2024-10-18",
          "y": 16,
          "yshift": 10
         },
         {
          "font": {
           "color": "black",
           "family": "Arial",
           "size": 12
          },
          "showarrow": false,
          "text": "56",
          "x": "2024-10-21",
          "y": 56,
          "yshift": 10
         },
         {
          "font": {
           "color": "black",
           "family": "Arial",
           "size": 12
          },
          "showarrow": false,
          "text": "6",
          "x": "2024-10-22",
          "y": 6,
          "yshift": 10
         },
         {
          "font": {
           "color": "black",
           "family": "Arial",
           "size": 12
          },
          "showarrow": false,
          "text": "33",
          "x": "2024-10-23",
          "y": 33,
          "yshift": 10
         },
         {
          "font": {
           "color": "black",
           "family": "Arial",
           "size": 12
          },
          "showarrow": false,
          "text": "30",
          "x": "2024-10-24",
          "y": 30,
          "yshift": 10
         },
         {
          "font": {
           "color": "black",
           "family": "Arial",
           "size": 12
          },
          "showarrow": false,
          "text": "42",
          "x": "2024-10-25",
          "y": 42,
          "yshift": 10
         },
         {
          "font": {
           "color": "black",
           "family": "Arial",
           "size": 12
          },
          "showarrow": false,
          "text": "97",
          "x": "2024-10-28",
          "y": 97,
          "yshift": 10
         },
         {
          "font": {
           "color": "black",
           "family": "Arial",
           "size": 12
          },
          "showarrow": false,
          "text": "41",
          "x": "2024-10-29",
          "y": 41,
          "yshift": 10
         },
         {
          "font": {
           "color": "black",
           "family": "Arial",
           "size": 12
          },
          "showarrow": false,
          "text": "21",
          "x": "2024-10-30",
          "y": 21,
          "yshift": 10
         },
         {
          "font": {
           "color": "black",
           "family": "Arial",
           "size": 12
          },
          "showarrow": false,
          "text": "17",
          "x": "2024-10-31",
          "y": 17,
          "yshift": 10
         },
         {
          "font": {
           "color": "black",
           "family": "Arial",
           "size": 12
          },
          "showarrow": false,
          "text": "89",
          "x": "2024-11-04",
          "y": 89,
          "yshift": 10
         },
         {
          "font": {
           "color": "black",
           "family": "Arial",
           "size": 12
          },
          "showarrow": false,
          "text": "35",
          "x": "2024-11-05",
          "y": 35,
          "yshift": 10
         },
         {
          "font": {
           "color": "black",
           "family": "Arial",
           "size": 12
          },
          "showarrow": false,
          "text": "21",
          "x": "2024-11-06",
          "y": 21,
          "yshift": 10
         },
         {
          "font": {
           "color": "black",
           "family": "Arial",
           "size": 12
          },
          "showarrow": false,
          "text": "19",
          "x": "2024-11-07",
          "y": 19,
          "yshift": 10
         },
         {
          "font": {
           "color": "black",
           "family": "Arial",
           "size": 12
          },
          "showarrow": false,
          "text": "14",
          "x": "2024-11-08",
          "y": 14,
          "yshift": 10
         },
         {
          "font": {
           "color": "black",
           "family": "Arial",
           "size": 12
          },
          "showarrow": false,
          "text": "65",
          "x": "2024-11-11",
          "y": 65,
          "yshift": 10
         },
         {
          "font": {
           "color": "black",
           "family": "Arial",
           "size": 12
          },
          "showarrow": false,
          "text": "13",
          "x": "2024-11-12",
          "y": 13,
          "yshift": 10
         },
         {
          "font": {
           "color": "black",
           "family": "Arial",
           "size": 12
          },
          "showarrow": false,
          "text": "17",
          "x": "2024-11-13",
          "y": 17,
          "yshift": 10
         },
         {
          "font": {
           "color": "black",
           "family": "Arial",
           "size": 12
          },
          "showarrow": false,
          "text": "39",
          "x": "2024-11-14",
          "y": 39,
          "yshift": 10
         },
         {
          "font": {
           "color": "black",
           "family": "Arial",
           "size": 12
          },
          "showarrow": false,
          "text": "23",
          "x": "2024-11-15",
          "y": 23,
          "yshift": 10
         },
         {
          "font": {
           "color": "black",
           "family": "Arial",
           "size": 12
          },
          "showarrow": false,
          "text": "46",
          "x": "2024-11-18",
          "y": 46,
          "yshift": 10
         },
         {
          "font": {
           "color": "black",
           "family": "Arial",
           "size": 12
          },
          "showarrow": false,
          "text": "24",
          "x": "2024-11-19",
          "y": 24,
          "yshift": 10
         },
         {
          "font": {
           "color": "black",
           "family": "Arial",
           "size": 12
          },
          "showarrow": false,
          "text": "31",
          "x": "2024-11-20",
          "y": 31,
          "yshift": 10
         },
         {
          "font": {
           "color": "black",
           "family": "Arial",
           "size": 12
          },
          "showarrow": false,
          "text": "31",
          "x": "2024-11-21",
          "y": 31,
          "yshift": 10
         },
         {
          "font": {
           "color": "black",
           "family": "Arial",
           "size": 12
          },
          "showarrow": false,
          "text": "55",
          "x": "2024-11-22",
          "y": 55,
          "yshift": 10
         },
         {
          "font": {
           "color": "black",
           "family": "Arial",
           "size": 12
          },
          "showarrow": false,
          "text": "158",
          "x": "2024-11-25",
          "y": 158,
          "yshift": 10
         },
         {
          "font": {
           "color": "black",
           "family": "Arial",
           "size": 12
          },
          "showarrow": false,
          "text": "87",
          "x": "2024-11-26",
          "y": 87,
          "yshift": 10
         },
         {
          "font": {
           "color": "black",
           "family": "Arial",
           "size": 12
          },
          "showarrow": false,
          "text": "65",
          "x": "2024-11-27",
          "y": 65,
          "yshift": 10
         },
         {
          "font": {
           "color": "black",
           "family": "Arial",
           "size": 12
          },
          "showarrow": false,
          "text": "77",
          "x": "2024-11-28",
          "y": 77,
          "yshift": 10
         },
         {
          "font": {
           "color": "black",
           "family": "Arial",
           "size": 12
          },
          "showarrow": false,
          "text": "53",
          "x": "2024-11-29",
          "y": 53,
          "yshift": 10
         },
         {
          "font": {
           "color": "black",
           "family": "Arial",
           "size": 12
          },
          "showarrow": false,
          "text": "145",
          "x": "2024-12-02",
          "y": 145,
          "yshift": 10
         },
         {
          "font": {
           "color": "black",
           "family": "Arial",
           "size": 12
          },
          "showarrow": false,
          "text": "24",
          "x": "2024-12-03",
          "y": 24,
          "yshift": 10
         },
         {
          "font": {
           "color": "black",
           "family": "Arial",
           "size": 12
          },
          "showarrow": false,
          "text": "25",
          "x": "2024-12-04",
          "y": 25,
          "yshift": 10
         },
         {
          "font": {
           "color": "black",
           "family": "Arial",
           "size": 12
          },
          "showarrow": false,
          "text": "60",
          "x": "2024-12-09",
          "y": 60,
          "yshift": 10
         },
         {
          "font": {
           "color": "black",
           "family": "Arial",
           "size": 12
          },
          "showarrow": false,
          "text": "25",
          "x": "2024-12-10",
          "y": 25,
          "yshift": 10
         },
         {
          "font": {
           "color": "black",
           "family": "Arial",
           "size": 12
          },
          "showarrow": false,
          "text": "48",
          "x": "2024-12-11",
          "y": 48,
          "yshift": 10
         },
         {
          "font": {
           "color": "black",
           "family": "Arial",
           "size": 12
          },
          "showarrow": false,
          "text": "69",
          "x": "2024-12-12",
          "y": 69,
          "yshift": 10
         },
         {
          "font": {
           "color": "black",
           "family": "Arial",
           "size": 12
          },
          "showarrow": false,
          "text": "62",
          "x": "2024-12-13",
          "y": 62,
          "yshift": 10
         },
         {
          "font": {
           "color": "black",
           "family": "Arial",
           "size": 12
          },
          "showarrow": false,
          "text": "232",
          "x": "2024-12-16",
          "y": 232,
          "yshift": 10
         },
         {
          "font": {
           "color": "black",
           "family": "Arial",
           "size": 12
          },
          "showarrow": false,
          "text": "92",
          "x": "2024-12-17",
          "y": 92,
          "yshift": 10
         },
         {
          "font": {
           "color": "black",
           "family": "Arial",
           "size": 12
          },
          "showarrow": false,
          "text": "73",
          "x": "2024-12-18",
          "y": 73,
          "yshift": 10
         },
         {
          "font": {
           "color": "black",
           "family": "Arial",
           "size": 12
          },
          "showarrow": false,
          "text": "47",
          "x": "2024-12-19",
          "y": 47,
          "yshift": 10
         },
         {
          "font": {
           "color": "black",
           "family": "Arial",
           "size": 12
          },
          "showarrow": false,
          "text": "57",
          "x": "2024-12-20",
          "y": 57,
          "yshift": 10
         },
         {
          "font": {
           "color": "black",
           "family": "Arial",
           "size": 12
          },
          "showarrow": false,
          "text": "198",
          "x": "2024-12-23",
          "y": 198,
          "yshift": 10
         },
         {
          "font": {
           "color": "black",
           "family": "Arial",
           "size": 12
          },
          "showarrow": false,
          "text": "42",
          "x": "2024-12-24",
          "y": 42,
          "yshift": 10
         },
         {
          "font": {
           "color": "black",
           "family": "Arial",
           "size": 12
          },
          "showarrow": false,
          "text": "157",
          "x": "2024-12-27",
          "y": 157,
          "yshift": 10
         },
         {
          "font": {
           "color": "black",
           "family": "Arial",
           "size": 12
          },
          "showarrow": false,
          "text": "97",
          "x": "2024-12-30",
          "y": 97,
          "yshift": 10
         },
         {
          "font": {
           "color": "black",
           "family": "Arial",
           "size": 12
          },
          "showarrow": false,
          "text": "26",
          "x": "2024-12-31",
          "y": 26,
          "yshift": 10
         },
         {
          "font": {
           "color": "black",
           "family": "Arial",
           "size": 12
          },
          "showarrow": false,
          "text": "81",
          "x": "2025-01-02",
          "y": 81,
          "yshift": 10
         },
         {
          "font": {
           "color": "black",
           "family": "Arial",
           "size": 12
          },
          "showarrow": false,
          "text": "10",
          "x": "2025-01-03",
          "y": 10,
          "yshift": 10
         },
         {
          "font": {
           "color": "black",
           "family": "Arial",
           "size": 12
          },
          "showarrow": false,
          "text": "130",
          "x": "2025-01-08",
          "y": 130,
          "yshift": 10
         },
         {
          "font": {
           "color": "black",
           "family": "Arial",
           "size": 12
          },
          "showarrow": false,
          "text": "99",
          "x": "2025-01-09",
          "y": 99,
          "yshift": 10
         },
         {
          "font": {
           "color": "black",
           "family": "Arial",
           "size": 12
          },
          "showarrow": false,
          "text": "104",
          "x": "2025-01-10",
          "y": 104,
          "yshift": 10
         },
         {
          "font": {
           "color": "black",
           "family": "Arial",
           "size": 12
          },
          "showarrow": false,
          "text": "281",
          "x": "2025-01-13",
          "y": 281,
          "yshift": 10
         },
         {
          "font": {
           "color": "black",
           "family": "Arial",
           "size": 12
          },
          "showarrow": false,
          "text": "87",
          "x": "2025-01-14",
          "y": 87,
          "yshift": 10
         },
         {
          "font": {
           "color": "black",
           "family": "Arial",
           "size": 12
          },
          "showarrow": false,
          "text": "90",
          "x": "2025-01-15",
          "y": 90,
          "yshift": 10
         },
         {
          "font": {
           "color": "black",
           "family": "Arial",
           "size": 12
          },
          "showarrow": false,
          "text": "81",
          "x": "2025-01-16",
          "y": 81,
          "yshift": 10
         },
         {
          "font": {
           "color": "black",
           "family": "Arial",
           "size": 12
          },
          "showarrow": false,
          "text": "63",
          "x": "2025-01-17",
          "y": 63,
          "yshift": 10
         },
         {
          "font": {
           "color": "black",
           "family": "Arial",
           "size": 12
          },
          "showarrow": false,
          "text": "298",
          "x": "2025-01-20",
          "y": 298,
          "yshift": 10
         },
         {
          "font": {
           "color": "black",
           "family": "Arial",
           "size": 12
          },
          "showarrow": false,
          "text": "107",
          "x": "2025-01-21",
          "y": 107,
          "yshift": 10
         },
         {
          "font": {
           "color": "black",
           "family": "Arial",
           "size": 12
          },
          "showarrow": false,
          "text": "72",
          "x": "2025-01-22",
          "y": 72,
          "yshift": 10
         },
         {
          "font": {
           "color": "black",
           "family": "Arial",
           "size": 12
          },
          "showarrow": false,
          "text": "120",
          "x": "2025-01-23",
          "y": 120,
          "yshift": 10
         }
        ],
        "barmode": "stack",
        "legend": {
         "title": {
          "text": "Estado Detallado"
         },
         "tracegroupgap": 0
        },
        "template": {
         "data": {
          "bar": [
           {
            "error_x": {
             "color": "#2a3f5f"
            },
            "error_y": {
             "color": "#2a3f5f"
            },
            "marker": {
             "line": {
              "color": "#E5ECF6",
              "width": 0.5
             },
             "pattern": {
              "fillmode": "overlay",
              "size": 10,
              "solidity": 0.2
             }
            },
            "type": "bar"
           }
          ],
          "barpolar": [
           {
            "marker": {
             "line": {
              "color": "#E5ECF6",
              "width": 0.5
             },
             "pattern": {
              "fillmode": "overlay",
              "size": 10,
              "solidity": 0.2
             }
            },
            "type": "barpolar"
           }
          ],
          "carpet": [
           {
            "aaxis": {
             "endlinecolor": "#2a3f5f",
             "gridcolor": "white",
             "linecolor": "white",
             "minorgridcolor": "white",
             "startlinecolor": "#2a3f5f"
            },
            "baxis": {
             "endlinecolor": "#2a3f5f",
             "gridcolor": "white",
             "linecolor": "white",
             "minorgridcolor": "white",
             "startlinecolor": "#2a3f5f"
            },
            "type": "carpet"
           }
          ],
          "choropleth": [
           {
            "colorbar": {
             "outlinewidth": 0,
             "ticks": ""
            },
            "type": "choropleth"
           }
          ],
          "contour": [
           {
            "colorbar": {
             "outlinewidth": 0,
             "ticks": ""
            },
            "colorscale": [
             [
              0,
              "#0d0887"
             ],
             [
              0.1111111111111111,
              "#46039f"
             ],
             [
              0.2222222222222222,
              "#7201a8"
             ],
             [
              0.3333333333333333,
              "#9c179e"
             ],
             [
              0.4444444444444444,
              "#bd3786"
             ],
             [
              0.5555555555555556,
              "#d8576b"
             ],
             [
              0.6666666666666666,
              "#ed7953"
             ],
             [
              0.7777777777777778,
              "#fb9f3a"
             ],
             [
              0.8888888888888888,
              "#fdca26"
             ],
             [
              1,
              "#f0f921"
             ]
            ],
            "type": "contour"
           }
          ],
          "contourcarpet": [
           {
            "colorbar": {
             "outlinewidth": 0,
             "ticks": ""
            },
            "type": "contourcarpet"
           }
          ],
          "heatmap": [
           {
            "colorbar": {
             "outlinewidth": 0,
             "ticks": ""
            },
            "colorscale": [
             [
              0,
              "#0d0887"
             ],
             [
              0.1111111111111111,
              "#46039f"
             ],
             [
              0.2222222222222222,
              "#7201a8"
             ],
             [
              0.3333333333333333,
              "#9c179e"
             ],
             [
              0.4444444444444444,
              "#bd3786"
             ],
             [
              0.5555555555555556,
              "#d8576b"
             ],
             [
              0.6666666666666666,
              "#ed7953"
             ],
             [
              0.7777777777777778,
              "#fb9f3a"
             ],
             [
              0.8888888888888888,
              "#fdca26"
             ],
             [
              1,
              "#f0f921"
             ]
            ],
            "type": "heatmap"
           }
          ],
          "heatmapgl": [
           {
            "colorbar": {
             "outlinewidth": 0,
             "ticks": ""
            },
            "colorscale": [
             [
              0,
              "#0d0887"
             ],
             [
              0.1111111111111111,
              "#46039f"
             ],
             [
              0.2222222222222222,
              "#7201a8"
             ],
             [
              0.3333333333333333,
              "#9c179e"
             ],
             [
              0.4444444444444444,
              "#bd3786"
             ],
             [
              0.5555555555555556,
              "#d8576b"
             ],
             [
              0.6666666666666666,
              "#ed7953"
             ],
             [
              0.7777777777777778,
              "#fb9f3a"
             ],
             [
              0.8888888888888888,
              "#fdca26"
             ],
             [
              1,
              "#f0f921"
             ]
            ],
            "type": "heatmapgl"
           }
          ],
          "histogram": [
           {
            "marker": {
             "pattern": {
              "fillmode": "overlay",
              "size": 10,
              "solidity": 0.2
             }
            },
            "type": "histogram"
           }
          ],
          "histogram2d": [
           {
            "colorbar": {
             "outlinewidth": 0,
             "ticks": ""
            },
            "colorscale": [
             [
              0,
              "#0d0887"
             ],
             [
              0.1111111111111111,
              "#46039f"
             ],
             [
              0.2222222222222222,
              "#7201a8"
             ],
             [
              0.3333333333333333,
              "#9c179e"
             ],
             [
              0.4444444444444444,
              "#bd3786"
             ],
             [
              0.5555555555555556,
              "#d8576b"
             ],
             [
              0.6666666666666666,
              "#ed7953"
             ],
             [
              0.7777777777777778,
              "#fb9f3a"
             ],
             [
              0.8888888888888888,
              "#fdca26"
             ],
             [
              1,
              "#f0f921"
             ]
            ],
            "type": "histogram2d"
           }
          ],
          "histogram2dcontour": [
           {
            "colorbar": {
             "outlinewidth": 0,
             "ticks": ""
            },
            "colorscale": [
             [
              0,
              "#0d0887"
             ],
             [
              0.1111111111111111,
              "#46039f"
             ],
             [
              0.2222222222222222,
              "#7201a8"
             ],
             [
              0.3333333333333333,
              "#9c179e"
             ],
             [
              0.4444444444444444,
              "#bd3786"
             ],
             [
              0.5555555555555556,
              "#d8576b"
             ],
             [
              0.6666666666666666,
              "#ed7953"
             ],
             [
              0.7777777777777778,
              "#fb9f3a"
             ],
             [
              0.8888888888888888,
              "#fdca26"
             ],
             [
              1,
              "#f0f921"
             ]
            ],
            "type": "histogram2dcontour"
           }
          ],
          "mesh3d": [
           {
            "colorbar": {
             "outlinewidth": 0,
             "ticks": ""
            },
            "type": "mesh3d"
           }
          ],
          "parcoords": [
           {
            "line": {
             "colorbar": {
              "outlinewidth": 0,
              "ticks": ""
             }
            },
            "type": "parcoords"
           }
          ],
          "pie": [
           {
            "automargin": true,
            "type": "pie"
           }
          ],
          "scatter": [
           {
            "fillpattern": {
             "fillmode": "overlay",
             "size": 10,
             "solidity": 0.2
            },
            "type": "scatter"
           }
          ],
          "scatter3d": [
           {
            "line": {
             "colorbar": {
              "outlinewidth": 0,
              "ticks": ""
             }
            },
            "marker": {
             "colorbar": {
              "outlinewidth": 0,
              "ticks": ""
             }
            },
            "type": "scatter3d"
           }
          ],
          "scattercarpet": [
           {
            "marker": {
             "colorbar": {
              "outlinewidth": 0,
              "ticks": ""
             }
            },
            "type": "scattercarpet"
           }
          ],
          "scattergeo": [
           {
            "marker": {
             "colorbar": {
              "outlinewidth": 0,
              "ticks": ""
             }
            },
            "type": "scattergeo"
           }
          ],
          "scattergl": [
           {
            "marker": {
             "colorbar": {
              "outlinewidth": 0,
              "ticks": ""
             }
            },
            "type": "scattergl"
           }
          ],
          "scattermapbox": [
           {
            "marker": {
             "colorbar": {
              "outlinewidth": 0,
              "ticks": ""
             }
            },
            "type": "scattermapbox"
           }
          ],
          "scatterpolar": [
           {
            "marker": {
             "colorbar": {
              "outlinewidth": 0,
              "ticks": ""
             }
            },
            "type": "scatterpolar"
           }
          ],
          "scatterpolargl": [
           {
            "marker": {
             "colorbar": {
              "outlinewidth": 0,
              "ticks": ""
             }
            },
            "type": "scatterpolargl"
           }
          ],
          "scatterternary": [
           {
            "marker": {
             "colorbar": {
              "outlinewidth": 0,
              "ticks": ""
             }
            },
            "type": "scatterternary"
           }
          ],
          "surface": [
           {
            "colorbar": {
             "outlinewidth": 0,
             "ticks": ""
            },
            "colorscale": [
             [
              0,
              "#0d0887"
             ],
             [
              0.1111111111111111,
              "#46039f"
             ],
             [
              0.2222222222222222,
              "#7201a8"
             ],
             [
              0.3333333333333333,
              "#9c179e"
             ],
             [
              0.4444444444444444,
              "#bd3786"
             ],
             [
              0.5555555555555556,
              "#d8576b"
             ],
             [
              0.6666666666666666,
              "#ed7953"
             ],
             [
              0.7777777777777778,
              "#fb9f3a"
             ],
             [
              0.8888888888888888,
              "#fdca26"
             ],
             [
              1,
              "#f0f921"
             ]
            ],
            "type": "surface"
           }
          ],
          "table": [
           {
            "cells": {
             "fill": {
              "color": "#EBF0F8"
             },
             "line": {
              "color": "white"
             }
            },
            "header": {
             "fill": {
              "color": "#C8D4E3"
             },
             "line": {
              "color": "white"
             }
            },
            "type": "table"
           }
          ]
         },
         "layout": {
          "annotationdefaults": {
           "arrowcolor": "#2a3f5f",
           "arrowhead": 0,
           "arrowwidth": 1
          },
          "autotypenumbers": "strict",
          "coloraxis": {
           "colorbar": {
            "outlinewidth": 0,
            "ticks": ""
           }
          },
          "colorscale": {
           "diverging": [
            [
             0,
             "#8e0152"
            ],
            [
             0.1,
             "#c51b7d"
            ],
            [
             0.2,
             "#de77ae"
            ],
            [
             0.3,
             "#f1b6da"
            ],
            [
             0.4,
             "#fde0ef"
            ],
            [
             0.5,
             "#f7f7f7"
            ],
            [
             0.6,
             "#e6f5d0"
            ],
            [
             0.7,
             "#b8e186"
            ],
            [
             0.8,
             "#7fbc41"
            ],
            [
             0.9,
             "#4d9221"
            ],
            [
             1,
             "#276419"
            ]
           ],
           "sequential": [
            [
             0,
             "#0d0887"
            ],
            [
             0.1111111111111111,
             "#46039f"
            ],
            [
             0.2222222222222222,
             "#7201a8"
            ],
            [
             0.3333333333333333,
             "#9c179e"
            ],
            [
             0.4444444444444444,
             "#bd3786"
            ],
            [
             0.5555555555555556,
             "#d8576b"
            ],
            [
             0.6666666666666666,
             "#ed7953"
            ],
            [
             0.7777777777777778,
             "#fb9f3a"
            ],
            [
             0.8888888888888888,
             "#fdca26"
            ],
            [
             1,
             "#f0f921"
            ]
           ],
           "sequentialminus": [
            [
             0,
             "#0d0887"
            ],
            [
             0.1111111111111111,
             "#46039f"
            ],
            [
             0.2222222222222222,
             "#7201a8"
            ],
            [
             0.3333333333333333,
             "#9c179e"
            ],
            [
             0.4444444444444444,
             "#bd3786"
            ],
            [
             0.5555555555555556,
             "#d8576b"
            ],
            [
             0.6666666666666666,
             "#ed7953"
            ],
            [
             0.7777777777777778,
             "#fb9f3a"
            ],
            [
             0.8888888888888888,
             "#fdca26"
            ],
            [
             1,
             "#f0f921"
            ]
           ]
          },
          "colorway": [
           "#636efa",
           "#EF553B",
           "#00cc96",
           "#ab63fa",
           "#FFA15A",
           "#19d3f3",
           "#FF6692",
           "#B6E880",
           "#FF97FF",
           "#FECB52"
          ],
          "font": {
           "color": "#2a3f5f"
          },
          "geo": {
           "bgcolor": "white",
           "lakecolor": "white",
           "landcolor": "#E5ECF6",
           "showlakes": true,
           "showland": true,
           "subunitcolor": "white"
          },
          "hoverlabel": {
           "align": "left"
          },
          "hovermode": "closest",
          "mapbox": {
           "style": "light"
          },
          "paper_bgcolor": "white",
          "plot_bgcolor": "#E5ECF6",
          "polar": {
           "angularaxis": {
            "gridcolor": "white",
            "linecolor": "white",
            "ticks": ""
           },
           "bgcolor": "#E5ECF6",
           "radialaxis": {
            "gridcolor": "white",
            "linecolor": "white",
            "ticks": ""
           }
          },
          "scene": {
           "xaxis": {
            "backgroundcolor": "#E5ECF6",
            "gridcolor": "white",
            "gridwidth": 2,
            "linecolor": "white",
            "showbackground": true,
            "ticks": "",
            "zerolinecolor": "white"
           },
           "yaxis": {
            "backgroundcolor": "#E5ECF6",
            "gridcolor": "white",
            "gridwidth": 2,
            "linecolor": "white",
            "showbackground": true,
            "ticks": "",
            "zerolinecolor": "white"
           },
           "zaxis": {
            "backgroundcolor": "#E5ECF6",
            "gridcolor": "white",
            "gridwidth": 2,
            "linecolor": "white",
            "showbackground": true,
            "ticks": "",
            "zerolinecolor": "white"
           }
          },
          "shapedefaults": {
           "line": {
            "color": "#2a3f5f"
           }
          },
          "ternary": {
           "aaxis": {
            "gridcolor": "white",
            "linecolor": "white",
            "ticks": ""
           },
           "baxis": {
            "gridcolor": "white",
            "linecolor": "white",
            "ticks": ""
           },
           "bgcolor": "#E5ECF6",
           "caxis": {
            "gridcolor": "white",
            "linecolor": "white",
            "ticks": ""
           }
          },
          "title": {
           "x": 0.05
          },
          "xaxis": {
           "automargin": true,
           "gridcolor": "white",
           "linecolor": "white",
           "ticks": "",
           "title": {
            "standoff": 15
           },
           "zerolinecolor": "white",
           "zerolinewidth": 2
          },
          "yaxis": {
           "automargin": true,
           "gridcolor": "white",
           "linecolor": "white",
           "ticks": "",
           "title": {
            "standoff": 15
           },
           "zerolinecolor": "white",
           "zerolinewidth": 2
          }
         }
        },
        "title": {
         "font": {
          "size": 16
         },
         "text": "Pedidos enviados agrupados por día y estado detallado"
        },
        "xaxis": {
         "anchor": "y",
         "categoryorder": "category ascending",
         "domain": [
          0,
          1
         ],
         "tickangle": 90,
         "title": {
          "text": "Fecha"
         },
         "type": "category"
        },
        "yaxis": {
         "anchor": "x",
         "domain": [
          0,
          1
         ],
         "title": {
          "text": "Número de pedidos"
         }
        }
       }
      }
     },
     "metadata": {},
     "output_type": "display_data"
    }
   ],
   "source": [
    "import plotly.express as px\n",
    "import pandas as pd\n",
    "\n",
    "def plot_fulfilled_orders_by_status_plotly(df, date_column=\"Fulfilled at\", status_column=\"Estado Detallado\", name_column=\"Name\"):\n",
    "    \"\"\"\n",
    "    Crea un gráfico de barras apiladas que muestra los pedidos cumplidos agrupados por fecha y estado detallado.\n",
    "\n",
    "    Parámetros:\n",
    "        df (pd.DataFrame): DataFrame que contiene los datos de pedidos.\n",
    "        date_column (str): Nombre de la columna con las fechas (por defecto \"Fulfilled at\").\n",
    "        status_column (str): Nombre de la columna con los estados detallados (por defecto \"Estado Detallado\").\n",
    "        name_column (str): Nombre de la columna con los identificadores de los pedidos (por defecto \"Name\").\n",
    "\n",
    "    Retorna:\n",
    "        None: Muestra el gráfico directamente.\n",
    "    \"\"\"\n",
    "    # Ordenar el DataFrame por la columna de fecha\n",
    "    df = df.sort_values(by=date_column)\n",
    "\n",
    "    # Agrupar por fecha y estado detallado, contando los pedidos por estado\n",
    "    grouped = df.groupby([date_column, status_column])[name_column].count().reset_index(name=\"Cantidad\")\n",
    "\n",
    "    # Crear el gráfico interactivo con Plotly\n",
    "    fig = px.bar(\n",
    "        grouped,\n",
    "        x=date_column,\n",
    "        y=\"Cantidad\",\n",
    "        color=status_column,\n",
    "        title=\"Pedidos enviados agrupados por día y estado detallado\",\n",
    "        color_discrete_map={\n",
    "            \"Enviado\": \"#6699CC\",           # Azul\n",
    "            \"Entregado\": \"#66CC66\",         # Verde brillante\n",
    "            \"Devuelto\": \"#FF6666\"           # Rojo claro\n",
    "        },\n",
    "        labels={\"Cantidad\": \"Número de pedidos\", date_column: \"Fecha\", status_column: \"Estado Detallado\"},\n",
    "        barmode=\"stack\",\n",
    "    )\n",
    "\n",
    "    # Asegurar que las fechas se vean correctamente en el eje X\n",
    "    fig.update_xaxes(type=\"category\")\n",
    "\n",
    "    # Agregar texto total encima de cada barra\n",
    "    grouped_totals = grouped.groupby(date_column)[\"Cantidad\"].sum().reset_index()\n",
    "    for i, row in grouped_totals.iterrows():\n",
    "        fig.add_annotation(\n",
    "            x=row[date_column],\n",
    "            y=row[\"Cantidad\"],\n",
    "            text=f\"{int(row['Cantidad'])}\",\n",
    "            showarrow=False,\n",
    "            yshift=10,\n",
    "            font=dict(size=12, color=\"black\", family=\"Arial\"),\n",
    "        )\n",
    "\n",
    "    # Configurar diseño del gráfico\n",
    "    fig.update_layout(\n",
    "        xaxis_title=\"Fecha\",\n",
    "        yaxis_title=\"Número de pedidos\",\n",
    "        legend_title=\"Estado Detallado\",\n",
    "        title_font_size=16,\n",
    "        xaxis_tickangle=90,\n",
    "        xaxis=dict(categoryorder=\"category ascending\"),\n",
    "    )\n",
    "\n",
    "    # Mostrar el gráfico\n",
    "    fig.show()\n",
    "\n",
    "# Llama a la función con tu DataFrame\n",
    "plot_fulfilled_orders_by_status_plotly(transformed_data)\n"
   ]
  },
  {
   "cell_type": "code",
   "execution_count": null,
   "metadata": {},
   "outputs": [
    {
     "data": {
      "text/html": [
       "<div>\n",
       "<style scoped>\n",
       "    .dataframe tbody tr th:only-of-type {\n",
       "        vertical-align: middle;\n",
       "    }\n",
       "\n",
       "    .dataframe tbody tr th {\n",
       "        vertical-align: top;\n",
       "    }\n",
       "\n",
       "    .dataframe thead th {\n",
       "        text-align: right;\n",
       "    }\n",
       "</style>\n",
       "<table border=\"1\" class=\"dataframe\">\n",
       "  <thead>\n",
       "    <tr style=\"text-align: right;\">\n",
       "      <th></th>\n",
       "      <th></th>\n",
       "      <th></th>\n",
       "      <th>Estado Detallado</th>\n",
       "      <th>Pendiente de envío</th>\n",
       "      <th>Enviado</th>\n",
       "      <th>Entregado</th>\n",
       "      <th>Anulado</th>\n",
       "      <th>Devuelto</th>\n",
       "      <th>Total</th>\n",
       "      <th>%Entrega</th>\n",
       "      <th>%Envío</th>\n",
       "    </tr>\n",
       "    <tr>\n",
       "      <th>Año</th>\n",
       "      <th>Mes</th>\n",
       "      <th>Payment Method</th>\n",
       "      <th>Etiqueta</th>\n",
       "      <th></th>\n",
       "      <th></th>\n",
       "      <th></th>\n",
       "      <th></th>\n",
       "      <th></th>\n",
       "      <th></th>\n",
       "      <th></th>\n",
       "      <th></th>\n",
       "    </tr>\n",
       "  </thead>\n",
       "  <tbody>\n",
       "    <tr>\n",
       "      <th rowspan=\"5\" valign=\"top\">2024</th>\n",
       "      <th rowspan=\"5\" valign=\"top\">10</th>\n",
       "      <th rowspan=\"5\" valign=\"top\">COD</th>\n",
       "      <th>Barra luz led</th>\n",
       "      <td>0</td>\n",
       "      <td>1</td>\n",
       "      <td>61</td>\n",
       "      <td>26</td>\n",
       "      <td>8</td>\n",
       "      <td>96</td>\n",
       "      <td>88.571429</td>\n",
       "      <td>72.916667</td>\n",
       "    </tr>\n",
       "    <tr>\n",
       "      <th>Corrector capilar</th>\n",
       "      <td>0</td>\n",
       "      <td>2</td>\n",
       "      <td>21</td>\n",
       "      <td>7</td>\n",
       "      <td>10</td>\n",
       "      <td>40</td>\n",
       "      <td>69.696970</td>\n",
       "      <td>82.500000</td>\n",
       "    </tr>\n",
       "    <tr>\n",
       "      <th>Cortador vegetal</th>\n",
       "      <td>0</td>\n",
       "      <td>0</td>\n",
       "      <td>5</td>\n",
       "      <td>0</td>\n",
       "      <td>1</td>\n",
       "      <td>6</td>\n",
       "      <td>83.333333</td>\n",
       "      <td>100.000000</td>\n",
       "    </tr>\n",
       "    <tr>\n",
       "      <th>Elevador de altura</th>\n",
       "      <td>0</td>\n",
       "      <td>0</td>\n",
       "      <td>82</td>\n",
       "      <td>7</td>\n",
       "      <td>15</td>\n",
       "      <td>104</td>\n",
       "      <td>84.536082</td>\n",
       "      <td>93.269231</td>\n",
       "    </tr>\n",
       "    <tr>\n",
       "      <th>Expansor zapato</th>\n",
       "      <td>0</td>\n",
       "      <td>2</td>\n",
       "      <td>164</td>\n",
       "      <td>14</td>\n",
       "      <td>24</td>\n",
       "      <td>204</td>\n",
       "      <td>87.368421</td>\n",
       "      <td>93.137255</td>\n",
       "    </tr>\n",
       "    <tr>\n",
       "      <th>...</th>\n",
       "      <th>...</th>\n",
       "      <th>...</th>\n",
       "      <th>...</th>\n",
       "      <td>...</td>\n",
       "      <td>...</td>\n",
       "      <td>...</td>\n",
       "      <td>...</td>\n",
       "      <td>...</td>\n",
       "      <td>...</td>\n",
       "      <td>...</td>\n",
       "      <td>...</td>\n",
       "    </tr>\n",
       "    <tr>\n",
       "      <th rowspan=\"5\" valign=\"top\">2025</th>\n",
       "      <th rowspan=\"5\" valign=\"top\">1</th>\n",
       "      <th rowspan=\"5\" valign=\"top\">Prepayment</th>\n",
       "      <th>Dispensador aceite</th>\n",
       "      <td>1</td>\n",
       "      <td>0</td>\n",
       "      <td>38</td>\n",
       "      <td>0</td>\n",
       "      <td>0</td>\n",
       "      <td>39</td>\n",
       "      <td>100.000000</td>\n",
       "      <td>100.000000</td>\n",
       "    </tr>\n",
       "    <tr>\n",
       "      <th>Expansor zapato</th>\n",
       "      <td>0</td>\n",
       "      <td>0</td>\n",
       "      <td>1</td>\n",
       "      <td>0</td>\n",
       "      <td>0</td>\n",
       "      <td>1</td>\n",
       "      <td>100.000000</td>\n",
       "      <td>100.000000</td>\n",
       "    </tr>\n",
       "    <tr>\n",
       "      <th>Guantes térmicos</th>\n",
       "      <td>0</td>\n",
       "      <td>0</td>\n",
       "      <td>1</td>\n",
       "      <td>0</td>\n",
       "      <td>0</td>\n",
       "      <td>1</td>\n",
       "      <td>100.000000</td>\n",
       "      <td>100.000000</td>\n",
       "    </tr>\n",
       "    <tr>\n",
       "      <th>Lumiluxa</th>\n",
       "      <td>1</td>\n",
       "      <td>0</td>\n",
       "      <td>106</td>\n",
       "      <td>1</td>\n",
       "      <td>0</td>\n",
       "      <td>108</td>\n",
       "      <td>100.000000</td>\n",
       "      <td>99.074074</td>\n",
       "    </tr>\n",
       "    <tr>\n",
       "      <th>Naturlight</th>\n",
       "      <td>0</td>\n",
       "      <td>0</td>\n",
       "      <td>4</td>\n",
       "      <td>0</td>\n",
       "      <td>0</td>\n",
       "      <td>4</td>\n",
       "      <td>100.000000</td>\n",
       "      <td>100.000000</td>\n",
       "    </tr>\n",
       "  </tbody>\n",
       "</table>\n",
       "<p>61 rows × 8 columns</p>\n",
       "</div>"
      ],
      "text/plain": [
       "Estado Detallado                            Pendiente de envío  Enviado  \\\n",
       "Año  Mes Payment Method Etiqueta                                          \n",
       "2024 10  COD            Barra luz led                        0        1   \n",
       "                        Corrector capilar                    0        2   \n",
       "                        Cortador vegetal                     0        0   \n",
       "                        Elevador de altura                   0        0   \n",
       "                        Expansor zapato                      0        2   \n",
       "...                                                        ...      ...   \n",
       "2025 1   Prepayment     Dispensador aceite                   1        0   \n",
       "                        Expansor zapato                      0        0   \n",
       "                        Guantes térmicos                     0        0   \n",
       "                        Lumiluxa                             1        0   \n",
       "                        Naturlight                           0        0   \n",
       "\n",
       "Estado Detallado                            Entregado  Anulado  Devuelto  \\\n",
       "Año  Mes Payment Method Etiqueta                                           \n",
       "2024 10  COD            Barra luz led              61       26         8   \n",
       "                        Corrector capilar          21        7        10   \n",
       "                        Cortador vegetal            5        0         1   \n",
       "                        Elevador de altura         82        7        15   \n",
       "                        Expansor zapato           164       14        24   \n",
       "...                                               ...      ...       ...   \n",
       "2025 1   Prepayment     Dispensador aceite         38        0         0   \n",
       "                        Expansor zapato             1        0         0   \n",
       "                        Guantes térmicos            1        0         0   \n",
       "                        Lumiluxa                  106        1         0   \n",
       "                        Naturlight                  4        0         0   \n",
       "\n",
       "Estado Detallado                            Total    %Entrega      %Envío  \n",
       "Año  Mes Payment Method Etiqueta                                           \n",
       "2024 10  COD            Barra luz led          96   88.571429   72.916667  \n",
       "                        Corrector capilar      40   69.696970   82.500000  \n",
       "                        Cortador vegetal        6   83.333333  100.000000  \n",
       "                        Elevador de altura    104   84.536082   93.269231  \n",
       "                        Expansor zapato       204   87.368421   93.137255  \n",
       "...                                           ...         ...         ...  \n",
       "2025 1   Prepayment     Dispensador aceite     39  100.000000  100.000000  \n",
       "                        Expansor zapato         1  100.000000  100.000000  \n",
       "                        Guantes térmicos        1  100.000000  100.000000  \n",
       "                        Lumiluxa              108  100.000000   99.074074  \n",
       "                        Naturlight              4  100.000000  100.000000  \n",
       "\n",
       "[61 rows x 8 columns]"
      ]
     },
     "metadata": {},
     "output_type": "display_data"
    },
    {
     "data": {
      "text/html": [
       "<div>\n",
       "<style scoped>\n",
       "    .dataframe tbody tr th:only-of-type {\n",
       "        vertical-align: middle;\n",
       "    }\n",
       "\n",
       "    .dataframe tbody tr th {\n",
       "        vertical-align: top;\n",
       "    }\n",
       "\n",
       "    .dataframe thead th {\n",
       "        text-align: right;\n",
       "    }\n",
       "</style>\n",
       "<table border=\"1\" class=\"dataframe\">\n",
       "  <thead>\n",
       "    <tr style=\"text-align: right;\">\n",
       "      <th></th>\n",
       "      <th></th>\n",
       "      <th></th>\n",
       "      <th>Estado Detallado</th>\n",
       "      <th>Pendiente de envío</th>\n",
       "      <th>Enviado</th>\n",
       "      <th>Entregado</th>\n",
       "      <th>Anulado</th>\n",
       "      <th>Devuelto</th>\n",
       "      <th>Total</th>\n",
       "      <th>%Entrega</th>\n",
       "      <th>%Envío</th>\n",
       "    </tr>\n",
       "    <tr>\n",
       "      <th>Año</th>\n",
       "      <th>Mes</th>\n",
       "      <th>Payment Method</th>\n",
       "      <th>Etiqueta</th>\n",
       "      <th></th>\n",
       "      <th></th>\n",
       "      <th></th>\n",
       "      <th></th>\n",
       "      <th></th>\n",
       "      <th></th>\n",
       "      <th></th>\n",
       "      <th></th>\n",
       "    </tr>\n",
       "  </thead>\n",
       "  <tbody>\n",
       "    <tr>\n",
       "      <th rowspan=\"5\" valign=\"top\">2024</th>\n",
       "      <th rowspan=\"5\" valign=\"top\">10</th>\n",
       "      <th rowspan=\"5\" valign=\"top\">COD</th>\n",
       "      <th>Barra luz led</th>\n",
       "      <td>0.000000</td>\n",
       "      <td>1.041667</td>\n",
       "      <td>63.541667</td>\n",
       "      <td>27.083333</td>\n",
       "      <td>8.333333</td>\n",
       "      <td>96</td>\n",
       "      <td>88.571429</td>\n",
       "      <td>72.916667</td>\n",
       "    </tr>\n",
       "    <tr>\n",
       "      <th>Corrector capilar</th>\n",
       "      <td>0.000000</td>\n",
       "      <td>5.000000</td>\n",
       "      <td>52.500000</td>\n",
       "      <td>17.500000</td>\n",
       "      <td>25.000000</td>\n",
       "      <td>40</td>\n",
       "      <td>69.696970</td>\n",
       "      <td>82.500000</td>\n",
       "    </tr>\n",
       "    <tr>\n",
       "      <th>Cortador vegetal</th>\n",
       "      <td>0.000000</td>\n",
       "      <td>0.000000</td>\n",
       "      <td>83.333333</td>\n",
       "      <td>0.000000</td>\n",
       "      <td>16.666667</td>\n",
       "      <td>6</td>\n",
       "      <td>83.333333</td>\n",
       "      <td>100.000000</td>\n",
       "    </tr>\n",
       "    <tr>\n",
       "      <th>Elevador de altura</th>\n",
       "      <td>0.000000</td>\n",
       "      <td>0.000000</td>\n",
       "      <td>78.846154</td>\n",
       "      <td>6.730769</td>\n",
       "      <td>14.423077</td>\n",
       "      <td>104</td>\n",
       "      <td>84.536082</td>\n",
       "      <td>93.269231</td>\n",
       "    </tr>\n",
       "    <tr>\n",
       "      <th>Expansor zapato</th>\n",
       "      <td>0.000000</td>\n",
       "      <td>0.980392</td>\n",
       "      <td>80.392157</td>\n",
       "      <td>6.862745</td>\n",
       "      <td>11.764706</td>\n",
       "      <td>204</td>\n",
       "      <td>87.368421</td>\n",
       "      <td>93.137255</td>\n",
       "    </tr>\n",
       "    <tr>\n",
       "      <th>...</th>\n",
       "      <th>...</th>\n",
       "      <th>...</th>\n",
       "      <th>...</th>\n",
       "      <td>...</td>\n",
       "      <td>...</td>\n",
       "      <td>...</td>\n",
       "      <td>...</td>\n",
       "      <td>...</td>\n",
       "      <td>...</td>\n",
       "      <td>...</td>\n",
       "      <td>...</td>\n",
       "    </tr>\n",
       "    <tr>\n",
       "      <th rowspan=\"5\" valign=\"top\">2025</th>\n",
       "      <th rowspan=\"5\" valign=\"top\">1</th>\n",
       "      <th rowspan=\"5\" valign=\"top\">Prepayment</th>\n",
       "      <th>Dispensador aceite</th>\n",
       "      <td>2.564103</td>\n",
       "      <td>0.000000</td>\n",
       "      <td>97.435897</td>\n",
       "      <td>0.000000</td>\n",
       "      <td>0.000000</td>\n",
       "      <td>39</td>\n",
       "      <td>100.000000</td>\n",
       "      <td>100.000000</td>\n",
       "    </tr>\n",
       "    <tr>\n",
       "      <th>Expansor zapato</th>\n",
       "      <td>0.000000</td>\n",
       "      <td>0.000000</td>\n",
       "      <td>100.000000</td>\n",
       "      <td>0.000000</td>\n",
       "      <td>0.000000</td>\n",
       "      <td>1</td>\n",
       "      <td>100.000000</td>\n",
       "      <td>100.000000</td>\n",
       "    </tr>\n",
       "    <tr>\n",
       "      <th>Guantes térmicos</th>\n",
       "      <td>0.000000</td>\n",
       "      <td>0.000000</td>\n",
       "      <td>100.000000</td>\n",
       "      <td>0.000000</td>\n",
       "      <td>0.000000</td>\n",
       "      <td>1</td>\n",
       "      <td>100.000000</td>\n",
       "      <td>100.000000</td>\n",
       "    </tr>\n",
       "    <tr>\n",
       "      <th>Lumiluxa</th>\n",
       "      <td>0.925926</td>\n",
       "      <td>0.000000</td>\n",
       "      <td>98.148148</td>\n",
       "      <td>0.925926</td>\n",
       "      <td>0.000000</td>\n",
       "      <td>108</td>\n",
       "      <td>100.000000</td>\n",
       "      <td>99.074074</td>\n",
       "    </tr>\n",
       "    <tr>\n",
       "      <th>Naturlight</th>\n",
       "      <td>0.000000</td>\n",
       "      <td>0.000000</td>\n",
       "      <td>100.000000</td>\n",
       "      <td>0.000000</td>\n",
       "      <td>0.000000</td>\n",
       "      <td>4</td>\n",
       "      <td>100.000000</td>\n",
       "      <td>100.000000</td>\n",
       "    </tr>\n",
       "  </tbody>\n",
       "</table>\n",
       "<p>61 rows × 8 columns</p>\n",
       "</div>"
      ],
      "text/plain": [
       "Estado Detallado                            Pendiente de envío   Enviado  \\\n",
       "Año  Mes Payment Method Etiqueta                                           \n",
       "2024 10  COD            Barra luz led                 0.000000  1.041667   \n",
       "                        Corrector capilar             0.000000  5.000000   \n",
       "                        Cortador vegetal              0.000000  0.000000   \n",
       "                        Elevador de altura            0.000000  0.000000   \n",
       "                        Expansor zapato               0.000000  0.980392   \n",
       "...                                                        ...       ...   \n",
       "2025 1   Prepayment     Dispensador aceite            2.564103  0.000000   \n",
       "                        Expansor zapato               0.000000  0.000000   \n",
       "                        Guantes térmicos              0.000000  0.000000   \n",
       "                        Lumiluxa                      0.925926  0.000000   \n",
       "                        Naturlight                    0.000000  0.000000   \n",
       "\n",
       "Estado Detallado                             Entregado    Anulado   Devuelto  \\\n",
       "Año  Mes Payment Method Etiqueta                                               \n",
       "2024 10  COD            Barra luz led        63.541667  27.083333   8.333333   \n",
       "                        Corrector capilar    52.500000  17.500000  25.000000   \n",
       "                        Cortador vegetal     83.333333   0.000000  16.666667   \n",
       "                        Elevador de altura   78.846154   6.730769  14.423077   \n",
       "                        Expansor zapato      80.392157   6.862745  11.764706   \n",
       "...                                                ...        ...        ...   \n",
       "2025 1   Prepayment     Dispensador aceite   97.435897   0.000000   0.000000   \n",
       "                        Expansor zapato     100.000000   0.000000   0.000000   \n",
       "                        Guantes térmicos    100.000000   0.000000   0.000000   \n",
       "                        Lumiluxa             98.148148   0.925926   0.000000   \n",
       "                        Naturlight          100.000000   0.000000   0.000000   \n",
       "\n",
       "Estado Detallado                            Total    %Entrega      %Envío  \n",
       "Año  Mes Payment Method Etiqueta                                           \n",
       "2024 10  COD            Barra luz led          96   88.571429   72.916667  \n",
       "                        Corrector capilar      40   69.696970   82.500000  \n",
       "                        Cortador vegetal        6   83.333333  100.000000  \n",
       "                        Elevador de altura    104   84.536082   93.269231  \n",
       "                        Expansor zapato       204   87.368421   93.137255  \n",
       "...                                           ...         ...         ...  \n",
       "2025 1   Prepayment     Dispensador aceite     39  100.000000  100.000000  \n",
       "                        Expansor zapato         1  100.000000  100.000000  \n",
       "                        Guantes térmicos        1  100.000000  100.000000  \n",
       "                        Lumiluxa              108  100.000000   99.074074  \n",
       "                        Naturlight              4  100.000000  100.000000  \n",
       "\n",
       "[61 rows x 8 columns]"
      ]
     },
     "metadata": {},
     "output_type": "display_data"
    }
   ],
   "source": [
    "\n",
    "def generate_grouped_tables(df):\n",
    "    \"\"\"\n",
    "    Genera dos tablas agrupadas: una con valores absolutos y otra con valores relativos.\n",
    "    Agrupa por Estado Detallado en las columnas y por Año de Created at, Mes de Created at, Payment Method,\n",
    "    y Etiqueta en las filas. Las columnas se ordenan como Pendiente de envío, Enviado, Entregado, Anulado y Devuelto.\n",
    "    Además, añade columnas Total, %Entrega y %Envío.\n",
    "\n",
    "    Parámetros:\n",
    "        df (pd.DataFrame): DataFrame que contiene los datos.\n",
    "\n",
    "    Retorna:\n",
    "        tuple: (tabla_absoluta, tabla_relativa)\n",
    "    \"\"\"\n",
    "    # Asegurarse de que las columnas necesarias existen\n",
    "    required_columns = [\"Created at\", \"Estado Detallado\", \"Payment Method\", \"Etiqueta\"]\n",
    "    for col in required_columns:\n",
    "        if col not in df.columns:\n",
    "            raise ValueError(f\"La columna requerida '{col}' no existe en el DataFrame.\")\n",
    "\n",
    "    # Convertir la columna \"Created at\" a datetime si no lo está\n",
    "    df[\"Created at\"] = pd.to_datetime(df[\"Created at\"], errors=\"coerce\")\n",
    "\n",
    "    # Crear columnas de Año y Mes\n",
    "    df[\"Año\"] = df[\"Created at\"].dt.year\n",
    "    df[\"Mes\"] = df[\"Created at\"].dt.month\n",
    "\n",
    "    # Agrupar por Año, Mes, Payment Method, Etiqueta y crear columnas por Estado Detallado\n",
    "    grouped = df.groupby([\"Año\", \"Mes\", \"Payment Method\", \"Etiqueta\", \"Estado Detallado\"]).size().unstack(fill_value=0)\n",
    "\n",
    "    # Ordenar las columnas en el orden deseado\n",
    "    estado_orden = [\"Pendiente de envío\", \"Enviado\", \"Entregado\", \"Anulado\", \"Devuelto\"]\n",
    "    grouped = grouped.reindex(columns=estado_orden, fill_value=0)\n",
    "\n",
    "    # Calcular la columna Total\n",
    "    grouped[\"Total\"] = grouped.sum(axis=1)\n",
    "\n",
    "    # Calcular %Entrega y %Envío\n",
    "    grouped[\"%Entrega\"] = 1 - grouped[\"Devuelto\"] / (grouped[\"Total\"] - grouped[\"Anulado\"])\n",
    "    grouped[\"%Entrega\"] = grouped[\"%Entrega\"].fillna(0) * 100  # Manejar divisiones por cero\n",
    "\n",
    "    grouped[\"%Envío\"] = 1 - grouped[\"Anulado\"] / grouped[\"Total\"]\n",
    "    grouped[\"%Envío\"] = grouped[\"%Envío\"].fillna(0) * 100  # Manejar divisiones por cero\n",
    "\n",
    "    # Crear tabla de valores absolutos\n",
    "    tabla_absoluta = grouped\n",
    "\n",
    "    # Crear tabla de valores relativos\n",
    "    tabla_relativa = grouped.iloc[:, :-3].div(grouped[\"Total\"], axis=0).fillna(0) * 100\n",
    "    tabla_relativa[\"Total\"] = grouped[\"Total\"]\n",
    "    tabla_relativa[\"%Entrega\"] = grouped[\"%Entrega\"]\n",
    "    tabla_relativa[\"%Envío\"] = grouped[\"%Envío\"]\n",
    "\n",
    "    return tabla_absoluta, tabla_relativa\n",
    "\n",
    "tabla_absoluta, tabla_relativa = generate_grouped_tables(transformed_data)\n",
    "display(tabla_absoluta)\n",
    "display(tabla_relativa)\n"
   ]
  },
  {
   "cell_type": "code",
   "execution_count": null,
   "metadata": {},
   "outputs": [
    {
     "data": {
      "application/vnd.plotly.v1+json": {
       "config": {
        "plotlyServerURL": "https://plot.ly"
       },
       "data": [
        {
         "alignmentgroup": "True",
         "hovertemplate": "Estado Detallado=Anulado<br>Productos=%{x}<br>Número de pedidos=%{y}<extra></extra>",
         "legendgroup": "Anulado",
         "marker": {
          "color": "#FFA500",
          "pattern": {
           "shape": ""
          }
         },
         "name": "Anulado",
         "offsetgroup": "Anulado",
         "orientation": "v",
         "showlegend": true,
         "textposition": "auto",
         "type": "bar",
         "x": [
          "Barra luz led",
          "Corrector capilar",
          "Elevador de altura",
          "Expansor zapato",
          "Lumiluxa",
          "Mascarilla lifting",
          "Medidor laser",
          "Naturlight"
         ],
         "xaxis": "x",
         "y": [
          26,
          7,
          7,
          14,
          12,
          5,
          3,
          5
         ],
         "yaxis": "y"
        },
        {
         "alignmentgroup": "True",
         "hovertemplate": "Estado Detallado=Devuelto<br>Productos=%{x}<br>Número de pedidos=%{y}<extra></extra>",
         "legendgroup": "Devuelto",
         "marker": {
          "color": "#FF6666",
          "pattern": {
           "shape": ""
          }
         },
         "name": "Devuelto",
         "offsetgroup": "Devuelto",
         "orientation": "v",
         "showlegend": true,
         "textposition": "auto",
         "type": "bar",
         "x": [
          "Barra luz led",
          "Corrector capilar",
          "Cortador vegetal",
          "Elevador de altura",
          "Expansor zapato",
          "Mascarilla lifting",
          "Medidor laser"
         ],
         "xaxis": "x",
         "y": [
          8,
          10,
          1,
          15,
          24,
          11,
          10
         ],
         "yaxis": "y"
        },
        {
         "alignmentgroup": "True",
         "hovertemplate": "Estado Detallado=Entregado<br>Productos=%{x}<br>Número de pedidos=%{y}<extra></extra>",
         "legendgroup": "Entregado",
         "marker": {
          "color": "#66CC66",
          "pattern": {
           "shape": ""
          }
         },
         "name": "Entregado",
         "offsetgroup": "Entregado",
         "orientation": "v",
         "showlegend": true,
         "textposition": "auto",
         "type": "bar",
         "x": [
          "Barra luz led",
          "Corrector capilar",
          "Cortador vegetal",
          "Elevador de altura",
          "Expansor zapato",
          "Lumiluxa",
          "Mascarilla lifting",
          "Medidor laser",
          "Naturlight"
         ],
         "xaxis": "x",
         "y": [
          68,
          21,
          5,
          87,
          194,
          4,
          34,
          39,
          3
         ],
         "yaxis": "y"
        },
        {
         "alignmentgroup": "True",
         "hovertemplate": "Estado Detallado=Enviado<br>Productos=%{x}<br>Número de pedidos=%{y}<extra></extra>",
         "legendgroup": "Enviado",
         "marker": {
          "color": "#6699CC",
          "pattern": {
           "shape": ""
          }
         },
         "name": "Enviado",
         "offsetgroup": "Enviado",
         "orientation": "v",
         "showlegend": true,
         "textposition": "auto",
         "type": "bar",
         "x": [
          "Barra luz led",
          "Corrector capilar",
          "Expansor zapato",
          "Lumiluxa",
          "Mascarilla lifting",
          "Medidor laser"
         ],
         "xaxis": "x",
         "y": [
          1,
          2,
          2,
          1,
          1,
          2
         ],
         "yaxis": "y"
        },
        {
         "alignmentgroup": "True",
         "hovertemplate": "Estado Detallado=Otro<br>Productos=%{x}<br>Número de pedidos=%{y}<extra></extra>",
         "legendgroup": "Otro",
         "marker": {
          "color": "#CCCCCC",
          "pattern": {
           "shape": ""
          }
         },
         "name": "Otro",
         "offsetgroup": "Otro",
         "orientation": "v",
         "showlegend": true,
         "textposition": "auto",
         "type": "bar",
         "x": [
          "Corrector capilar",
          "Expansor zapato"
         ],
         "xaxis": "x",
         "y": [
          1,
          7
         ],
         "yaxis": "y"
        }
       ],
       "layout": {
        "annotations": [
         {
          "font": {
           "color": "black",
           "family": "Arial",
           "size": 12
          },
          "showarrow": false,
          "text": "Total: 103",
          "x": "Barra luz led",
          "y": 103,
          "yshift": 10
         },
         {
          "font": {
           "color": "black",
           "family": "Arial",
           "size": 12
          },
          "showarrow": false,
          "text": "Total: 41",
          "x": "Corrector capilar",
          "y": 41,
          "yshift": 10
         },
         {
          "font": {
           "color": "black",
           "family": "Arial",
           "size": 12
          },
          "showarrow": false,
          "text": "Total: 6",
          "x": "Cortador vegetal",
          "y": 6,
          "yshift": 10
         },
         {
          "font": {
           "color": "black",
           "family": "Arial",
           "size": 12
          },
          "showarrow": false,
          "text": "Total: 109",
          "x": "Elevador de altura",
          "y": 109,
          "yshift": 10
         },
         {
          "font": {
           "color": "black",
           "family": "Arial",
           "size": 12
          },
          "showarrow": false,
          "text": "Total: 241",
          "x": "Expansor zapato",
          "y": 241,
          "yshift": 10
         },
         {
          "font": {
           "color": "black",
           "family": "Arial",
           "size": 12
          },
          "showarrow": false,
          "text": "Total: 17",
          "x": "Lumiluxa",
          "y": 17,
          "yshift": 10
         },
         {
          "font": {
           "color": "black",
           "family": "Arial",
           "size": 12
          },
          "showarrow": false,
          "text": "Total: 51",
          "x": "Mascarilla lifting",
          "y": 51,
          "yshift": 10
         },
         {
          "font": {
           "color": "black",
           "family": "Arial",
           "size": 12
          },
          "showarrow": false,
          "text": "Total: 54",
          "x": "Medidor laser",
          "y": 54,
          "yshift": 10
         },
         {
          "font": {
           "color": "black",
           "family": "Arial",
           "size": 12
          },
          "showarrow": false,
          "text": "Total: 8",
          "x": "Naturlight",
          "y": 8,
          "yshift": 10
         }
        ],
        "barmode": "stack",
        "legend": {
         "title": {
          "text": "Estado Detallado"
         },
         "tracegroupgap": 0
        },
        "template": {
         "data": {
          "bar": [
           {
            "error_x": {
             "color": "#2a3f5f"
            },
            "error_y": {
             "color": "#2a3f5f"
            },
            "marker": {
             "line": {
              "color": "#E5ECF6",
              "width": 0.5
             },
             "pattern": {
              "fillmode": "overlay",
              "size": 10,
              "solidity": 0.2
             }
            },
            "type": "bar"
           }
          ],
          "barpolar": [
           {
            "marker": {
             "line": {
              "color": "#E5ECF6",
              "width": 0.5
             },
             "pattern": {
              "fillmode": "overlay",
              "size": 10,
              "solidity": 0.2
             }
            },
            "type": "barpolar"
           }
          ],
          "carpet": [
           {
            "aaxis": {
             "endlinecolor": "#2a3f5f",
             "gridcolor": "white",
             "linecolor": "white",
             "minorgridcolor": "white",
             "startlinecolor": "#2a3f5f"
            },
            "baxis": {
             "endlinecolor": "#2a3f5f",
             "gridcolor": "white",
             "linecolor": "white",
             "minorgridcolor": "white",
             "startlinecolor": "#2a3f5f"
            },
            "type": "carpet"
           }
          ],
          "choropleth": [
           {
            "colorbar": {
             "outlinewidth": 0,
             "ticks": ""
            },
            "type": "choropleth"
           }
          ],
          "contour": [
           {
            "colorbar": {
             "outlinewidth": 0,
             "ticks": ""
            },
            "colorscale": [
             [
              0,
              "#0d0887"
             ],
             [
              0.1111111111111111,
              "#46039f"
             ],
             [
              0.2222222222222222,
              "#7201a8"
             ],
             [
              0.3333333333333333,
              "#9c179e"
             ],
             [
              0.4444444444444444,
              "#bd3786"
             ],
             [
              0.5555555555555556,
              "#d8576b"
             ],
             [
              0.6666666666666666,
              "#ed7953"
             ],
             [
              0.7777777777777778,
              "#fb9f3a"
             ],
             [
              0.8888888888888888,
              "#fdca26"
             ],
             [
              1,
              "#f0f921"
             ]
            ],
            "type": "contour"
           }
          ],
          "contourcarpet": [
           {
            "colorbar": {
             "outlinewidth": 0,
             "ticks": ""
            },
            "type": "contourcarpet"
           }
          ],
          "heatmap": [
           {
            "colorbar": {
             "outlinewidth": 0,
             "ticks": ""
            },
            "colorscale": [
             [
              0,
              "#0d0887"
             ],
             [
              0.1111111111111111,
              "#46039f"
             ],
             [
              0.2222222222222222,
              "#7201a8"
             ],
             [
              0.3333333333333333,
              "#9c179e"
             ],
             [
              0.4444444444444444,
              "#bd3786"
             ],
             [
              0.5555555555555556,
              "#d8576b"
             ],
             [
              0.6666666666666666,
              "#ed7953"
             ],
             [
              0.7777777777777778,
              "#fb9f3a"
             ],
             [
              0.8888888888888888,
              "#fdca26"
             ],
             [
              1,
              "#f0f921"
             ]
            ],
            "type": "heatmap"
           }
          ],
          "heatmapgl": [
           {
            "colorbar": {
             "outlinewidth": 0,
             "ticks": ""
            },
            "colorscale": [
             [
              0,
              "#0d0887"
             ],
             [
              0.1111111111111111,
              "#46039f"
             ],
             [
              0.2222222222222222,
              "#7201a8"
             ],
             [
              0.3333333333333333,
              "#9c179e"
             ],
             [
              0.4444444444444444,
              "#bd3786"
             ],
             [
              0.5555555555555556,
              "#d8576b"
             ],
             [
              0.6666666666666666,
              "#ed7953"
             ],
             [
              0.7777777777777778,
              "#fb9f3a"
             ],
             [
              0.8888888888888888,
              "#fdca26"
             ],
             [
              1,
              "#f0f921"
             ]
            ],
            "type": "heatmapgl"
           }
          ],
          "histogram": [
           {
            "marker": {
             "pattern": {
              "fillmode": "overlay",
              "size": 10,
              "solidity": 0.2
             }
            },
            "type": "histogram"
           }
          ],
          "histogram2d": [
           {
            "colorbar": {
             "outlinewidth": 0,
             "ticks": ""
            },
            "colorscale": [
             [
              0,
              "#0d0887"
             ],
             [
              0.1111111111111111,
              "#46039f"
             ],
             [
              0.2222222222222222,
              "#7201a8"
             ],
             [
              0.3333333333333333,
              "#9c179e"
             ],
             [
              0.4444444444444444,
              "#bd3786"
             ],
             [
              0.5555555555555556,
              "#d8576b"
             ],
             [
              0.6666666666666666,
              "#ed7953"
             ],
             [
              0.7777777777777778,
              "#fb9f3a"
             ],
             [
              0.8888888888888888,
              "#fdca26"
             ],
             [
              1,
              "#f0f921"
             ]
            ],
            "type": "histogram2d"
           }
          ],
          "histogram2dcontour": [
           {
            "colorbar": {
             "outlinewidth": 0,
             "ticks": ""
            },
            "colorscale": [
             [
              0,
              "#0d0887"
             ],
             [
              0.1111111111111111,
              "#46039f"
             ],
             [
              0.2222222222222222,
              "#7201a8"
             ],
             [
              0.3333333333333333,
              "#9c179e"
             ],
             [
              0.4444444444444444,
              "#bd3786"
             ],
             [
              0.5555555555555556,
              "#d8576b"
             ],
             [
              0.6666666666666666,
              "#ed7953"
             ],
             [
              0.7777777777777778,
              "#fb9f3a"
             ],
             [
              0.8888888888888888,
              "#fdca26"
             ],
             [
              1,
              "#f0f921"
             ]
            ],
            "type": "histogram2dcontour"
           }
          ],
          "mesh3d": [
           {
            "colorbar": {
             "outlinewidth": 0,
             "ticks": ""
            },
            "type": "mesh3d"
           }
          ],
          "parcoords": [
           {
            "line": {
             "colorbar": {
              "outlinewidth": 0,
              "ticks": ""
             }
            },
            "type": "parcoords"
           }
          ],
          "pie": [
           {
            "automargin": true,
            "type": "pie"
           }
          ],
          "scatter": [
           {
            "fillpattern": {
             "fillmode": "overlay",
             "size": 10,
             "solidity": 0.2
            },
            "type": "scatter"
           }
          ],
          "scatter3d": [
           {
            "line": {
             "colorbar": {
              "outlinewidth": 0,
              "ticks": ""
             }
            },
            "marker": {
             "colorbar": {
              "outlinewidth": 0,
              "ticks": ""
             }
            },
            "type": "scatter3d"
           }
          ],
          "scattercarpet": [
           {
            "marker": {
             "colorbar": {
              "outlinewidth": 0,
              "ticks": ""
             }
            },
            "type": "scattercarpet"
           }
          ],
          "scattergeo": [
           {
            "marker": {
             "colorbar": {
              "outlinewidth": 0,
              "ticks": ""
             }
            },
            "type": "scattergeo"
           }
          ],
          "scattergl": [
           {
            "marker": {
             "colorbar": {
              "outlinewidth": 0,
              "ticks": ""
             }
            },
            "type": "scattergl"
           }
          ],
          "scattermapbox": [
           {
            "marker": {
             "colorbar": {
              "outlinewidth": 0,
              "ticks": ""
             }
            },
            "type": "scattermapbox"
           }
          ],
          "scatterpolar": [
           {
            "marker": {
             "colorbar": {
              "outlinewidth": 0,
              "ticks": ""
             }
            },
            "type": "scatterpolar"
           }
          ],
          "scatterpolargl": [
           {
            "marker": {
             "colorbar": {
              "outlinewidth": 0,
              "ticks": ""
             }
            },
            "type": "scatterpolargl"
           }
          ],
          "scatterternary": [
           {
            "marker": {
             "colorbar": {
              "outlinewidth": 0,
              "ticks": ""
             }
            },
            "type": "scatterternary"
           }
          ],
          "surface": [
           {
            "colorbar": {
             "outlinewidth": 0,
             "ticks": ""
            },
            "colorscale": [
             [
              0,
              "#0d0887"
             ],
             [
              0.1111111111111111,
              "#46039f"
             ],
             [
              0.2222222222222222,
              "#7201a8"
             ],
             [
              0.3333333333333333,
              "#9c179e"
             ],
             [
              0.4444444444444444,
              "#bd3786"
             ],
             [
              0.5555555555555556,
              "#d8576b"
             ],
             [
              0.6666666666666666,
              "#ed7953"
             ],
             [
              0.7777777777777778,
              "#fb9f3a"
             ],
             [
              0.8888888888888888,
              "#fdca26"
             ],
             [
              1,
              "#f0f921"
             ]
            ],
            "type": "surface"
           }
          ],
          "table": [
           {
            "cells": {
             "fill": {
              "color": "#EBF0F8"
             },
             "line": {
              "color": "white"
             }
            },
            "header": {
             "fill": {
              "color": "#C8D4E3"
             },
             "line": {
              "color": "white"
             }
            },
            "type": "table"
           }
          ]
         },
         "layout": {
          "annotationdefaults": {
           "arrowcolor": "#2a3f5f",
           "arrowhead": 0,
           "arrowwidth": 1
          },
          "autotypenumbers": "strict",
          "coloraxis": {
           "colorbar": {
            "outlinewidth": 0,
            "ticks": ""
           }
          },
          "colorscale": {
           "diverging": [
            [
             0,
             "#8e0152"
            ],
            [
             0.1,
             "#c51b7d"
            ],
            [
             0.2,
             "#de77ae"
            ],
            [
             0.3,
             "#f1b6da"
            ],
            [
             0.4,
             "#fde0ef"
            ],
            [
             0.5,
             "#f7f7f7"
            ],
            [
             0.6,
             "#e6f5d0"
            ],
            [
             0.7,
             "#b8e186"
            ],
            [
             0.8,
             "#7fbc41"
            ],
            [
             0.9,
             "#4d9221"
            ],
            [
             1,
             "#276419"
            ]
           ],
           "sequential": [
            [
             0,
             "#0d0887"
            ],
            [
             0.1111111111111111,
             "#46039f"
            ],
            [
             0.2222222222222222,
             "#7201a8"
            ],
            [
             0.3333333333333333,
             "#9c179e"
            ],
            [
             0.4444444444444444,
             "#bd3786"
            ],
            [
             0.5555555555555556,
             "#d8576b"
            ],
            [
             0.6666666666666666,
             "#ed7953"
            ],
            [
             0.7777777777777778,
             "#fb9f3a"
            ],
            [
             0.8888888888888888,
             "#fdca26"
            ],
            [
             1,
             "#f0f921"
            ]
           ],
           "sequentialminus": [
            [
             0,
             "#0d0887"
            ],
            [
             0.1111111111111111,
             "#46039f"
            ],
            [
             0.2222222222222222,
             "#7201a8"
            ],
            [
             0.3333333333333333,
             "#9c179e"
            ],
            [
             0.4444444444444444,
             "#bd3786"
            ],
            [
             0.5555555555555556,
             "#d8576b"
            ],
            [
             0.6666666666666666,
             "#ed7953"
            ],
            [
             0.7777777777777778,
             "#fb9f3a"
            ],
            [
             0.8888888888888888,
             "#fdca26"
            ],
            [
             1,
             "#f0f921"
            ]
           ]
          },
          "colorway": [
           "#636efa",
           "#EF553B",
           "#00cc96",
           "#ab63fa",
           "#FFA15A",
           "#19d3f3",
           "#FF6692",
           "#B6E880",
           "#FF97FF",
           "#FECB52"
          ],
          "font": {
           "color": "#2a3f5f"
          },
          "geo": {
           "bgcolor": "white",
           "lakecolor": "white",
           "landcolor": "#E5ECF6",
           "showlakes": true,
           "showland": true,
           "subunitcolor": "white"
          },
          "hoverlabel": {
           "align": "left"
          },
          "hovermode": "closest",
          "mapbox": {
           "style": "light"
          },
          "paper_bgcolor": "white",
          "plot_bgcolor": "#E5ECF6",
          "polar": {
           "angularaxis": {
            "gridcolor": "white",
            "linecolor": "white",
            "ticks": ""
           },
           "bgcolor": "#E5ECF6",
           "radialaxis": {
            "gridcolor": "white",
            "linecolor": "white",
            "ticks": ""
           }
          },
          "scene": {
           "xaxis": {
            "backgroundcolor": "#E5ECF6",
            "gridcolor": "white",
            "gridwidth": 2,
            "linecolor": "white",
            "showbackground": true,
            "ticks": "",
            "zerolinecolor": "white"
           },
           "yaxis": {
            "backgroundcolor": "#E5ECF6",
            "gridcolor": "white",
            "gridwidth": 2,
            "linecolor": "white",
            "showbackground": true,
            "ticks": "",
            "zerolinecolor": "white"
           },
           "zaxis": {
            "backgroundcolor": "#E5ECF6",
            "gridcolor": "white",
            "gridwidth": 2,
            "linecolor": "white",
            "showbackground": true,
            "ticks": "",
            "zerolinecolor": "white"
           }
          },
          "shapedefaults": {
           "line": {
            "color": "#2a3f5f"
           }
          },
          "ternary": {
           "aaxis": {
            "gridcolor": "white",
            "linecolor": "white",
            "ticks": ""
           },
           "baxis": {
            "gridcolor": "white",
            "linecolor": "white",
            "ticks": ""
           },
           "bgcolor": "#E5ECF6",
           "caxis": {
            "gridcolor": "white",
            "linecolor": "white",
            "ticks": ""
           }
          },
          "title": {
           "x": 0.05
          },
          "xaxis": {
           "automargin": true,
           "gridcolor": "white",
           "linecolor": "white",
           "ticks": "",
           "title": {
            "standoff": 15
           },
           "zerolinecolor": "white",
           "zerolinewidth": 2
          },
          "yaxis": {
           "automargin": true,
           "gridcolor": "white",
           "linecolor": "white",
           "ticks": "",
           "title": {
            "standoff": 15
           },
           "zerolinecolor": "white",
           "zerolinewidth": 2
          }
         }
        },
        "title": {
         "font": {
          "size": 16
         },
         "text": "Pedidos en 2024-10 por producto (Etiqueta)"
        },
        "xaxis": {
         "anchor": "y",
         "domain": [
          0,
          1
         ],
         "tickangle": -45,
         "title": {
          "text": "Productos (Etiqueta)"
         }
        },
        "yaxis": {
         "anchor": "x",
         "domain": [
          0,
          1
         ],
         "title": {
          "text": "Número de pedidos"
         }
        }
       }
      }
     },
     "metadata": {},
     "output_type": "display_data"
    },
    {
     "data": {
      "application/vnd.plotly.v1+json": {
       "config": {
        "plotlyServerURL": "https://plot.ly"
       },
       "data": [
        {
         "alignmentgroup": "True",
         "hovertemplate": "Estado Detallado=Anulado<br>Productos=%{x}<br>Número de pedidos=%{y}<extra></extra>",
         "legendgroup": "Anulado",
         "marker": {
          "color": "#FFA500",
          "pattern": {
           "shape": ""
          }
         },
         "name": "Anulado",
         "offsetgroup": "Anulado",
         "orientation": "v",
         "showlegend": true,
         "textposition": "auto",
         "type": "bar",
         "x": [
          "Astrolamp",
          "Barra luz led",
          "Carclean",
          "Corrector capilar",
          "Cortador vegetal",
          "Dispensador aceite",
          "Expansor zapato",
          "Guantes térmicos",
          "Lumiluxa",
          "Mascarilla lifting",
          "Naturlight"
         ],
         "xaxis": "x",
         "y": [
          3,
          31,
          11,
          16,
          4,
          12,
          7,
          17,
          9,
          4,
          11
         ],
         "yaxis": "y"
        },
        {
         "alignmentgroup": "True",
         "hovertemplate": "Estado Detallado=Devuelto<br>Productos=%{x}<br>Número de pedidos=%{y}<extra></extra>",
         "legendgroup": "Devuelto",
         "marker": {
          "color": "#FF6666",
          "pattern": {
           "shape": ""
          }
         },
         "name": "Devuelto",
         "offsetgroup": "Devuelto",
         "orientation": "v",
         "showlegend": true,
         "textposition": "auto",
         "type": "bar",
         "x": [
          "Barra luz led",
          "Corrector capilar",
          "Cortador vegetal",
          "Dispensador aceite",
          "Elevador de altura",
          "Expansor zapato",
          "Guantes térmicos",
          "Mascarilla lifting"
         ],
         "xaxis": "x",
         "y": [
          42,
          15,
          3,
          1,
          1,
          15,
          21,
          6
         ],
         "yaxis": "y"
        },
        {
         "alignmentgroup": "True",
         "hovertemplate": "Estado Detallado=Entregado<br>Productos=%{x}<br>Número de pedidos=%{y}<extra></extra>",
         "legendgroup": "Entregado",
         "marker": {
          "color": "#66CC66",
          "pattern": {
           "shape": ""
          }
         },
         "name": "Entregado",
         "offsetgroup": "Entregado",
         "orientation": "v",
         "showlegend": true,
         "textposition": "auto",
         "type": "bar",
         "x": [
          "Barra luz led",
          "Corrector capilar",
          "Cortador vegetal",
          "Dispensador aceite",
          "Elevador de altura",
          "Expansor zapato",
          "Guantes térmicos",
          "Lumiluxa",
          "Mascarilla lifting",
          "Medidor laser",
          "Naturlight"
         ],
         "xaxis": "x",
         "y": [
          359,
          66,
          50,
          3,
          8,
          180,
          175,
          3,
          35,
          1,
          6
         ],
         "yaxis": "y"
        },
        {
         "alignmentgroup": "True",
         "hovertemplate": "Estado Detallado=Enviado<br>Productos=%{x}<br>Número de pedidos=%{y}<extra></extra>",
         "legendgroup": "Enviado",
         "marker": {
          "color": "#6699CC",
          "pattern": {
           "shape": ""
          }
         },
         "name": "Enviado",
         "offsetgroup": "Enviado",
         "orientation": "v",
         "showlegend": true,
         "textposition": "auto",
         "type": "bar",
         "x": [
          "Barra luz led",
          "Corrector capilar",
          "Cortador vegetal",
          "Dispensador aceite",
          "Expansor zapato",
          "Guantes térmicos",
          "Mascarilla lifting"
         ],
         "xaxis": "x",
         "y": [
          19,
          7,
          5,
          1,
          14,
          4,
          2
         ],
         "yaxis": "y"
        },
        {
         "alignmentgroup": "True",
         "hovertemplate": "Estado Detallado=Otro<br>Productos=%{x}<br>Número de pedidos=%{y}<extra></extra>",
         "legendgroup": "Otro",
         "marker": {
          "color": "#CCCCCC",
          "pattern": {
           "shape": ""
          }
         },
         "name": "Otro",
         "offsetgroup": "Otro",
         "orientation": "v",
         "showlegend": true,
         "textposition": "auto",
         "type": "bar",
         "x": [
          "Expansor zapato"
         ],
         "xaxis": "x",
         "y": [
          2
         ],
         "yaxis": "y"
        }
       ],
       "layout": {
        "annotations": [
         {
          "font": {
           "color": "black",
           "family": "Arial",
           "size": 12
          },
          "showarrow": false,
          "text": "Total: 3",
          "x": "Astrolamp",
          "y": 3,
          "yshift": 10
         },
         {
          "font": {
           "color": "black",
           "family": "Arial",
           "size": 12
          },
          "showarrow": false,
          "text": "Total: 451",
          "x": "Barra luz led",
          "y": 451,
          "yshift": 10
         },
         {
          "font": {
           "color": "black",
           "family": "Arial",
           "size": 12
          },
          "showarrow": false,
          "text": "Total: 11",
          "x": "Carclean",
          "y": 11,
          "yshift": 10
         },
         {
          "font": {
           "color": "black",
           "family": "Arial",
           "size": 12
          },
          "showarrow": false,
          "text": "Total: 104",
          "x": "Corrector capilar",
          "y": 104,
          "yshift": 10
         },
         {
          "font": {
           "color": "black",
           "family": "Arial",
           "size": 12
          },
          "showarrow": false,
          "text": "Total: 62",
          "x": "Cortador vegetal",
          "y": 62,
          "yshift": 10
         },
         {
          "font": {
           "color": "black",
           "family": "Arial",
           "size": 12
          },
          "showarrow": false,
          "text": "Total: 17",
          "x": "Dispensador aceite",
          "y": 17,
          "yshift": 10
         },
         {
          "font": {
           "color": "black",
           "family": "Arial",
           "size": 12
          },
          "showarrow": false,
          "text": "Total: 9",
          "x": "Elevador de altura",
          "y": 9,
          "yshift": 10
         },
         {
          "font": {
           "color": "black",
           "family": "Arial",
           "size": 12
          },
          "showarrow": false,
          "text": "Total: 218",
          "x": "Expansor zapato",
          "y": 218,
          "yshift": 10
         },
         {
          "font": {
           "color": "black",
           "family": "Arial",
           "size": 12
          },
          "showarrow": false,
          "text": "Total: 217",
          "x": "Guantes térmicos",
          "y": 217,
          "yshift": 10
         },
         {
          "font": {
           "color": "black",
           "family": "Arial",
           "size": 12
          },
          "showarrow": false,
          "text": "Total: 12",
          "x": "Lumiluxa",
          "y": 12,
          "yshift": 10
         },
         {
          "font": {
           "color": "black",
           "family": "Arial",
           "size": 12
          },
          "showarrow": false,
          "text": "Total: 47",
          "x": "Mascarilla lifting",
          "y": 47,
          "yshift": 10
         },
         {
          "font": {
           "color": "black",
           "family": "Arial",
           "size": 12
          },
          "showarrow": false,
          "text": "Total: 1",
          "x": "Medidor laser",
          "y": 1,
          "yshift": 10
         },
         {
          "font": {
           "color": "black",
           "family": "Arial",
           "size": 12
          },
          "showarrow": false,
          "text": "Total: 17",
          "x": "Naturlight",
          "y": 17,
          "yshift": 10
         }
        ],
        "barmode": "stack",
        "legend": {
         "title": {
          "text": "Estado Detallado"
         },
         "tracegroupgap": 0
        },
        "template": {
         "data": {
          "bar": [
           {
            "error_x": {
             "color": "#2a3f5f"
            },
            "error_y": {
             "color": "#2a3f5f"
            },
            "marker": {
             "line": {
              "color": "#E5ECF6",
              "width": 0.5
             },
             "pattern": {
              "fillmode": "overlay",
              "size": 10,
              "solidity": 0.2
             }
            },
            "type": "bar"
           }
          ],
          "barpolar": [
           {
            "marker": {
             "line": {
              "color": "#E5ECF6",
              "width": 0.5
             },
             "pattern": {
              "fillmode": "overlay",
              "size": 10,
              "solidity": 0.2
             }
            },
            "type": "barpolar"
           }
          ],
          "carpet": [
           {
            "aaxis": {
             "endlinecolor": "#2a3f5f",
             "gridcolor": "white",
             "linecolor": "white",
             "minorgridcolor": "white",
             "startlinecolor": "#2a3f5f"
            },
            "baxis": {
             "endlinecolor": "#2a3f5f",
             "gridcolor": "white",
             "linecolor": "white",
             "minorgridcolor": "white",
             "startlinecolor": "#2a3f5f"
            },
            "type": "carpet"
           }
          ],
          "choropleth": [
           {
            "colorbar": {
             "outlinewidth": 0,
             "ticks": ""
            },
            "type": "choropleth"
           }
          ],
          "contour": [
           {
            "colorbar": {
             "outlinewidth": 0,
             "ticks": ""
            },
            "colorscale": [
             [
              0,
              "#0d0887"
             ],
             [
              0.1111111111111111,
              "#46039f"
             ],
             [
              0.2222222222222222,
              "#7201a8"
             ],
             [
              0.3333333333333333,
              "#9c179e"
             ],
             [
              0.4444444444444444,
              "#bd3786"
             ],
             [
              0.5555555555555556,
              "#d8576b"
             ],
             [
              0.6666666666666666,
              "#ed7953"
             ],
             [
              0.7777777777777778,
              "#fb9f3a"
             ],
             [
              0.8888888888888888,
              "#fdca26"
             ],
             [
              1,
              "#f0f921"
             ]
            ],
            "type": "contour"
           }
          ],
          "contourcarpet": [
           {
            "colorbar": {
             "outlinewidth": 0,
             "ticks": ""
            },
            "type": "contourcarpet"
           }
          ],
          "heatmap": [
           {
            "colorbar": {
             "outlinewidth": 0,
             "ticks": ""
            },
            "colorscale": [
             [
              0,
              "#0d0887"
             ],
             [
              0.1111111111111111,
              "#46039f"
             ],
             [
              0.2222222222222222,
              "#7201a8"
             ],
             [
              0.3333333333333333,
              "#9c179e"
             ],
             [
              0.4444444444444444,
              "#bd3786"
             ],
             [
              0.5555555555555556,
              "#d8576b"
             ],
             [
              0.6666666666666666,
              "#ed7953"
             ],
             [
              0.7777777777777778,
              "#fb9f3a"
             ],
             [
              0.8888888888888888,
              "#fdca26"
             ],
             [
              1,
              "#f0f921"
             ]
            ],
            "type": "heatmap"
           }
          ],
          "heatmapgl": [
           {
            "colorbar": {
             "outlinewidth": 0,
             "ticks": ""
            },
            "colorscale": [
             [
              0,
              "#0d0887"
             ],
             [
              0.1111111111111111,
              "#46039f"
             ],
             [
              0.2222222222222222,
              "#7201a8"
             ],
             [
              0.3333333333333333,
              "#9c179e"
             ],
             [
              0.4444444444444444,
              "#bd3786"
             ],
             [
              0.5555555555555556,
              "#d8576b"
             ],
             [
              0.6666666666666666,
              "#ed7953"
             ],
             [
              0.7777777777777778,
              "#fb9f3a"
             ],
             [
              0.8888888888888888,
              "#fdca26"
             ],
             [
              1,
              "#f0f921"
             ]
            ],
            "type": "heatmapgl"
           }
          ],
          "histogram": [
           {
            "marker": {
             "pattern": {
              "fillmode": "overlay",
              "size": 10,
              "solidity": 0.2
             }
            },
            "type": "histogram"
           }
          ],
          "histogram2d": [
           {
            "colorbar": {
             "outlinewidth": 0,
             "ticks": ""
            },
            "colorscale": [
             [
              0,
              "#0d0887"
             ],
             [
              0.1111111111111111,
              "#46039f"
             ],
             [
              0.2222222222222222,
              "#7201a8"
             ],
             [
              0.3333333333333333,
              "#9c179e"
             ],
             [
              0.4444444444444444,
              "#bd3786"
             ],
             [
              0.5555555555555556,
              "#d8576b"
             ],
             [
              0.6666666666666666,
              "#ed7953"
             ],
             [
              0.7777777777777778,
              "#fb9f3a"
             ],
             [
              0.8888888888888888,
              "#fdca26"
             ],
             [
              1,
              "#f0f921"
             ]
            ],
            "type": "histogram2d"
           }
          ],
          "histogram2dcontour": [
           {
            "colorbar": {
             "outlinewidth": 0,
             "ticks": ""
            },
            "colorscale": [
             [
              0,
              "#0d0887"
             ],
             [
              0.1111111111111111,
              "#46039f"
             ],
             [
              0.2222222222222222,
              "#7201a8"
             ],
             [
              0.3333333333333333,
              "#9c179e"
             ],
             [
              0.4444444444444444,
              "#bd3786"
             ],
             [
              0.5555555555555556,
              "#d8576b"
             ],
             [
              0.6666666666666666,
              "#ed7953"
             ],
             [
              0.7777777777777778,
              "#fb9f3a"
             ],
             [
              0.8888888888888888,
              "#fdca26"
             ],
             [
              1,
              "#f0f921"
             ]
            ],
            "type": "histogram2dcontour"
           }
          ],
          "mesh3d": [
           {
            "colorbar": {
             "outlinewidth": 0,
             "ticks": ""
            },
            "type": "mesh3d"
           }
          ],
          "parcoords": [
           {
            "line": {
             "colorbar": {
              "outlinewidth": 0,
              "ticks": ""
             }
            },
            "type": "parcoords"
           }
          ],
          "pie": [
           {
            "automargin": true,
            "type": "pie"
           }
          ],
          "scatter": [
           {
            "fillpattern": {
             "fillmode": "overlay",
             "size": 10,
             "solidity": 0.2
            },
            "type": "scatter"
           }
          ],
          "scatter3d": [
           {
            "line": {
             "colorbar": {
              "outlinewidth": 0,
              "ticks": ""
             }
            },
            "marker": {
             "colorbar": {
              "outlinewidth": 0,
              "ticks": ""
             }
            },
            "type": "scatter3d"
           }
          ],
          "scattercarpet": [
           {
            "marker": {
             "colorbar": {
              "outlinewidth": 0,
              "ticks": ""
             }
            },
            "type": "scattercarpet"
           }
          ],
          "scattergeo": [
           {
            "marker": {
             "colorbar": {
              "outlinewidth": 0,
              "ticks": ""
             }
            },
            "type": "scattergeo"
           }
          ],
          "scattergl": [
           {
            "marker": {
             "colorbar": {
              "outlinewidth": 0,
              "ticks": ""
             }
            },
            "type": "scattergl"
           }
          ],
          "scattermapbox": [
           {
            "marker": {
             "colorbar": {
              "outlinewidth": 0,
              "ticks": ""
             }
            },
            "type": "scattermapbox"
           }
          ],
          "scatterpolar": [
           {
            "marker": {
             "colorbar": {
              "outlinewidth": 0,
              "ticks": ""
             }
            },
            "type": "scatterpolar"
           }
          ],
          "scatterpolargl": [
           {
            "marker": {
             "colorbar": {
              "outlinewidth": 0,
              "ticks": ""
             }
            },
            "type": "scatterpolargl"
           }
          ],
          "scatterternary": [
           {
            "marker": {
             "colorbar": {
              "outlinewidth": 0,
              "ticks": ""
             }
            },
            "type": "scatterternary"
           }
          ],
          "surface": [
           {
            "colorbar": {
             "outlinewidth": 0,
             "ticks": ""
            },
            "colorscale": [
             [
              0,
              "#0d0887"
             ],
             [
              0.1111111111111111,
              "#46039f"
             ],
             [
              0.2222222222222222,
              "#7201a8"
             ],
             [
              0.3333333333333333,
              "#9c179e"
             ],
             [
              0.4444444444444444,
              "#bd3786"
             ],
             [
              0.5555555555555556,
              "#d8576b"
             ],
             [
              0.6666666666666666,
              "#ed7953"
             ],
             [
              0.7777777777777778,
              "#fb9f3a"
             ],
             [
              0.8888888888888888,
              "#fdca26"
             ],
             [
              1,
              "#f0f921"
             ]
            ],
            "type": "surface"
           }
          ],
          "table": [
           {
            "cells": {
             "fill": {
              "color": "#EBF0F8"
             },
             "line": {
              "color": "white"
             }
            },
            "header": {
             "fill": {
              "color": "#C8D4E3"
             },
             "line": {
              "color": "white"
             }
            },
            "type": "table"
           }
          ]
         },
         "layout": {
          "annotationdefaults": {
           "arrowcolor": "#2a3f5f",
           "arrowhead": 0,
           "arrowwidth": 1
          },
          "autotypenumbers": "strict",
          "coloraxis": {
           "colorbar": {
            "outlinewidth": 0,
            "ticks": ""
           }
          },
          "colorscale": {
           "diverging": [
            [
             0,
             "#8e0152"
            ],
            [
             0.1,
             "#c51b7d"
            ],
            [
             0.2,
             "#de77ae"
            ],
            [
             0.3,
             "#f1b6da"
            ],
            [
             0.4,
             "#fde0ef"
            ],
            [
             0.5,
             "#f7f7f7"
            ],
            [
             0.6,
             "#e6f5d0"
            ],
            [
             0.7,
             "#b8e186"
            ],
            [
             0.8,
             "#7fbc41"
            ],
            [
             0.9,
             "#4d9221"
            ],
            [
             1,
             "#276419"
            ]
           ],
           "sequential": [
            [
             0,
             "#0d0887"
            ],
            [
             0.1111111111111111,
             "#46039f"
            ],
            [
             0.2222222222222222,
             "#7201a8"
            ],
            [
             0.3333333333333333,
             "#9c179e"
            ],
            [
             0.4444444444444444,
             "#bd3786"
            ],
            [
             0.5555555555555556,
             "#d8576b"
            ],
            [
             0.6666666666666666,
             "#ed7953"
            ],
            [
             0.7777777777777778,
             "#fb9f3a"
            ],
            [
             0.8888888888888888,
             "#fdca26"
            ],
            [
             1,
             "#f0f921"
            ]
           ],
           "sequentialminus": [
            [
             0,
             "#0d0887"
            ],
            [
             0.1111111111111111,
             "#46039f"
            ],
            [
             0.2222222222222222,
             "#7201a8"
            ],
            [
             0.3333333333333333,
             "#9c179e"
            ],
            [
             0.4444444444444444,
             "#bd3786"
            ],
            [
             0.5555555555555556,
             "#d8576b"
            ],
            [
             0.6666666666666666,
             "#ed7953"
            ],
            [
             0.7777777777777778,
             "#fb9f3a"
            ],
            [
             0.8888888888888888,
             "#fdca26"
            ],
            [
             1,
             "#f0f921"
            ]
           ]
          },
          "colorway": [
           "#636efa",
           "#EF553B",
           "#00cc96",
           "#ab63fa",
           "#FFA15A",
           "#19d3f3",
           "#FF6692",
           "#B6E880",
           "#FF97FF",
           "#FECB52"
          ],
          "font": {
           "color": "#2a3f5f"
          },
          "geo": {
           "bgcolor": "white",
           "lakecolor": "white",
           "landcolor": "#E5ECF6",
           "showlakes": true,
           "showland": true,
           "subunitcolor": "white"
          },
          "hoverlabel": {
           "align": "left"
          },
          "hovermode": "closest",
          "mapbox": {
           "style": "light"
          },
          "paper_bgcolor": "white",
          "plot_bgcolor": "#E5ECF6",
          "polar": {
           "angularaxis": {
            "gridcolor": "white",
            "linecolor": "white",
            "ticks": ""
           },
           "bgcolor": "#E5ECF6",
           "radialaxis": {
            "gridcolor": "white",
            "linecolor": "white",
            "ticks": ""
           }
          },
          "scene": {
           "xaxis": {
            "backgroundcolor": "#E5ECF6",
            "gridcolor": "white",
            "gridwidth": 2,
            "linecolor": "white",
            "showbackground": true,
            "ticks": "",
            "zerolinecolor": "white"
           },
           "yaxis": {
            "backgroundcolor": "#E5ECF6",
            "gridcolor": "white",
            "gridwidth": 2,
            "linecolor": "white",
            "showbackground": true,
            "ticks": "",
            "zerolinecolor": "white"
           },
           "zaxis": {
            "backgroundcolor": "#E5ECF6",
            "gridcolor": "white",
            "gridwidth": 2,
            "linecolor": "white",
            "showbackground": true,
            "ticks": "",
            "zerolinecolor": "white"
           }
          },
          "shapedefaults": {
           "line": {
            "color": "#2a3f5f"
           }
          },
          "ternary": {
           "aaxis": {
            "gridcolor": "white",
            "linecolor": "white",
            "ticks": ""
           },
           "baxis": {
            "gridcolor": "white",
            "linecolor": "white",
            "ticks": ""
           },
           "bgcolor": "#E5ECF6",
           "caxis": {
            "gridcolor": "white",
            "linecolor": "white",
            "ticks": ""
           }
          },
          "title": {
           "x": 0.05
          },
          "xaxis": {
           "automargin": true,
           "gridcolor": "white",
           "linecolor": "white",
           "ticks": "",
           "title": {
            "standoff": 15
           },
           "zerolinecolor": "white",
           "zerolinewidth": 2
          },
          "yaxis": {
           "automargin": true,
           "gridcolor": "white",
           "linecolor": "white",
           "ticks": "",
           "title": {
            "standoff": 15
           },
           "zerolinecolor": "white",
           "zerolinewidth": 2
          }
         }
        },
        "title": {
         "font": {
          "size": 16
         },
         "text": "Pedidos en 2024-11 por producto (Etiqueta)"
        },
        "xaxis": {
         "anchor": "y",
         "domain": [
          0,
          1
         ],
         "tickangle": -45,
         "title": {
          "text": "Productos (Etiqueta)"
         }
        },
        "yaxis": {
         "anchor": "x",
         "domain": [
          0,
          1
         ],
         "title": {
          "text": "Número de pedidos"
         }
        }
       }
      }
     },
     "metadata": {},
     "output_type": "display_data"
    },
    {
     "data": {
      "application/vnd.plotly.v1+json": {
       "config": {
        "plotlyServerURL": "https://plot.ly"
       },
       "data": [
        {
         "alignmentgroup": "True",
         "hovertemplate": "Estado Detallado=Anulado<br>Productos=%{x}<br>Número de pedidos=%{y}<extra></extra>",
         "legendgroup": "Anulado",
         "marker": {
          "color": "#FFA500",
          "pattern": {
           "shape": ""
          }
         },
         "name": "Anulado",
         "offsetgroup": "Anulado",
         "orientation": "v",
         "showlegend": true,
         "textposition": "auto",
         "type": "bar",
         "x": [
          "Barra luz led",
          "Expansor zapato",
          "Guantes térmicos",
          "Lumiluxa",
          "Naturlight"
         ],
         "xaxis": "x",
         "y": [
          13,
          1,
          16,
          21,
          30
         ],
         "yaxis": "y"
        },
        {
         "alignmentgroup": "True",
         "hovertemplate": "Estado Detallado=Devuelto<br>Productos=%{x}<br>Número de pedidos=%{y}<extra></extra>",
         "legendgroup": "Devuelto",
         "marker": {
          "color": "#FF6666",
          "pattern": {
           "shape": ""
          }
         },
         "name": "Devuelto",
         "offsetgroup": "Devuelto",
         "orientation": "v",
         "showlegend": true,
         "textposition": "auto",
         "type": "bar",
         "x": [
          "Barra luz led",
          "Expansor zapato",
          "Guantes térmicos",
          "Lumiluxa",
          "Naturlight"
         ],
         "xaxis": "x",
         "y": [
          103,
          6,
          47,
          9,
          29
         ],
         "yaxis": "y"
        },
        {
         "alignmentgroup": "True",
         "hovertemplate": "Estado Detallado=Entregado<br>Productos=%{x}<br>Número de pedidos=%{y}<extra></extra>",
         "legendgroup": "Entregado",
         "marker": {
          "color": "#66CC66",
          "pattern": {
           "shape": ""
          }
         },
         "name": "Entregado",
         "offsetgroup": "Entregado",
         "orientation": "v",
         "showlegend": true,
         "textposition": "auto",
         "type": "bar",
         "x": [
          "Barra luz led",
          "Expansor zapato",
          "Guantes térmicos",
          "Lumiluxa",
          "Naturlight"
         ],
         "xaxis": "x",
         "y": [
          553,
          36,
          328,
          111,
          128
         ],
         "yaxis": "y"
        },
        {
         "alignmentgroup": "True",
         "hovertemplate": "Estado Detallado=Enviado<br>Productos=%{x}<br>Número de pedidos=%{y}<extra></extra>",
         "legendgroup": "Enviado",
         "marker": {
          "color": "#6699CC",
          "pattern": {
           "shape": ""
          }
         },
         "name": "Enviado",
         "offsetgroup": "Enviado",
         "orientation": "v",
         "showlegend": true,
         "textposition": "auto",
         "type": "bar",
         "x": [
          "Barra luz led",
          "Expansor zapato",
          "Guantes térmicos",
          "Lumiluxa",
          "Naturlight"
         ],
         "xaxis": "x",
         "y": [
          15,
          1,
          8,
          4,
          6
         ],
         "yaxis": "y"
        },
        {
         "alignmentgroup": "True",
         "hovertemplate": "Estado Detallado=Otro<br>Productos=%{x}<br>Número de pedidos=%{y}<extra></extra>",
         "legendgroup": "Otro",
         "marker": {
          "color": "#CCCCCC",
          "pattern": {
           "shape": ""
          }
         },
         "name": "Otro",
         "offsetgroup": "Otro",
         "orientation": "v",
         "showlegend": true,
         "textposition": "auto",
         "type": "bar",
         "x": [
          "Expansor zapato"
         ],
         "xaxis": "x",
         "y": [
          4
         ],
         "yaxis": "y"
        }
       ],
       "layout": {
        "annotations": [
         {
          "font": {
           "color": "black",
           "family": "Arial",
           "size": 12
          },
          "showarrow": false,
          "text": "Total: 684",
          "x": "Barra luz led",
          "y": 684,
          "yshift": 10
         },
         {
          "font": {
           "color": "black",
           "family": "Arial",
           "size": 12
          },
          "showarrow": false,
          "text": "Total: 48",
          "x": "Expansor zapato",
          "y": 48,
          "yshift": 10
         },
         {
          "font": {
           "color": "black",
           "family": "Arial",
           "size": 12
          },
          "showarrow": false,
          "text": "Total: 399",
          "x": "Guantes térmicos",
          "y": 399,
          "yshift": 10
         },
         {
          "font": {
           "color": "black",
           "family": "Arial",
           "size": 12
          },
          "showarrow": false,
          "text": "Total: 145",
          "x": "Lumiluxa",
          "y": 145,
          "yshift": 10
         },
         {
          "font": {
           "color": "black",
           "family": "Arial",
           "size": 12
          },
          "showarrow": false,
          "text": "Total: 193",
          "x": "Naturlight",
          "y": 193,
          "yshift": 10
         }
        ],
        "barmode": "stack",
        "legend": {
         "title": {
          "text": "Estado Detallado"
         },
         "tracegroupgap": 0
        },
        "template": {
         "data": {
          "bar": [
           {
            "error_x": {
             "color": "#2a3f5f"
            },
            "error_y": {
             "color": "#2a3f5f"
            },
            "marker": {
             "line": {
              "color": "#E5ECF6",
              "width": 0.5
             },
             "pattern": {
              "fillmode": "overlay",
              "size": 10,
              "solidity": 0.2
             }
            },
            "type": "bar"
           }
          ],
          "barpolar": [
           {
            "marker": {
             "line": {
              "color": "#E5ECF6",
              "width": 0.5
             },
             "pattern": {
              "fillmode": "overlay",
              "size": 10,
              "solidity": 0.2
             }
            },
            "type": "barpolar"
           }
          ],
          "carpet": [
           {
            "aaxis": {
             "endlinecolor": "#2a3f5f",
             "gridcolor": "white",
             "linecolor": "white",
             "minorgridcolor": "white",
             "startlinecolor": "#2a3f5f"
            },
            "baxis": {
             "endlinecolor": "#2a3f5f",
             "gridcolor": "white",
             "linecolor": "white",
             "minorgridcolor": "white",
             "startlinecolor": "#2a3f5f"
            },
            "type": "carpet"
           }
          ],
          "choropleth": [
           {
            "colorbar": {
             "outlinewidth": 0,
             "ticks": ""
            },
            "type": "choropleth"
           }
          ],
          "contour": [
           {
            "colorbar": {
             "outlinewidth": 0,
             "ticks": ""
            },
            "colorscale": [
             [
              0,
              "#0d0887"
             ],
             [
              0.1111111111111111,
              "#46039f"
             ],
             [
              0.2222222222222222,
              "#7201a8"
             ],
             [
              0.3333333333333333,
              "#9c179e"
             ],
             [
              0.4444444444444444,
              "#bd3786"
             ],
             [
              0.5555555555555556,
              "#d8576b"
             ],
             [
              0.6666666666666666,
              "#ed7953"
             ],
             [
              0.7777777777777778,
              "#fb9f3a"
             ],
             [
              0.8888888888888888,
              "#fdca26"
             ],
             [
              1,
              "#f0f921"
             ]
            ],
            "type": "contour"
           }
          ],
          "contourcarpet": [
           {
            "colorbar": {
             "outlinewidth": 0,
             "ticks": ""
            },
            "type": "contourcarpet"
           }
          ],
          "heatmap": [
           {
            "colorbar": {
             "outlinewidth": 0,
             "ticks": ""
            },
            "colorscale": [
             [
              0,
              "#0d0887"
             ],
             [
              0.1111111111111111,
              "#46039f"
             ],
             [
              0.2222222222222222,
              "#7201a8"
             ],
             [
              0.3333333333333333,
              "#9c179e"
             ],
             [
              0.4444444444444444,
              "#bd3786"
             ],
             [
              0.5555555555555556,
              "#d8576b"
             ],
             [
              0.6666666666666666,
              "#ed7953"
             ],
             [
              0.7777777777777778,
              "#fb9f3a"
             ],
             [
              0.8888888888888888,
              "#fdca26"
             ],
             [
              1,
              "#f0f921"
             ]
            ],
            "type": "heatmap"
           }
          ],
          "heatmapgl": [
           {
            "colorbar": {
             "outlinewidth": 0,
             "ticks": ""
            },
            "colorscale": [
             [
              0,
              "#0d0887"
             ],
             [
              0.1111111111111111,
              "#46039f"
             ],
             [
              0.2222222222222222,
              "#7201a8"
             ],
             [
              0.3333333333333333,
              "#9c179e"
             ],
             [
              0.4444444444444444,
              "#bd3786"
             ],
             [
              0.5555555555555556,
              "#d8576b"
             ],
             [
              0.6666666666666666,
              "#ed7953"
             ],
             [
              0.7777777777777778,
              "#fb9f3a"
             ],
             [
              0.8888888888888888,
              "#fdca26"
             ],
             [
              1,
              "#f0f921"
             ]
            ],
            "type": "heatmapgl"
           }
          ],
          "histogram": [
           {
            "marker": {
             "pattern": {
              "fillmode": "overlay",
              "size": 10,
              "solidity": 0.2
             }
            },
            "type": "histogram"
           }
          ],
          "histogram2d": [
           {
            "colorbar": {
             "outlinewidth": 0,
             "ticks": ""
            },
            "colorscale": [
             [
              0,
              "#0d0887"
             ],
             [
              0.1111111111111111,
              "#46039f"
             ],
             [
              0.2222222222222222,
              "#7201a8"
             ],
             [
              0.3333333333333333,
              "#9c179e"
             ],
             [
              0.4444444444444444,
              "#bd3786"
             ],
             [
              0.5555555555555556,
              "#d8576b"
             ],
             [
              0.6666666666666666,
              "#ed7953"
             ],
             [
              0.7777777777777778,
              "#fb9f3a"
             ],
             [
              0.8888888888888888,
              "#fdca26"
             ],
             [
              1,
              "#f0f921"
             ]
            ],
            "type": "histogram2d"
           }
          ],
          "histogram2dcontour": [
           {
            "colorbar": {
             "outlinewidth": 0,
             "ticks": ""
            },
            "colorscale": [
             [
              0,
              "#0d0887"
             ],
             [
              0.1111111111111111,
              "#46039f"
             ],
             [
              0.2222222222222222,
              "#7201a8"
             ],
             [
              0.3333333333333333,
              "#9c179e"
             ],
             [
              0.4444444444444444,
              "#bd3786"
             ],
             [
              0.5555555555555556,
              "#d8576b"
             ],
             [
              0.6666666666666666,
              "#ed7953"
             ],
             [
              0.7777777777777778,
              "#fb9f3a"
             ],
             [
              0.8888888888888888,
              "#fdca26"
             ],
             [
              1,
              "#f0f921"
             ]
            ],
            "type": "histogram2dcontour"
           }
          ],
          "mesh3d": [
           {
            "colorbar": {
             "outlinewidth": 0,
             "ticks": ""
            },
            "type": "mesh3d"
           }
          ],
          "parcoords": [
           {
            "line": {
             "colorbar": {
              "outlinewidth": 0,
              "ticks": ""
             }
            },
            "type": "parcoords"
           }
          ],
          "pie": [
           {
            "automargin": true,
            "type": "pie"
           }
          ],
          "scatter": [
           {
            "fillpattern": {
             "fillmode": "overlay",
             "size": 10,
             "solidity": 0.2
            },
            "type": "scatter"
           }
          ],
          "scatter3d": [
           {
            "line": {
             "colorbar": {
              "outlinewidth": 0,
              "ticks": ""
             }
            },
            "marker": {
             "colorbar": {
              "outlinewidth": 0,
              "ticks": ""
             }
            },
            "type": "scatter3d"
           }
          ],
          "scattercarpet": [
           {
            "marker": {
             "colorbar": {
              "outlinewidth": 0,
              "ticks": ""
             }
            },
            "type": "scattercarpet"
           }
          ],
          "scattergeo": [
           {
            "marker": {
             "colorbar": {
              "outlinewidth": 0,
              "ticks": ""
             }
            },
            "type": "scattergeo"
           }
          ],
          "scattergl": [
           {
            "marker": {
             "colorbar": {
              "outlinewidth": 0,
              "ticks": ""
             }
            },
            "type": "scattergl"
           }
          ],
          "scattermapbox": [
           {
            "marker": {
             "colorbar": {
              "outlinewidth": 0,
              "ticks": ""
             }
            },
            "type": "scattermapbox"
           }
          ],
          "scatterpolar": [
           {
            "marker": {
             "colorbar": {
              "outlinewidth": 0,
              "ticks": ""
             }
            },
            "type": "scatterpolar"
           }
          ],
          "scatterpolargl": [
           {
            "marker": {
             "colorbar": {
              "outlinewidth": 0,
              "ticks": ""
             }
            },
            "type": "scatterpolargl"
           }
          ],
          "scatterternary": [
           {
            "marker": {
             "colorbar": {
              "outlinewidth": 0,
              "ticks": ""
             }
            },
            "type": "scatterternary"
           }
          ],
          "surface": [
           {
            "colorbar": {
             "outlinewidth": 0,
             "ticks": ""
            },
            "colorscale": [
             [
              0,
              "#0d0887"
             ],
             [
              0.1111111111111111,
              "#46039f"
             ],
             [
              0.2222222222222222,
              "#7201a8"
             ],
             [
              0.3333333333333333,
              "#9c179e"
             ],
             [
              0.4444444444444444,
              "#bd3786"
             ],
             [
              0.5555555555555556,
              "#d8576b"
             ],
             [
              0.6666666666666666,
              "#ed7953"
             ],
             [
              0.7777777777777778,
              "#fb9f3a"
             ],
             [
              0.8888888888888888,
              "#fdca26"
             ],
             [
              1,
              "#f0f921"
             ]
            ],
            "type": "surface"
           }
          ],
          "table": [
           {
            "cells": {
             "fill": {
              "color": "#EBF0F8"
             },
             "line": {
              "color": "white"
             }
            },
            "header": {
             "fill": {
              "color": "#C8D4E3"
             },
             "line": {
              "color": "white"
             }
            },
            "type": "table"
           }
          ]
         },
         "layout": {
          "annotationdefaults": {
           "arrowcolor": "#2a3f5f",
           "arrowhead": 0,
           "arrowwidth": 1
          },
          "autotypenumbers": "strict",
          "coloraxis": {
           "colorbar": {
            "outlinewidth": 0,
            "ticks": ""
           }
          },
          "colorscale": {
           "diverging": [
            [
             0,
             "#8e0152"
            ],
            [
             0.1,
             "#c51b7d"
            ],
            [
             0.2,
             "#de77ae"
            ],
            [
             0.3,
             "#f1b6da"
            ],
            [
             0.4,
             "#fde0ef"
            ],
            [
             0.5,
             "#f7f7f7"
            ],
            [
             0.6,
             "#e6f5d0"
            ],
            [
             0.7,
             "#b8e186"
            ],
            [
             0.8,
             "#7fbc41"
            ],
            [
             0.9,
             "#4d9221"
            ],
            [
             1,
             "#276419"
            ]
           ],
           "sequential": [
            [
             0,
             "#0d0887"
            ],
            [
             0.1111111111111111,
             "#46039f"
            ],
            [
             0.2222222222222222,
             "#7201a8"
            ],
            [
             0.3333333333333333,
             "#9c179e"
            ],
            [
             0.4444444444444444,
             "#bd3786"
            ],
            [
             0.5555555555555556,
             "#d8576b"
            ],
            [
             0.6666666666666666,
             "#ed7953"
            ],
            [
             0.7777777777777778,
             "#fb9f3a"
            ],
            [
             0.8888888888888888,
             "#fdca26"
            ],
            [
             1,
             "#f0f921"
            ]
           ],
           "sequentialminus": [
            [
             0,
             "#0d0887"
            ],
            [
             0.1111111111111111,
             "#46039f"
            ],
            [
             0.2222222222222222,
             "#7201a8"
            ],
            [
             0.3333333333333333,
             "#9c179e"
            ],
            [
             0.4444444444444444,
             "#bd3786"
            ],
            [
             0.5555555555555556,
             "#d8576b"
            ],
            [
             0.6666666666666666,
             "#ed7953"
            ],
            [
             0.7777777777777778,
             "#fb9f3a"
            ],
            [
             0.8888888888888888,
             "#fdca26"
            ],
            [
             1,
             "#f0f921"
            ]
           ]
          },
          "colorway": [
           "#636efa",
           "#EF553B",
           "#00cc96",
           "#ab63fa",
           "#FFA15A",
           "#19d3f3",
           "#FF6692",
           "#B6E880",
           "#FF97FF",
           "#FECB52"
          ],
          "font": {
           "color": "#2a3f5f"
          },
          "geo": {
           "bgcolor": "white",
           "lakecolor": "white",
           "landcolor": "#E5ECF6",
           "showlakes": true,
           "showland": true,
           "subunitcolor": "white"
          },
          "hoverlabel": {
           "align": "left"
          },
          "hovermode": "closest",
          "mapbox": {
           "style": "light"
          },
          "paper_bgcolor": "white",
          "plot_bgcolor": "#E5ECF6",
          "polar": {
           "angularaxis": {
            "gridcolor": "white",
            "linecolor": "white",
            "ticks": ""
           },
           "bgcolor": "#E5ECF6",
           "radialaxis": {
            "gridcolor": "white",
            "linecolor": "white",
            "ticks": ""
           }
          },
          "scene": {
           "xaxis": {
            "backgroundcolor": "#E5ECF6",
            "gridcolor": "white",
            "gridwidth": 2,
            "linecolor": "white",
            "showbackground": true,
            "ticks": "",
            "zerolinecolor": "white"
           },
           "yaxis": {
            "backgroundcolor": "#E5ECF6",
            "gridcolor": "white",
            "gridwidth": 2,
            "linecolor": "white",
            "showbackground": true,
            "ticks": "",
            "zerolinecolor": "white"
           },
           "zaxis": {
            "backgroundcolor": "#E5ECF6",
            "gridcolor": "white",
            "gridwidth": 2,
            "linecolor": "white",
            "showbackground": true,
            "ticks": "",
            "zerolinecolor": "white"
           }
          },
          "shapedefaults": {
           "line": {
            "color": "#2a3f5f"
           }
          },
          "ternary": {
           "aaxis": {
            "gridcolor": "white",
            "linecolor": "white",
            "ticks": ""
           },
           "baxis": {
            "gridcolor": "white",
            "linecolor": "white",
            "ticks": ""
           },
           "bgcolor": "#E5ECF6",
           "caxis": {
            "gridcolor": "white",
            "linecolor": "white",
            "ticks": ""
           }
          },
          "title": {
           "x": 0.05
          },
          "xaxis": {
           "automargin": true,
           "gridcolor": "white",
           "linecolor": "white",
           "ticks": "",
           "title": {
            "standoff": 15
           },
           "zerolinecolor": "white",
           "zerolinewidth": 2
          },
          "yaxis": {
           "automargin": true,
           "gridcolor": "white",
           "linecolor": "white",
           "ticks": "",
           "title": {
            "standoff": 15
           },
           "zerolinecolor": "white",
           "zerolinewidth": 2
          }
         }
        },
        "title": {
         "font": {
          "size": 16
         },
         "text": "Pedidos en 2024-12 por producto (Etiqueta)"
        },
        "xaxis": {
         "anchor": "y",
         "domain": [
          0,
          1
         ],
         "tickangle": -45,
         "title": {
          "text": "Productos (Etiqueta)"
         }
        },
        "yaxis": {
         "anchor": "x",
         "domain": [
          0,
          1
         ],
         "title": {
          "text": "Número de pedidos"
         }
        }
       }
      }
     },
     "metadata": {},
     "output_type": "display_data"
    },
    {
     "data": {
      "application/vnd.plotly.v1+json": {
       "config": {
        "plotlyServerURL": "https://plot.ly"
       },
       "data": [
        {
         "alignmentgroup": "True",
         "hovertemplate": "Estado Detallado=Anulado<br>Productos=%{x}<br>Número de pedidos=%{y}<extra></extra>",
         "legendgroup": "Anulado",
         "marker": {
          "color": "#FFA500",
          "pattern": {
           "shape": ""
          }
         },
         "name": "Anulado",
         "offsetgroup": "Anulado",
         "orientation": "v",
         "showlegend": true,
         "textposition": "auto",
         "type": "bar",
         "x": [
          "Barra luz led",
          "Dispensador aceite",
          "Lumiluxa",
          "Medidor laser",
          "Naturlight"
         ],
         "xaxis": "x",
         "y": [
          25,
          11,
          15,
          1,
          2
         ],
         "yaxis": "y"
        },
        {
         "alignmentgroup": "True",
         "hovertemplate": "Estado Detallado=Devuelto<br>Productos=%{x}<br>Número de pedidos=%{y}<extra></extra>",
         "legendgroup": "Devuelto",
         "marker": {
          "color": "#FF6666",
          "pattern": {
           "shape": ""
          }
         },
         "name": "Devuelto",
         "offsetgroup": "Devuelto",
         "orientation": "v",
         "showlegend": true,
         "textposition": "auto",
         "type": "bar",
         "x": [
          "Barra luz led",
          "Dispensador aceite",
          "Lumiluxa",
          "Naturlight"
         ],
         "xaxis": "x",
         "y": [
          14,
          5,
          2,
          9
         ],
         "yaxis": "y"
        },
        {
         "alignmentgroup": "True",
         "hovertemplate": "Estado Detallado=Entregado<br>Productos=%{x}<br>Número de pedidos=%{y}<extra></extra>",
         "legendgroup": "Entregado",
         "marker": {
          "color": "#66CC66",
          "pattern": {
           "shape": ""
          }
         },
         "name": "Entregado",
         "offsetgroup": "Entregado",
         "orientation": "v",
         "showlegend": true,
         "textposition": "auto",
         "type": "bar",
         "x": [
          "Barra luz led",
          "Corrector capilar",
          "Dispensador aceite",
          "Expansor zapato",
          "Guantes térmicos",
          "Lumiluxa",
          "Naturlight"
         ],
         "xaxis": "x",
         "y": [
          699,
          1,
          276,
          1,
          5,
          301,
          35
         ],
         "yaxis": "y"
        },
        {
         "alignmentgroup": "True",
         "hovertemplate": "Estado Detallado=Enviado<br>Productos=%{x}<br>Número de pedidos=%{y}<extra></extra>",
         "legendgroup": "Enviado",
         "marker": {
          "color": "#6699CC",
          "pattern": {
           "shape": ""
          }
         },
         "name": "Enviado",
         "offsetgroup": "Enviado",
         "orientation": "v",
         "showlegend": true,
         "textposition": "auto",
         "type": "bar",
         "x": [
          "Barra luz led",
          "Dispensador aceite",
          "Guantes térmicos",
          "Lumiluxa",
          "Naturlight"
         ],
         "xaxis": "x",
         "y": [
          162,
          47,
          2,
          32,
          2
         ],
         "yaxis": "y"
        },
        {
         "alignmentgroup": "True",
         "hovertemplate": "Estado Detallado=Pendiente de envío<br>Productos=%{x}<br>Número de pedidos=%{y}<extra></extra>",
         "legendgroup": "Pendiente de envío",
         "marker": {
          "color": "#FFD700",
          "pattern": {
           "shape": ""
          }
         },
         "name": "Pendiente de envío",
         "offsetgroup": "Pendiente de envío",
         "orientation": "v",
         "showlegend": true,
         "textposition": "auto",
         "type": "bar",
         "x": [
          "Barra luz led",
          "Dispensador aceite",
          "Lumiluxa"
         ],
         "xaxis": "x",
         "y": [
          48,
          7,
          7
         ],
         "yaxis": "y"
        }
       ],
       "layout": {
        "annotations": [
         {
          "font": {
           "color": "black",
           "family": "Arial",
           "size": 12
          },
          "showarrow": false,
          "text": "Total: 948",
          "x": "Barra luz led",
          "y": 948,
          "yshift": 10
         },
         {
          "font": {
           "color": "black",
           "family": "Arial",
           "size": 12
          },
          "showarrow": false,
          "text": "Total: 1",
          "x": "Corrector capilar",
          "y": 1,
          "yshift": 10
         },
         {
          "font": {
           "color": "black",
           "family": "Arial",
           "size": 12
          },
          "showarrow": false,
          "text": "Total: 346",
          "x": "Dispensador aceite",
          "y": 346,
          "yshift": 10
         },
         {
          "font": {
           "color": "black",
           "family": "Arial",
           "size": 12
          },
          "showarrow": false,
          "text": "Total: 1",
          "x": "Expansor zapato",
          "y": 1,
          "yshift": 10
         },
         {
          "font": {
           "color": "black",
           "family": "Arial",
           "size": 12
          },
          "showarrow": false,
          "text": "Total: 7",
          "x": "Guantes térmicos",
          "y": 7,
          "yshift": 10
         },
         {
          "font": {
           "color": "black",
           "family": "Arial",
           "size": 12
          },
          "showarrow": false,
          "text": "Total: 357",
          "x": "Lumiluxa",
          "y": 357,
          "yshift": 10
         },
         {
          "font": {
           "color": "black",
           "family": "Arial",
           "size": 12
          },
          "showarrow": false,
          "text": "Total: 1",
          "x": "Medidor laser",
          "y": 1,
          "yshift": 10
         },
         {
          "font": {
           "color": "black",
           "family": "Arial",
           "size": 12
          },
          "showarrow": false,
          "text": "Total: 48",
          "x": "Naturlight",
          "y": 48,
          "yshift": 10
         }
        ],
        "barmode": "stack",
        "legend": {
         "title": {
          "text": "Estado Detallado"
         },
         "tracegroupgap": 0
        },
        "template": {
         "data": {
          "bar": [
           {
            "error_x": {
             "color": "#2a3f5f"
            },
            "error_y": {
             "color": "#2a3f5f"
            },
            "marker": {
             "line": {
              "color": "#E5ECF6",
              "width": 0.5
             },
             "pattern": {
              "fillmode": "overlay",
              "size": 10,
              "solidity": 0.2
             }
            },
            "type": "bar"
           }
          ],
          "barpolar": [
           {
            "marker": {
             "line": {
              "color": "#E5ECF6",
              "width": 0.5
             },
             "pattern": {
              "fillmode": "overlay",
              "size": 10,
              "solidity": 0.2
             }
            },
            "type": "barpolar"
           }
          ],
          "carpet": [
           {
            "aaxis": {
             "endlinecolor": "#2a3f5f",
             "gridcolor": "white",
             "linecolor": "white",
             "minorgridcolor": "white",
             "startlinecolor": "#2a3f5f"
            },
            "baxis": {
             "endlinecolor": "#2a3f5f",
             "gridcolor": "white",
             "linecolor": "white",
             "minorgridcolor": "white",
             "startlinecolor": "#2a3f5f"
            },
            "type": "carpet"
           }
          ],
          "choropleth": [
           {
            "colorbar": {
             "outlinewidth": 0,
             "ticks": ""
            },
            "type": "choropleth"
           }
          ],
          "contour": [
           {
            "colorbar": {
             "outlinewidth": 0,
             "ticks": ""
            },
            "colorscale": [
             [
              0,
              "#0d0887"
             ],
             [
              0.1111111111111111,
              "#46039f"
             ],
             [
              0.2222222222222222,
              "#7201a8"
             ],
             [
              0.3333333333333333,
              "#9c179e"
             ],
             [
              0.4444444444444444,
              "#bd3786"
             ],
             [
              0.5555555555555556,
              "#d8576b"
             ],
             [
              0.6666666666666666,
              "#ed7953"
             ],
             [
              0.7777777777777778,
              "#fb9f3a"
             ],
             [
              0.8888888888888888,
              "#fdca26"
             ],
             [
              1,
              "#f0f921"
             ]
            ],
            "type": "contour"
           }
          ],
          "contourcarpet": [
           {
            "colorbar": {
             "outlinewidth": 0,
             "ticks": ""
            },
            "type": "contourcarpet"
           }
          ],
          "heatmap": [
           {
            "colorbar": {
             "outlinewidth": 0,
             "ticks": ""
            },
            "colorscale": [
             [
              0,
              "#0d0887"
             ],
             [
              0.1111111111111111,
              "#46039f"
             ],
             [
              0.2222222222222222,
              "#7201a8"
             ],
             [
              0.3333333333333333,
              "#9c179e"
             ],
             [
              0.4444444444444444,
              "#bd3786"
             ],
             [
              0.5555555555555556,
              "#d8576b"
             ],
             [
              0.6666666666666666,
              "#ed7953"
             ],
             [
              0.7777777777777778,
              "#fb9f3a"
             ],
             [
              0.8888888888888888,
              "#fdca26"
             ],
             [
              1,
              "#f0f921"
             ]
            ],
            "type": "heatmap"
           }
          ],
          "heatmapgl": [
           {
            "colorbar": {
             "outlinewidth": 0,
             "ticks": ""
            },
            "colorscale": [
             [
              0,
              "#0d0887"
             ],
             [
              0.1111111111111111,
              "#46039f"
             ],
             [
              0.2222222222222222,
              "#7201a8"
             ],
             [
              0.3333333333333333,
              "#9c179e"
             ],
             [
              0.4444444444444444,
              "#bd3786"
             ],
             [
              0.5555555555555556,
              "#d8576b"
             ],
             [
              0.6666666666666666,
              "#ed7953"
             ],
             [
              0.7777777777777778,
              "#fb9f3a"
             ],
             [
              0.8888888888888888,
              "#fdca26"
             ],
             [
              1,
              "#f0f921"
             ]
            ],
            "type": "heatmapgl"
           }
          ],
          "histogram": [
           {
            "marker": {
             "pattern": {
              "fillmode": "overlay",
              "size": 10,
              "solidity": 0.2
             }
            },
            "type": "histogram"
           }
          ],
          "histogram2d": [
           {
            "colorbar": {
             "outlinewidth": 0,
             "ticks": ""
            },
            "colorscale": [
             [
              0,
              "#0d0887"
             ],
             [
              0.1111111111111111,
              "#46039f"
             ],
             [
              0.2222222222222222,
              "#7201a8"
             ],
             [
              0.3333333333333333,
              "#9c179e"
             ],
             [
              0.4444444444444444,
              "#bd3786"
             ],
             [
              0.5555555555555556,
              "#d8576b"
             ],
             [
              0.6666666666666666,
              "#ed7953"
             ],
             [
              0.7777777777777778,
              "#fb9f3a"
             ],
             [
              0.8888888888888888,
              "#fdca26"
             ],
             [
              1,
              "#f0f921"
             ]
            ],
            "type": "histogram2d"
           }
          ],
          "histogram2dcontour": [
           {
            "colorbar": {
             "outlinewidth": 0,
             "ticks": ""
            },
            "colorscale": [
             [
              0,
              "#0d0887"
             ],
             [
              0.1111111111111111,
              "#46039f"
             ],
             [
              0.2222222222222222,
              "#7201a8"
             ],
             [
              0.3333333333333333,
              "#9c179e"
             ],
             [
              0.4444444444444444,
              "#bd3786"
             ],
             [
              0.5555555555555556,
              "#d8576b"
             ],
             [
              0.6666666666666666,
              "#ed7953"
             ],
             [
              0.7777777777777778,
              "#fb9f3a"
             ],
             [
              0.8888888888888888,
              "#fdca26"
             ],
             [
              1,
              "#f0f921"
             ]
            ],
            "type": "histogram2dcontour"
           }
          ],
          "mesh3d": [
           {
            "colorbar": {
             "outlinewidth": 0,
             "ticks": ""
            },
            "type": "mesh3d"
           }
          ],
          "parcoords": [
           {
            "line": {
             "colorbar": {
              "outlinewidth": 0,
              "ticks": ""
             }
            },
            "type": "parcoords"
           }
          ],
          "pie": [
           {
            "automargin": true,
            "type": "pie"
           }
          ],
          "scatter": [
           {
            "fillpattern": {
             "fillmode": "overlay",
             "size": 10,
             "solidity": 0.2
            },
            "type": "scatter"
           }
          ],
          "scatter3d": [
           {
            "line": {
             "colorbar": {
              "outlinewidth": 0,
              "ticks": ""
             }
            },
            "marker": {
             "colorbar": {
              "outlinewidth": 0,
              "ticks": ""
             }
            },
            "type": "scatter3d"
           }
          ],
          "scattercarpet": [
           {
            "marker": {
             "colorbar": {
              "outlinewidth": 0,
              "ticks": ""
             }
            },
            "type": "scattercarpet"
           }
          ],
          "scattergeo": [
           {
            "marker": {
             "colorbar": {
              "outlinewidth": 0,
              "ticks": ""
             }
            },
            "type": "scattergeo"
           }
          ],
          "scattergl": [
           {
            "marker": {
             "colorbar": {
              "outlinewidth": 0,
              "ticks": ""
             }
            },
            "type": "scattergl"
           }
          ],
          "scattermapbox": [
           {
            "marker": {
             "colorbar": {
              "outlinewidth": 0,
              "ticks": ""
             }
            },
            "type": "scattermapbox"
           }
          ],
          "scatterpolar": [
           {
            "marker": {
             "colorbar": {
              "outlinewidth": 0,
              "ticks": ""
             }
            },
            "type": "scatterpolar"
           }
          ],
          "scatterpolargl": [
           {
            "marker": {
             "colorbar": {
              "outlinewidth": 0,
              "ticks": ""
             }
            },
            "type": "scatterpolargl"
           }
          ],
          "scatterternary": [
           {
            "marker": {
             "colorbar": {
              "outlinewidth": 0,
              "ticks": ""
             }
            },
            "type": "scatterternary"
           }
          ],
          "surface": [
           {
            "colorbar": {
             "outlinewidth": 0,
             "ticks": ""
            },
            "colorscale": [
             [
              0,
              "#0d0887"
             ],
             [
              0.1111111111111111,
              "#46039f"
             ],
             [
              0.2222222222222222,
              "#7201a8"
             ],
             [
              0.3333333333333333,
              "#9c179e"
             ],
             [
              0.4444444444444444,
              "#bd3786"
             ],
             [
              0.5555555555555556,
              "#d8576b"
             ],
             [
              0.6666666666666666,
              "#ed7953"
             ],
             [
              0.7777777777777778,
              "#fb9f3a"
             ],
             [
              0.8888888888888888,
              "#fdca26"
             ],
             [
              1,
              "#f0f921"
             ]
            ],
            "type": "surface"
           }
          ],
          "table": [
           {
            "cells": {
             "fill": {
              "color": "#EBF0F8"
             },
             "line": {
              "color": "white"
             }
            },
            "header": {
             "fill": {
              "color": "#C8D4E3"
             },
             "line": {
              "color": "white"
             }
            },
            "type": "table"
           }
          ]
         },
         "layout": {
          "annotationdefaults": {
           "arrowcolor": "#2a3f5f",
           "arrowhead": 0,
           "arrowwidth": 1
          },
          "autotypenumbers": "strict",
          "coloraxis": {
           "colorbar": {
            "outlinewidth": 0,
            "ticks": ""
           }
          },
          "colorscale": {
           "diverging": [
            [
             0,
             "#8e0152"
            ],
            [
             0.1,
             "#c51b7d"
            ],
            [
             0.2,
             "#de77ae"
            ],
            [
             0.3,
             "#f1b6da"
            ],
            [
             0.4,
             "#fde0ef"
            ],
            [
             0.5,
             "#f7f7f7"
            ],
            [
             0.6,
             "#e6f5d0"
            ],
            [
             0.7,
             "#b8e186"
            ],
            [
             0.8,
             "#7fbc41"
            ],
            [
             0.9,
             "#4d9221"
            ],
            [
             1,
             "#276419"
            ]
           ],
           "sequential": [
            [
             0,
             "#0d0887"
            ],
            [
             0.1111111111111111,
             "#46039f"
            ],
            [
             0.2222222222222222,
             "#7201a8"
            ],
            [
             0.3333333333333333,
             "#9c179e"
            ],
            [
             0.4444444444444444,
             "#bd3786"
            ],
            [
             0.5555555555555556,
             "#d8576b"
            ],
            [
             0.6666666666666666,
             "#ed7953"
            ],
            [
             0.7777777777777778,
             "#fb9f3a"
            ],
            [
             0.8888888888888888,
             "#fdca26"
            ],
            [
             1,
             "#f0f921"
            ]
           ],
           "sequentialminus": [
            [
             0,
             "#0d0887"
            ],
            [
             0.1111111111111111,
             "#46039f"
            ],
            [
             0.2222222222222222,
             "#7201a8"
            ],
            [
             0.3333333333333333,
             "#9c179e"
            ],
            [
             0.4444444444444444,
             "#bd3786"
            ],
            [
             0.5555555555555556,
             "#d8576b"
            ],
            [
             0.6666666666666666,
             "#ed7953"
            ],
            [
             0.7777777777777778,
             "#fb9f3a"
            ],
            [
             0.8888888888888888,
             "#fdca26"
            ],
            [
             1,
             "#f0f921"
            ]
           ]
          },
          "colorway": [
           "#636efa",
           "#EF553B",
           "#00cc96",
           "#ab63fa",
           "#FFA15A",
           "#19d3f3",
           "#FF6692",
           "#B6E880",
           "#FF97FF",
           "#FECB52"
          ],
          "font": {
           "color": "#2a3f5f"
          },
          "geo": {
           "bgcolor": "white",
           "lakecolor": "white",
           "landcolor": "#E5ECF6",
           "showlakes": true,
           "showland": true,
           "subunitcolor": "white"
          },
          "hoverlabel": {
           "align": "left"
          },
          "hovermode": "closest",
          "mapbox": {
           "style": "light"
          },
          "paper_bgcolor": "white",
          "plot_bgcolor": "#E5ECF6",
          "polar": {
           "angularaxis": {
            "gridcolor": "white",
            "linecolor": "white",
            "ticks": ""
           },
           "bgcolor": "#E5ECF6",
           "radialaxis": {
            "gridcolor": "white",
            "linecolor": "white",
            "ticks": ""
           }
          },
          "scene": {
           "xaxis": {
            "backgroundcolor": "#E5ECF6",
            "gridcolor": "white",
            "gridwidth": 2,
            "linecolor": "white",
            "showbackground": true,
            "ticks": "",
            "zerolinecolor": "white"
           },
           "yaxis": {
            "backgroundcolor": "#E5ECF6",
            "gridcolor": "white",
            "gridwidth": 2,
            "linecolor": "white",
            "showbackground": true,
            "ticks": "",
            "zerolinecolor": "white"
           },
           "zaxis": {
            "backgroundcolor": "#E5ECF6",
            "gridcolor": "white",
            "gridwidth": 2,
            "linecolor": "white",
            "showbackground": true,
            "ticks": "",
            "zerolinecolor": "white"
           }
          },
          "shapedefaults": {
           "line": {
            "color": "#2a3f5f"
           }
          },
          "ternary": {
           "aaxis": {
            "gridcolor": "white",
            "linecolor": "white",
            "ticks": ""
           },
           "baxis": {
            "gridcolor": "white",
            "linecolor": "white",
            "ticks": ""
           },
           "bgcolor": "#E5ECF6",
           "caxis": {
            "gridcolor": "white",
            "linecolor": "white",
            "ticks": ""
           }
          },
          "title": {
           "x": 0.05
          },
          "xaxis": {
           "automargin": true,
           "gridcolor": "white",
           "linecolor": "white",
           "ticks": "",
           "title": {
            "standoff": 15
           },
           "zerolinecolor": "white",
           "zerolinewidth": 2
          },
          "yaxis": {
           "automargin": true,
           "gridcolor": "white",
           "linecolor": "white",
           "ticks": "",
           "title": {
            "standoff": 15
           },
           "zerolinecolor": "white",
           "zerolinewidth": 2
          }
         }
        },
        "title": {
         "font": {
          "size": 16
         },
         "text": "Pedidos en 2025-01 por producto (Etiqueta)"
        },
        "xaxis": {
         "anchor": "y",
         "domain": [
          0,
          1
         ],
         "tickangle": -45,
         "title": {
          "text": "Productos (Etiqueta)"
         }
        },
        "yaxis": {
         "anchor": "x",
         "domain": [
          0,
          1
         ],
         "title": {
          "text": "Número de pedidos"
         }
        }
       }
      }
     },
     "metadata": {},
     "output_type": "display_data"
    }
   ],
   "source": [
    "import plotly.express as px\n",
    "import pandas as pd\n",
    "\n",
    "def plot_orders_by_month_and_product_plotly(df):\n",
    "    \"\"\"\n",
    "    Genera gráficos por Año y Mes que muestran los pedidos agrupados por productos (Etiqueta) dentro de cada gráfico.\n",
    "    Cada barra se separa por color en función del Estado Detallado.\n",
    "\n",
    "    Parámetros:\n",
    "        df (pd.DataFrame): DataFrame que contiene los datos procesados.\n",
    "\n",
    "    Retorna:\n",
    "        None: Muestra los gráficos directamente.\n",
    "    \"\"\"\n",
    "    # Asegurarse de que las columnas necesarias existen\n",
    "    required_columns = [\"Año\", \"Mes\", \"Etiqueta\", \"Estado Detallado\"]\n",
    "    for col in required_columns:\n",
    "        if col not in df.columns:\n",
    "            raise ValueError(f\"La columna requerida '{col}' no existe en el DataFrame.\")\n",
    "\n",
    "    # Iterar por cada año y mes únicos en los datos\n",
    "    for año in sorted(df[\"Año\"].unique()):\n",
    "        for mes in sorted(df[\"Mes\"].unique()):\n",
    "            # Filtrar los datos para el año y mes actuales\n",
    "            data_mes = df[(df[\"Año\"] == año) & (df[\"Mes\"] == mes)]\n",
    "\n",
    "            if not data_mes.empty:\n",
    "                # Agrupar los datos\n",
    "                grouped = data_mes.groupby([\"Etiqueta\", \"Estado Detallado\"]).size().reset_index(name=\"Cantidad\")\n",
    "\n",
    "                # Crear el gráfico interactivo con Plotly\n",
    "                fig = px.bar(\n",
    "                    grouped,\n",
    "                    x=\"Etiqueta\",\n",
    "                    y=\"Cantidad\",\n",
    "                    color=\"Estado Detallado\",\n",
    "                    title=f\"Pedidos en {año}-{mes:02d} por producto (Etiqueta)\",\n",
    "                    color_discrete_map={\n",
    "                        \"Pendiente de envío\": \"#FFD700\",  # Amarillo\n",
    "                        \"Enviado\": \"#6699CC\",           # Azul\n",
    "                        \"Entregado\": \"#66CC66\",         # Verde brillante\n",
    "                        \"Anulado\": \"#FFA500\",           # Naranja\n",
    "                        \"Devuelto\": \"#FF6666\",          # Rojo claro\n",
    "                        \"Otro\": \"#CCCCCC\"               # Gris\n",
    "                    },\n",
    "                    labels={\"Cantidad\": \"Número de pedidos\", \"Etiqueta\": \"Productos\"},\n",
    "                    barmode=\"stack\",\n",
    "                )\n",
    "\n",
    "                # Agregar texto total encima de cada barra\n",
    "                grouped_totals = grouped.groupby(\"Etiqueta\")[\"Cantidad\"].sum().reset_index()\n",
    "                for i, row in grouped_totals.iterrows():\n",
    "                    fig.add_annotation(\n",
    "                        x=row[\"Etiqueta\"],\n",
    "                        y=row[\"Cantidad\"],\n",
    "                        text=f\"Total: {int(row['Cantidad'])}\",\n",
    "                        showarrow=False,\n",
    "                        yshift=10,\n",
    "                        font=dict(size=12, color=\"black\", family=\"Arial\"),\n",
    "                    )\n",
    "\n",
    "                # Configurar diseño del gráfico\n",
    "                fig.update_layout(\n",
    "                    xaxis_title=\"Productos (Etiqueta)\",\n",
    "                    yaxis_title=\"Número de pedidos\",\n",
    "                    legend_title=\"Estado Detallado\",\n",
    "                    title_font_size=16,\n",
    "                    xaxis_tickangle=-45,\n",
    "                )\n",
    "\n",
    "                # Mostrar el gráfico\n",
    "                fig.show()\n",
    "\n",
    "# Llama a la función con tu DataFrame\n",
    "plot_orders_by_month_and_product_plotly(transformed_data)\n"
   ]
  },
  {
   "cell_type": "markdown",
   "metadata": {},
   "source": [
    "## Envía"
   ]
  },
  {
   "cell_type": "code",
   "execution_count": 12,
   "metadata": {},
   "outputs": [
    {
     "name": "stdout",
     "output_type": "stream",
     "text": [
      "Archivo más reciente: C:\\Users\\PC-5\\Documents\\Nicolas\\Ecommerce\\Ventas\\DATOS_HOLALLAR\\Envia.com\\Envia_24-01-2025.csv\n",
      "(4700, 94)\n"
     ]
    }
   ],
   "source": [
    "def read_latest_csv(directory_path):\n",
    "    try:\n",
    "        # Obtener la lista de archivos en el directorio\n",
    "        files = [\n",
    "            os.path.join(directory_path, file)\n",
    "            for file in os.listdir(directory_path)\n",
    "            if file.endswith('.csv')\n",
    "        ]\n",
    "\n",
    "        if not files:\n",
    "            print(\"No se encontraron archivos CSV en la ruta especificada.\")\n",
    "            return None\n",
    "\n",
    "        # Encontrar el archivo más reciente por fecha de modificación\n",
    "        latest_file = max(files, key=os.path.getmtime)\n",
    "\n",
    "        # Leer el archivo CSV usando pandas\n",
    "        data = pd.read_csv(latest_file)\n",
    "        print(f\"Archivo más reciente: {latest_file}\")\n",
    "\n",
    "        return data\n",
    "    except Exception as e:\n",
    "        print(f\"Ocurrió un error: {e}\")\n",
    "        return None\n",
    "\n",
    "# Ruta de la carpeta compartida\n",
    "directory_path_envia = r\"C:\\Users\\nicol\\OneDrive\\Documentos\\VSCLocal\\Data\\Holallar\\Envia\\25_01_2025_Envia.csv\"\n",
    "\n",
    "# Leer el archivo más reciente\n",
    "latest_data_envia = read_latest_csv(directory_path_envia)\n",
    "\n",
    "if latest_data_envia is not None:\n",
    "    print(latest_data_envia.shape)"
   ]
  },
  {
   "cell_type": "code",
   "execution_count": 13,
   "metadata": {},
   "outputs": [
    {
     "data": {
      "text/html": [
       "<div>\n",
       "<style scoped>\n",
       "    .dataframe tbody tr th:only-of-type {\n",
       "        vertical-align: middle;\n",
       "    }\n",
       "\n",
       "    .dataframe tbody tr th {\n",
       "        vertical-align: top;\n",
       "    }\n",
       "\n",
       "    .dataframe thead th {\n",
       "        text-align: right;\n",
       "    }\n",
       "</style>\n",
       "<table border=\"1\" class=\"dataframe\">\n",
       "  <thead>\n",
       "    <tr style=\"text-align: right;\">\n",
       "      <th></th>\n",
       "      <th>sender_name</th>\n",
       "      <th>tracking_number</th>\n",
       "      <th>utc_created_at</th>\n",
       "      <th>shipped_at</th>\n",
       "      <th>delivered_at</th>\n",
       "      <th>cash_on_delivery_cost</th>\n",
       "      <th>cash_on_delivery_amount</th>\n",
       "      <th>cost</th>\n",
       "      <th>total</th>\n",
       "      <th>grand_total</th>\n",
       "      <th>...</th>\n",
       "      <th>consignee_district</th>\n",
       "      <th>consignee_city</th>\n",
       "      <th>consignee_state</th>\n",
       "      <th>consignee_country</th>\n",
       "      <th>consignee_postalcode</th>\n",
       "      <th>consignee_identification_number</th>\n",
       "      <th>consignee_references</th>\n",
       "      <th>status</th>\n",
       "      <th>status_parent_id</th>\n",
       "      <th>class_name</th>\n",
       "    </tr>\n",
       "  </thead>\n",
       "  <tbody>\n",
       "    <tr>\n",
       "      <th>0</th>\n",
       "      <td>#9341</td>\n",
       "      <td>0048150008189700022776</td>\n",
       "      <td>2025-01-23 14:43:25</td>\n",
       "      <td>2025-01-23 18:27:46</td>\n",
       "      <td>NaN</td>\n",
       "      <td>2.42</td>\n",
       "      <td>29.99</td>\n",
       "      <td>3.87</td>\n",
       "      <td>3.87</td>\n",
       "      <td>3.91</td>\n",
       "      <td>...</td>\n",
       "      <td>NaN</td>\n",
       "      <td>Moanao</td>\n",
       "      <td>PO</td>\n",
       "      <td>ES</td>\n",
       "      <td>36950</td>\n",
       "      <td>NaN</td>\n",
       "      <td>por la tarde</td>\n",
       "      <td>Shipped</td>\n",
       "      <td>6</td>\n",
       "      <td>primary</td>\n",
       "    </tr>\n",
       "    <tr>\n",
       "      <th>1</th>\n",
       "      <td>#9340</td>\n",
       "      <td>0048150008189700013565</td>\n",
       "      <td>2025-01-23 14:39:40</td>\n",
       "      <td>2025-01-23 18:27:27</td>\n",
       "      <td>NaN</td>\n",
       "      <td>2.42</td>\n",
       "      <td>29.99</td>\n",
       "      <td>3.75</td>\n",
       "      <td>3.75</td>\n",
       "      <td>3.78</td>\n",
       "      <td>...</td>\n",
       "      <td>NaN</td>\n",
       "      <td>Girona</td>\n",
       "      <td>GI</td>\n",
       "      <td>ES</td>\n",
       "      <td>17004</td>\n",
       "      <td>NaN</td>\n",
       "      <td>NaN</td>\n",
       "      <td>Shipped</td>\n",
       "      <td>6</td>\n",
       "      <td>primary</td>\n",
       "    </tr>\n",
       "    <tr>\n",
       "      <th>2</th>\n",
       "      <td>#9339</td>\n",
       "      <td>0048150008189700005627</td>\n",
       "      <td>2025-01-23 14:33:58</td>\n",
       "      <td>2025-01-23 18:27:26</td>\n",
       "      <td>NaN</td>\n",
       "      <td>2.72</td>\n",
       "      <td>49.99</td>\n",
       "      <td>4.31</td>\n",
       "      <td>4.31</td>\n",
       "      <td>4.35</td>\n",
       "      <td>...</td>\n",
       "      <td>NaN</td>\n",
       "      <td>Santiago de Compostela</td>\n",
       "      <td>C</td>\n",
       "      <td>ES</td>\n",
       "      <td>15701</td>\n",
       "      <td>NaN</td>\n",
       "      <td>por la tarde</td>\n",
       "      <td>Shipped</td>\n",
       "      <td>6</td>\n",
       "      <td>primary</td>\n",
       "    </tr>\n",
       "    <tr>\n",
       "      <th>3</th>\n",
       "      <td>#9338</td>\n",
       "      <td>0048150008189700051143</td>\n",
       "      <td>2025-01-23 14:18:30</td>\n",
       "      <td>2025-01-23 18:27:24</td>\n",
       "      <td>NaN</td>\n",
       "      <td>2.42</td>\n",
       "      <td>29.99</td>\n",
       "      <td>3.87</td>\n",
       "      <td>3.87</td>\n",
       "      <td>3.91</td>\n",
       "      <td>...</td>\n",
       "      <td>NaN</td>\n",
       "      <td>Linares</td>\n",
       "      <td>J</td>\n",
       "      <td>ES</td>\n",
       "      <td>23700</td>\n",
       "      <td>NaN</td>\n",
       "      <td>por la tarde</td>\n",
       "      <td>Shipped</td>\n",
       "      <td>6</td>\n",
       "      <td>primary</td>\n",
       "    </tr>\n",
       "    <tr>\n",
       "      <th>4</th>\n",
       "      <td>#9100</td>\n",
       "      <td>0048150008189700041826</td>\n",
       "      <td>2025-01-23 14:16:02</td>\n",
       "      <td>NaN</td>\n",
       "      <td>NaN</td>\n",
       "      <td>2.42</td>\n",
       "      <td>29.99</td>\n",
       "      <td>3.86</td>\n",
       "      <td>3.86</td>\n",
       "      <td>3.90</td>\n",
       "      <td>...</td>\n",
       "      <td>NaN</td>\n",
       "      <td>Belandia/ orduna</td>\n",
       "      <td>BI</td>\n",
       "      <td>ES</td>\n",
       "      <td>48460</td>\n",
       "      <td>NaN</td>\n",
       "      <td>llamar antes</td>\n",
       "      <td>Canceled</td>\n",
       "      <td>5</td>\n",
       "      <td>danger</td>\n",
       "    </tr>\n",
       "    <tr>\n",
       "      <th>...</th>\n",
       "      <td>...</td>\n",
       "      <td>...</td>\n",
       "      <td>...</td>\n",
       "      <td>...</td>\n",
       "      <td>...</td>\n",
       "      <td>...</td>\n",
       "      <td>...</td>\n",
       "      <td>...</td>\n",
       "      <td>...</td>\n",
       "      <td>...</td>\n",
       "      <td>...</td>\n",
       "      <td>...</td>\n",
       "      <td>...</td>\n",
       "      <td>...</td>\n",
       "      <td>...</td>\n",
       "      <td>...</td>\n",
       "      <td>...</td>\n",
       "      <td>...</td>\n",
       "      <td>...</td>\n",
       "      <td>...</td>\n",
       "      <td>...</td>\n",
       "    </tr>\n",
       "    <tr>\n",
       "      <th>4695</th>\n",
       "      <td>Carme</td>\n",
       "      <td>PQ8M1C071168362W</td>\n",
       "      <td>2024-10-01 11:35:52</td>\n",
       "      <td>NaN</td>\n",
       "      <td>NaN</td>\n",
       "      <td>0.00</td>\n",
       "      <td>0.00</td>\n",
       "      <td>3.99</td>\n",
       "      <td>3.99</td>\n",
       "      <td>4.10</td>\n",
       "      <td>...</td>\n",
       "      <td>NaN</td>\n",
       "      <td>Badalona</td>\n",
       "      <td>B</td>\n",
       "      <td>ES</td>\n",
       "      <td>8918</td>\n",
       "      <td>NaN</td>\n",
       "      <td>NaN</td>\n",
       "      <td>Created</td>\n",
       "      <td>1</td>\n",
       "      <td>secondary</td>\n",
       "    </tr>\n",
       "    <tr>\n",
       "      <th>4696</th>\n",
       "      <td>Elosu</td>\n",
       "      <td>0048150008189700002469</td>\n",
       "      <td>2024-10-01 11:33:45</td>\n",
       "      <td>2024-10-01 17:40:12</td>\n",
       "      <td>2024-10-02 09:30:48</td>\n",
       "      <td>0.00</td>\n",
       "      <td>0.00</td>\n",
       "      <td>4.04</td>\n",
       "      <td>4.04</td>\n",
       "      <td>4.08</td>\n",
       "      <td>...</td>\n",
       "      <td>NaN</td>\n",
       "      <td>Zaragoza</td>\n",
       "      <td>Z</td>\n",
       "      <td>ES</td>\n",
       "      <td>50007</td>\n",
       "      <td>NaN</td>\n",
       "      <td>#4339</td>\n",
       "      <td>Delivered</td>\n",
       "      <td>3</td>\n",
       "      <td>success</td>\n",
       "    </tr>\n",
       "    <tr>\n",
       "      <th>4697</th>\n",
       "      <td>#4436</td>\n",
       "      <td>0048150008189700020804</td>\n",
       "      <td>2024-10-01 11:17:00</td>\n",
       "      <td>2024-10-04 03:11:25</td>\n",
       "      <td>2024-10-04 11:28:06</td>\n",
       "      <td>2.42</td>\n",
       "      <td>39.99</td>\n",
       "      <td>4.04</td>\n",
       "      <td>4.04</td>\n",
       "      <td>4.08</td>\n",
       "      <td>...</td>\n",
       "      <td>NaN</td>\n",
       "      <td>Limpias</td>\n",
       "      <td>S</td>\n",
       "      <td>ES</td>\n",
       "      <td>39820</td>\n",
       "      <td>NaN</td>\n",
       "      <td>ENTREGAR EN LA FARMACIA</td>\n",
       "      <td>Delivered</td>\n",
       "      <td>3</td>\n",
       "      <td>success</td>\n",
       "    </tr>\n",
       "    <tr>\n",
       "      <th>4698</th>\n",
       "      <td>#4435</td>\n",
       "      <td>0048150008189700011247</td>\n",
       "      <td>2024-10-01 11:16:37</td>\n",
       "      <td>2024-10-01 17:41:00</td>\n",
       "      <td>2024-10-02 11:13:18</td>\n",
       "      <td>2.42</td>\n",
       "      <td>39.99</td>\n",
       "      <td>4.06</td>\n",
       "      <td>4.06</td>\n",
       "      <td>4.10</td>\n",
       "      <td>...</td>\n",
       "      <td>NaN</td>\n",
       "      <td>Granada</td>\n",
       "      <td>GR</td>\n",
       "      <td>ES</td>\n",
       "      <td>18004</td>\n",
       "      <td>NaN</td>\n",
       "      <td>ENTREGAR POR LA TARDE</td>\n",
       "      <td>Delivered</td>\n",
       "      <td>3</td>\n",
       "      <td>success</td>\n",
       "    </tr>\n",
       "    <tr>\n",
       "      <th>4699</th>\n",
       "      <td>#4434</td>\n",
       "      <td>0048150008189700002467</td>\n",
       "      <td>2024-10-01 11:16:08</td>\n",
       "      <td>2024-10-01 17:40:10</td>\n",
       "      <td>2024-10-02 11:53:23</td>\n",
       "      <td>2.42</td>\n",
       "      <td>39.99</td>\n",
       "      <td>4.04</td>\n",
       "      <td>4.04</td>\n",
       "      <td>4.08</td>\n",
       "      <td>...</td>\n",
       "      <td>NaN</td>\n",
       "      <td>AlbarracIn</td>\n",
       "      <td>TE</td>\n",
       "      <td>ES</td>\n",
       "      <td>44100</td>\n",
       "      <td>NaN</td>\n",
       "      <td>NaN</td>\n",
       "      <td>Delivered</td>\n",
       "      <td>3</td>\n",
       "      <td>success</td>\n",
       "    </tr>\n",
       "  </tbody>\n",
       "</table>\n",
       "<p>4700 rows × 30 columns</p>\n",
       "</div>"
      ],
      "text/plain": [
       "     sender_name         tracking_number       utc_created_at  \\\n",
       "0          #9341  0048150008189700022776  2025-01-23 14:43:25   \n",
       "1          #9340  0048150008189700013565  2025-01-23 14:39:40   \n",
       "2          #9339  0048150008189700005627  2025-01-23 14:33:58   \n",
       "3          #9338  0048150008189700051143  2025-01-23 14:18:30   \n",
       "4          #9100  0048150008189700041826  2025-01-23 14:16:02   \n",
       "...          ...                     ...                  ...   \n",
       "4695       Carme        PQ8M1C071168362W  2024-10-01 11:35:52   \n",
       "4696       Elosu  0048150008189700002469  2024-10-01 11:33:45   \n",
       "4697       #4436  0048150008189700020804  2024-10-01 11:17:00   \n",
       "4698       #4435  0048150008189700011247  2024-10-01 11:16:37   \n",
       "4699       #4434  0048150008189700002467  2024-10-01 11:16:08   \n",
       "\n",
       "               shipped_at         delivered_at  cash_on_delivery_cost  \\\n",
       "0     2025-01-23 18:27:46                  NaN                   2.42   \n",
       "1     2025-01-23 18:27:27                  NaN                   2.42   \n",
       "2     2025-01-23 18:27:26                  NaN                   2.72   \n",
       "3     2025-01-23 18:27:24                  NaN                   2.42   \n",
       "4                     NaN                  NaN                   2.42   \n",
       "...                   ...                  ...                    ...   \n",
       "4695                  NaN                  NaN                   0.00   \n",
       "4696  2024-10-01 17:40:12  2024-10-02 09:30:48                   0.00   \n",
       "4697  2024-10-04 03:11:25  2024-10-04 11:28:06                   2.42   \n",
       "4698  2024-10-01 17:41:00  2024-10-02 11:13:18                   2.42   \n",
       "4699  2024-10-01 17:40:10  2024-10-02 11:53:23                   2.42   \n",
       "\n",
       "      cash_on_delivery_amount  cost  total  grand_total  ...  \\\n",
       "0                       29.99  3.87   3.87         3.91  ...   \n",
       "1                       29.99  3.75   3.75         3.78  ...   \n",
       "2                       49.99  4.31   4.31         4.35  ...   \n",
       "3                       29.99  3.87   3.87         3.91  ...   \n",
       "4                       29.99  3.86   3.86         3.90  ...   \n",
       "...                       ...   ...    ...          ...  ...   \n",
       "4695                     0.00  3.99   3.99         4.10  ...   \n",
       "4696                     0.00  4.04   4.04         4.08  ...   \n",
       "4697                    39.99  4.04   4.04         4.08  ...   \n",
       "4698                    39.99  4.06   4.06         4.10  ...   \n",
       "4699                    39.99  4.04   4.04         4.08  ...   \n",
       "\n",
       "     consignee_district          consignee_city consignee_state  \\\n",
       "0                   NaN                  Moanao              PO   \n",
       "1                   NaN                  Girona              GI   \n",
       "2                   NaN  Santiago de Compostela               C   \n",
       "3                   NaN                 Linares               J   \n",
       "4                   NaN        Belandia/ orduna              BI   \n",
       "...                 ...                     ...             ...   \n",
       "4695                NaN                Badalona               B   \n",
       "4696                NaN                Zaragoza               Z   \n",
       "4697                NaN                 Limpias               S   \n",
       "4698                NaN                 Granada              GR   \n",
       "4699                NaN              AlbarracIn              TE   \n",
       "\n",
       "     consignee_country consignee_postalcode consignee_identification_number  \\\n",
       "0                   ES                36950                             NaN   \n",
       "1                   ES                17004                             NaN   \n",
       "2                   ES                15701                             NaN   \n",
       "3                   ES                23700                             NaN   \n",
       "4                   ES                48460                             NaN   \n",
       "...                ...                  ...                             ...   \n",
       "4695                ES                 8918                             NaN   \n",
       "4696                ES                50007                             NaN   \n",
       "4697                ES                39820                             NaN   \n",
       "4698                ES                18004                             NaN   \n",
       "4699                ES                44100                             NaN   \n",
       "\n",
       "         consignee_references     status status_parent_id  class_name  \n",
       "0                por la tarde    Shipped                6     primary  \n",
       "1                         NaN    Shipped                6     primary  \n",
       "2                por la tarde    Shipped                6     primary  \n",
       "3                por la tarde    Shipped                6     primary  \n",
       "4                llamar antes   Canceled                5      danger  \n",
       "...                       ...        ...              ...         ...  \n",
       "4695                      NaN    Created                1   secondary  \n",
       "4696                    #4339  Delivered                3     success  \n",
       "4697  ENTREGAR EN LA FARMACIA  Delivered                3     success  \n",
       "4698    ENTREGAR POR LA TARDE  Delivered                3     success  \n",
       "4699                      NaN  Delivered                3     success  \n",
       "\n",
       "[4700 rows x 30 columns]"
      ]
     },
     "metadata": {},
     "output_type": "display_data"
    }
   ],
   "source": [
    "# Mantén solo los primeros 5 caracteres de 'sender_name' y valores entre comillas en 'tracking_number'\n",
    "latest_data_envia[\"sender_name\"] = latest_data_envia[\"sender_name\"].str[:5]\n",
    "latest_data_envia[\"tracking_number\"] = latest_data_envia[\"tracking_number\"].str.extract(r'\"([^\"]+)\"')\n",
    "latest_data_envia[\"shipped_at\"] = latest_data_envia[\"shipped_at\"].str.extract(r'\"([^\"]+)\"')\n",
    "latest_data_envia[\"delivered_at\"] = latest_data_envia[\"delivered_at\"].str.extract(r'\"([^\"]+)\"')\n",
    "\n",
    "# Lista de columnas que deseas conservar\n",
    "columns_to_keep = [\"sender_name\", \"tracking_number\", \"utc_created_at\", \"shipped_at\", \"delivered_at\",\"cash_on_delivery_cost\", \"cash_on_delivery_amount\", \"cost\", \"total\", \"grand_total\",\n",
    "    \"service\", \"service_description\", \"carrier_description\", \"consignee_name\",\"consignee_company_name\", \"consignee_email\", \"consignee_phone\", \"consignee_street\",\n",
    "    \"consignee_number\", \"consignee_interior_number\", \"consignee_district\",\"consignee_city\", \"consignee_state\", \"consignee_country\", \"consignee_postalcode\",\n",
    "    \"consignee_identification_number\", \"consignee_references\", \"status\",\"status_parent_id\", \"class_name\"]\n",
    "\n",
    "# Filtrar el DataFrame\n",
    "filtered_df = latest_data_envia[columns_to_keep]\n",
    "\n",
    "# Mostrar el resultado\n",
    "display(filtered_df)\n"
   ]
  },
  {
   "cell_type": "code",
   "execution_count": 14,
   "metadata": {},
   "outputs": [],
   "source": [
    "output_path = r\"C:\\Users\\nicol\\OneDrive\\Documentos\\VSCLocal\\Data\\Holallar\\Tablas_auxiliares\\envia_orders.csv\"\n",
    "filtered_df.to_csv(output_path, index=False)"
   ]
  }
 ],
 "metadata": {
  "kernelspec": {
   "display_name": "nicolas-env",
   "language": "python",
   "name": "python3"
  },
  "language_info": {
   "codemirror_mode": {
    "name": "ipython",
    "version": 3
   },
   "file_extension": ".py",
   "mimetype": "text/x-python",
   "name": "python",
   "nbconvert_exporter": "python",
   "pygments_lexer": "ipython3",
   "version": "3.12.0"
  }
 },
 "nbformat": 4,
 "nbformat_minor": 2
}
