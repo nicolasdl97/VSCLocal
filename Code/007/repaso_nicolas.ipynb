{
 "cells": [
  {
   "cell_type": "markdown",
   "id": "89d2c369",
   "metadata": {},
   "source": [
    "**Ejercicio 1:** Escribe un programa que imprima todos los elementos de una lista que sean menores que 10."
   ]
  },
  {
   "cell_type": "code",
   "execution_count": 6,
   "id": "f45df705",
   "metadata": {},
   "outputs": [
    {
     "name": "stdout",
     "output_type": "stream",
     "text": [
      "[3, 12, 15, 9, 13, 9, 12, 10, 1, 6]\n",
      "[3, 9, 9, 1, 6]\n"
     ]
    }
   ],
   "source": [
    "import random \n",
    "lista_numeros=[random.randint(0,20) for i in range(10)]\n",
    "print(lista_numeros)\n",
    "lista_menor_diez=[i for i in lista_numeros if i <10]\n",
    "print(lista_menor_diez)"
   ]
  },
  {
   "cell_type": "markdown",
   "id": "8f1af102",
   "metadata": {},
   "source": [
    "**Ejercicio 2:** Utiliza un bucle for para contar cuántas veces aparece el carácter 'a' en una cadena dada."
   ]
  },
  {
   "cell_type": "code",
   "execution_count": 8,
   "id": "b53ca495",
   "metadata": {},
   "outputs": [
    {
     "name": "stdout",
     "output_type": "stream",
     "text": [
      "5\n"
     ]
    }
   ],
   "source": [
    "cont=0\n",
    "for i in 'mañana':\n",
    "    if i=='a':\n",
    "        cont+=1\n",
    "print(cont)"
   ]
  },
  {
   "cell_type": "markdown",
   "id": "6c362cfb",
   "metadata": {},
   "source": [
    "**Ejercicio 3:** Crea un programa que imprima el índice de todos los elementos pares en una lista dada."
   ]
  },
  {
   "cell_type": "code",
   "execution_count": 10,
   "id": "c3b9bbf7",
   "metadata": {},
   "outputs": [
    {
     "name": "stdout",
     "output_type": "stream",
     "text": [
      "[19, 17, 9, 18, 16, 2, 18, 0, 7, 10]\n",
      "[3, 4, 5, 6, 7, 9]\n"
     ]
    }
   ],
   "source": [
    "import random\n",
    "lista_numeros=[random.randint(0,20) for i in range(10)]\n",
    "print(lista_numeros)\n",
    "lista_indice=[]\n",
    "for i in range(0,len(lista_numeros)):\n",
    "    if lista_numeros[i]%2==0:\n",
    "        lista_indice.append(i)\n",
    "print(lista_indice)"
   ]
  },
  {
   "cell_type": "markdown",
   "id": "37d44f02",
   "metadata": {},
   "source": [
    "**Ejercicio 1:** Usa una lista por comprensión para crear una lista de los nombres que tienen menos de 5 caracteres de una lista dada."
   ]
  },
  {
   "cell_type": "code",
   "execution_count": 11,
   "id": "a4f107d3",
   "metadata": {},
   "outputs": [
    {
     "data": {
      "text/plain": [
       "['Ana']"
      ]
     },
     "execution_count": 11,
     "metadata": {},
     "output_type": "execute_result"
    }
   ],
   "source": [
    "lista_nombres=['Nicolas', 'Ana', 'Kailei']\n",
    "lista_caracter_menor_5=[i for i in lista_nombres if len(i)<5]\n",
    "lista_caracter_menor_5"
   ]
  },
  {
   "cell_type": "code",
   "execution_count": 13,
   "id": "4cc91740",
   "metadata": {},
   "outputs": [
    {
     "data": {
      "text/plain": [
       "['Ana']"
      ]
     },
     "execution_count": 13,
     "metadata": {},
     "output_type": "execute_result"
    }
   ],
   "source": [
    "lista_caracter_menor_5=[i for i in ['Nicolas', 'Ana', 'Kailei'] if len(i)<5]\n",
    "lista_caracter_menor_5"
   ]
  },
  {
   "cell_type": "markdown",
   "id": "c0e7d47a",
   "metadata": {},
   "source": [
    "**Ejercicio 2:** Crea una lista de las raíces cuadradas de los números que son divisibles por 3 en un rango del 1 al 20."
   ]
  },
  {
   "cell_type": "code",
   "execution_count": 21,
   "id": "c3a5fd3a",
   "metadata": {},
   "outputs": [
    {
     "name": "stdout",
     "output_type": "stream",
     "text": [
      "[1, 2, 3, 4, 5, 6, 7, 8, 9, 10, 11, 12, 13, 14, 15, 16, 17, 18, 19, 20]\n",
      "[1.73, 2.45, 3.0, 3.46, 3.87, 4.24]\n"
     ]
    }
   ],
   "source": [
    "import random\n",
    "import numpy as np\n",
    "lista_numeros=[i for i in range(1,21)]\n",
    "print(lista_numeros)\n",
    "lista_raiz_cuadrada=[round(np.sqrt(i),2) for i in lista_numeros if i%3==0]\n",
    "print(lista_raiz_cuadrada)"
   ]
  },
  {
   "cell_type": "markdown",
   "id": "cd7d472a",
   "metadata": {},
   "source": [
    "**Ejercicio 3:** Utiliza una lista por comprensión para obtener una lista de todas las palabras en una cadena que comiencen con la letra 's'."
   ]
  },
  {
   "cell_type": "code",
   "execution_count": 22,
   "id": "b2fdc239",
   "metadata": {},
   "outputs": [
    {
     "data": {
      "text/plain": [
       "['sasonador', 'sergio ramos']"
      ]
     },
     "execution_count": 22,
     "metadata": {},
     "output_type": "execute_result"
    }
   ],
   "source": [
    "lista_palabras=['sasonador','pimienta','sergio ramos','madre mía']\n",
    "lista_comienza_s=[i for i in lista_palabras if i[0]=='s']\n",
    "lista_comienza_s"
   ]
  },
  {
   "cell_type": "markdown",
   "id": "410d28b8",
   "metadata": {},
   "source": [
    "**Ejercicio 1:** Escribe una función lambda que tome un número y devuelva su cubo."
   ]
  },
  {
   "cell_type": "code",
   "execution_count": 23,
   "id": "33ed3fb4",
   "metadata": {},
   "outputs": [
    {
     "data": {
      "text/plain": [
       "27"
      ]
     },
     "execution_count": 23,
     "metadata": {},
     "output_type": "execute_result"
    }
   ],
   "source": [
    "cubo_numero=lambda x:x**3\n",
    "cubo_numero(3)"
   ]
  },
  {
   "cell_type": "markdown",
   "id": "60023752",
   "metadata": {},
   "source": [
    "**Ejercicio 2:** Crea una función lambda que concatene dos strings, separados por un espacio."
   ]
  },
  {
   "cell_type": "code",
   "execution_count": 24,
   "id": "f4442939",
   "metadata": {},
   "outputs": [
    {
     "data": {
      "text/plain": [
       "'Cristiano Ronaldo'"
      ]
     },
     "execution_count": 24,
     "metadata": {},
     "output_type": "execute_result"
    }
   ],
   "source": [
    "concatenar=lambda a,b:a+' '+b\n",
    "concatenar('Cristiano','Ronaldo')"
   ]
  },
  {
   "cell_type": "markdown",
   "id": "00564e4a",
   "metadata": {},
   "source": [
    "**Ejercicio 3:** Define una función lambda que reciba dos valores booleanos y devuelva True si ambos son True, de lo contrario False."
   ]
  },
  {
   "cell_type": "code",
   "execution_count": 25,
   "id": "851a17d0",
   "metadata": {},
   "outputs": [
    {
     "name": "stdout",
     "output_type": "stream",
     "text": [
      "True\n",
      "False\n"
     ]
    }
   ],
   "source": [
    "prueba_de_verdad=lambda a,b:a and b\n",
    "print(prueba_de_verdad(True,True))\n",
    "print(prueba_de_verdad(True,False))"
   ]
  },
  {
   "cell_type": "markdown",
   "id": "3e8d17bf",
   "metadata": {},
   "source": [
    "**Ejercicio 1:** Utiliza `map` y una función lambda para convertir todas las cadenas de una lista a mayúsculas."
   ]
  },
  {
   "cell_type": "code",
   "execution_count": 30,
   "id": "cc1d02f5",
   "metadata": {},
   "outputs": [
    {
     "data": {
      "text/plain": [
       "['NICOLÁS', 'ALONSO', 'JOAQUÍN']"
      ]
     },
     "execution_count": 30,
     "metadata": {},
     "output_type": "execute_result"
    }
   ],
   "source": [
    "lista_nombres=['Nicolás','Alonso','Joaquín']\n",
    "convertir_mayusculas=list(map(lambda x:x.upper(),lista_nombres))\n",
    "convertir_mayusculas"
   ]
  },
  {
   "cell_type": "markdown",
   "id": "f28adb35",
   "metadata": {},
   "source": [
    "**Ejercicio 2:** Emplea `filter` y una función lambda para filtrar todos los números negativos en una lista."
   ]
  },
  {
   "cell_type": "code",
   "execution_count": 32,
   "id": "c9837ea2",
   "metadata": {},
   "outputs": [
    {
     "name": "stdout",
     "output_type": "stream",
     "text": [
      "[9, 10, -5, 7, 1, -3, 3, -7, 6, 6]\n",
      "[-5, -3, -7]\n"
     ]
    }
   ],
   "source": [
    "import random\n",
    "lista_numeros=[random.randint(-10,10) for i in range(10)]\n",
    "print(lista_numeros)\n",
    "numeros_negativos=list(filter(lambda x:x<0,lista_numeros))\n",
    "print(numeros_negativos)"
   ]
  },
  {
   "cell_type": "markdown",
   "id": "517f6544",
   "metadata": {},
   "source": [
    "**Ejercicio 3:** Usa `map` y una función lambda para obtener la longitud de cada palabra en una lista de palabras."
   ]
  },
  {
   "cell_type": "code",
   "execution_count": 33,
   "id": "fe47d531",
   "metadata": {},
   "outputs": [
    {
     "data": {
      "text/plain": [
       "[7, 6, 7]"
      ]
     },
     "execution_count": 33,
     "metadata": {},
     "output_type": "execute_result"
    }
   ],
   "source": [
    "lista_nombres=['Nicolás','Alonso','Joaquín']\n",
    "longitud_palabras=list(map(lambda x:len(x),lista_nombres))\n",
    "longitud_palabras"
   ]
  },
  {
   "cell_type": "markdown",
   "id": "e804e79b",
   "metadata": {},
   "source": [
    "**Ejercicio 1:** Define una función `es_par` que devuelva True si un número es par, de lo contrario False."
   ]
  },
  {
   "cell_type": "code",
   "execution_count": 34,
   "id": "7499d65d",
   "metadata": {},
   "outputs": [
    {
     "name": "stdout",
     "output_type": "stream",
     "text": [
      "True\n",
      "False\n"
     ]
    }
   ],
   "source": [
    "def es_par(num):\n",
    "    if num%2==0:\n",
    "        return True\n",
    "    else:\n",
    "        return False\n",
    "print(es_par(2))\n",
    "print(es_par(3))"
   ]
  },
  {
   "cell_type": "code",
   "execution_count": 35,
   "id": "83ea21ed",
   "metadata": {},
   "outputs": [
    {
     "name": "stdout",
     "output_type": "stream",
     "text": [
      "True\n",
      "False\n"
     ]
    }
   ],
   "source": [
    "def es_par(num):\n",
    "    resultado=lambda x:x%2==0 \n",
    "    return resultado(num)\n",
    "print(es_par(2))\n",
    "print(es_par(3))"
   ]
  },
  {
   "cell_type": "markdown",
   "id": "44b0d5c4",
   "metadata": {},
   "source": [
    "**Ejercicio 2:** Crea una función `contar_vocales` que cuente el número de vocales en una cadena."
   ]
  },
  {
   "cell_type": "code",
   "execution_count": 49,
   "id": "b051e039",
   "metadata": {},
   "outputs": [
    {
     "name": "stdout",
     "output_type": "stream",
     "text": [
      "5\n",
      "0\n"
     ]
    }
   ],
   "source": [
    "def contar_vocales(cadena):\n",
    "    cont=0\n",
    "    for i in cadena:\n",
    "        if i in ['a','e','i','o','u']:\n",
    "            cont+=1\n",
    "    return cont\n",
    "print(contar_vocales('murcielago'))\n",
    "print(contar_vocales('kk'))"
   ]
  },
  {
   "cell_type": "code",
   "execution_count": 61,
   "id": "8e2428f9",
   "metadata": {},
   "outputs": [
    {
     "name": "stdout",
     "output_type": "stream",
     "text": [
      "5\n",
      "0\n"
     ]
    }
   ],
   "source": [
    "def contar_vocales(cadena:str):\n",
    "    vocales=['a','e','i','o','u']\n",
    "    resultado= list(filter(lambda x:x in vocales,cadena))\n",
    "    return len(resultado)\n",
    "print(contar_vocales('murcielago'))\n",
    "print(contar_vocales('kk'))"
   ]
  },
  {
   "cell_type": "markdown",
   "id": "f6796dbe",
   "metadata": {},
   "source": [
    "**Ejercicio 3:** Escribe una función `inverso` que tome una lista y la devuelva invertida."
   ]
  },
  {
   "cell_type": "code",
   "execution_count": 64,
   "id": "84e3b20f",
   "metadata": {},
   "outputs": [
    {
     "data": {
      "text/plain": [
       "[3, 2, 1]"
      ]
     },
     "execution_count": 64,
     "metadata": {},
     "output_type": "execute_result"
    }
   ],
   "source": [
    "def inverso(lista):\n",
    "    return lista[::-1]\n",
    "\n",
    "inverso([1,2,3])"
   ]
  },
  {
   "cell_type": "markdown",
   "id": "b01b9726",
   "metadata": {},
   "source": [
    "**Ejercicio 4:** Diseña una función `interseccion` que tome dos listas y devuelva una lista con los elementos que aparecen en ambas."
   ]
  },
  {
   "cell_type": "code",
   "execution_count": 67,
   "id": "822ab930",
   "metadata": {},
   "outputs": [
    {
     "data": {
      "text/plain": [
       "[2, 3]"
      ]
     },
     "execution_count": 67,
     "metadata": {},
     "output_type": "execute_result"
    }
   ],
   "source": [
    "def intersección(lista_1,lista_2):\n",
    "    return list(set(lista_1)&set(lista_2))\n",
    "\n",
    "intersección([1,2,3],[2,3,4])"
   ]
  },
  {
   "cell_type": "markdown",
   "id": "fb032cde",
   "metadata": {},
   "source": [
    "**Ejercicio 1:** Crea un DataFrame de pandas y usa `apply` para normalizar los valores de una columna (restar la media y dividir por la desviación estándar)."
   ]
  },
  {
   "cell_type": "code",
   "execution_count": 71,
   "id": "48a29ffb",
   "metadata": {},
   "outputs": [
    {
     "data": {
      "text/html": [
       "<div>\n",
       "<style scoped>\n",
       "    .dataframe tbody tr th:only-of-type {\n",
       "        vertical-align: middle;\n",
       "    }\n",
       "\n",
       "    .dataframe tbody tr th {\n",
       "        vertical-align: top;\n",
       "    }\n",
       "\n",
       "    .dataframe thead th {\n",
       "        text-align: right;\n",
       "    }\n",
       "</style>\n",
       "<table border=\"1\" class=\"dataframe\">\n",
       "  <thead>\n",
       "    <tr style=\"text-align: right;\">\n",
       "      <th></th>\n",
       "      <th>Nombre</th>\n",
       "      <th>Edad</th>\n",
       "      <th>Edad_Z_score</th>\n",
       "    </tr>\n",
       "  </thead>\n",
       "  <tbody>\n",
       "    <tr>\n",
       "      <th>0</th>\n",
       "      <td>Nicolás</td>\n",
       "      <td>26</td>\n",
       "      <td>0.872872</td>\n",
       "    </tr>\n",
       "    <tr>\n",
       "      <th>1</th>\n",
       "      <td>Alonso</td>\n",
       "      <td>24</td>\n",
       "      <td>0.218218</td>\n",
       "    </tr>\n",
       "    <tr>\n",
       "      <th>2</th>\n",
       "      <td>Joaquín</td>\n",
       "      <td>20</td>\n",
       "      <td>-1.091089</td>\n",
       "    </tr>\n",
       "  </tbody>\n",
       "</table>\n",
       "</div>"
      ],
      "text/plain": [
       "    Nombre  Edad  Edad_Z_score\n",
       "0  Nicolás    26      0.872872\n",
       "1   Alonso    24      0.218218\n",
       "2  Joaquín    20     -1.091089"
      ]
     },
     "execution_count": 71,
     "metadata": {},
     "output_type": "execute_result"
    }
   ],
   "source": [
    "import pandas as pd \n",
    "df=pd.DataFrame({'Nombre':['Nicolás','Alonso','Joaquín'],'Edad':[26,24,20]})\n",
    "media=df['Edad'].mean()\n",
    "desv_est=df['Edad'].std()\n",
    "df['Edad_Z_score']=df['Edad'].apply(lambda x:(x-media)/desv_est)\n",
    "df"
   ]
  },
  {
   "cell_type": "markdown",
   "id": "4497ae7f",
   "metadata": {},
   "source": [
    "**Ejercicio 2:** Utilizando `map`, añade una nueva columna a un DataFrame que clasifique los valores de otra columna como 'Alto' o 'Bajo' basado en un umbral."
   ]
  },
  {
   "cell_type": "code",
   "execution_count": 73,
   "id": "5c754b25",
   "metadata": {},
   "outputs": [
    {
     "data": {
      "text/html": [
       "<div>\n",
       "<style scoped>\n",
       "    .dataframe tbody tr th:only-of-type {\n",
       "        vertical-align: middle;\n",
       "    }\n",
       "\n",
       "    .dataframe tbody tr th {\n",
       "        vertical-align: top;\n",
       "    }\n",
       "\n",
       "    .dataframe thead th {\n",
       "        text-align: right;\n",
       "    }\n",
       "</style>\n",
       "<table border=\"1\" class=\"dataframe\">\n",
       "  <thead>\n",
       "    <tr style=\"text-align: right;\">\n",
       "      <th></th>\n",
       "      <th>Nombre</th>\n",
       "      <th>Edad</th>\n",
       "      <th>Umbral</th>\n",
       "    </tr>\n",
       "  </thead>\n",
       "  <tbody>\n",
       "    <tr>\n",
       "      <th>0</th>\n",
       "      <td>Nicolás</td>\n",
       "      <td>26</td>\n",
       "      <td>Alto</td>\n",
       "    </tr>\n",
       "    <tr>\n",
       "      <th>1</th>\n",
       "      <td>Alonso</td>\n",
       "      <td>24</td>\n",
       "      <td>Bajo</td>\n",
       "    </tr>\n",
       "    <tr>\n",
       "      <th>2</th>\n",
       "      <td>Joaquín</td>\n",
       "      <td>20</td>\n",
       "      <td>Bajo</td>\n",
       "    </tr>\n",
       "  </tbody>\n",
       "</table>\n",
       "</div>"
      ],
      "text/plain": [
       "    Nombre  Edad Umbral\n",
       "0  Nicolás    26   Alto\n",
       "1   Alonso    24   Bajo\n",
       "2  Joaquín    20   Bajo"
      ]
     },
     "execution_count": 73,
     "metadata": {},
     "output_type": "execute_result"
    }
   ],
   "source": [
    "import pandas as pd \n",
    "df=pd.DataFrame({'Nombre':['Nicolás','Alonso','Joaquín'],'Edad':[26,24,20]})\n",
    "df['Umbral']=df['Edad'].apply(lambda x : 'Alto' if x>25 else 'Bajo')\n",
    "df"
   ]
  },
  {
   "cell_type": "markdown",
   "id": "319661a4",
   "metadata": {},
   "source": [
    "**Ejercicio 3:** Aplica la función `applymap` para convertir todos los datos numéricos de un DataFrame en strings formateados como números con dos decimales."
   ]
  },
  {
   "cell_type": "code",
   "execution_count": 5,
   "id": "f3106e58",
   "metadata": {},
   "outputs": [
    {
     "name": "stderr",
     "output_type": "stream",
     "text": [
      "C:\\Users\\nicol\\AppData\\Local\\Temp\\ipykernel_23852\\1248665874.py:3: FutureWarning: DataFrame.applymap has been deprecated. Use DataFrame.map instead.\n",
      "  df=df.applymap(lambda x : f'{x:.2f}' if isinstance(x,(int,float)) else x)\n"
     ]
    },
    {
     "data": {
      "text/html": [
       "<div>\n",
       "<style scoped>\n",
       "    .dataframe tbody tr th:only-of-type {\n",
       "        vertical-align: middle;\n",
       "    }\n",
       "\n",
       "    .dataframe tbody tr th {\n",
       "        vertical-align: top;\n",
       "    }\n",
       "\n",
       "    .dataframe thead th {\n",
       "        text-align: right;\n",
       "    }\n",
       "</style>\n",
       "<table border=\"1\" class=\"dataframe\">\n",
       "  <thead>\n",
       "    <tr style=\"text-align: right;\">\n",
       "      <th></th>\n",
       "      <th>Nombre</th>\n",
       "      <th>Edad</th>\n",
       "      <th>Estatura</th>\n",
       "    </tr>\n",
       "  </thead>\n",
       "  <tbody>\n",
       "    <tr>\n",
       "      <th>0</th>\n",
       "      <td>Nicolás</td>\n",
       "      <td>26.00</td>\n",
       "      <td>180.00</td>\n",
       "    </tr>\n",
       "    <tr>\n",
       "      <th>1</th>\n",
       "      <td>Alonso</td>\n",
       "      <td>24.00</td>\n",
       "      <td>171.00</td>\n",
       "    </tr>\n",
       "    <tr>\n",
       "      <th>2</th>\n",
       "      <td>Joaquín</td>\n",
       "      <td>20.00</td>\n",
       "      <td>180.00</td>\n",
       "    </tr>\n",
       "  </tbody>\n",
       "</table>\n",
       "</div>"
      ],
      "text/plain": [
       "    Nombre   Edad Estatura\n",
       "0  Nicolás  26.00   180.00\n",
       "1   Alonso  24.00   171.00\n",
       "2  Joaquín  20.00   180.00"
      ]
     },
     "execution_count": 5,
     "metadata": {},
     "output_type": "execute_result"
    }
   ],
   "source": [
    "import pandas as pd \n",
    "df=pd.DataFrame({'Nombre':['Nicolás','Alonso','Joaquín'],'Edad':[26,24,20],'Estatura':[180,171,180]})\n",
    "df=df.applymap(lambda x : f'{x:.2f}' if isinstance(x,(int,float)) else x)\n",
    "df"
   ]
  },
  {
   "cell_type": "markdown",
   "id": "14c64190",
   "metadata": {},
   "source": [
    "**Ejercicio 4:** Usa `apply` en un DataFrame para contar cuántos valores no nulos hay en cada fila."
   ]
  },
  {
   "cell_type": "code",
   "execution_count": 7,
   "id": "0dba3d5b",
   "metadata": {},
   "outputs": [
    {
     "data": {
      "text/plain": [
       "Nombre      2\n",
       "Edad        3\n",
       "Estatura    3\n",
       "dtype: int64"
      ]
     },
     "execution_count": 7,
     "metadata": {},
     "output_type": "execute_result"
    }
   ],
   "source": [
    "import pandas as pd \n",
    "df=pd.DataFrame({'Nombre':[None,'Alonso','Joaquín'],'Edad':[26,24,20],'Estatura':[180,171,180]})\n",
    "df=df.apply(lambda x:x.count())\n",
    "df"
   ]
  }
 ],
 "metadata": {
  "kernelspec": {
   "display_name": "nicolas-env",
   "language": "python",
   "name": "python3"
  },
  "language_info": {
   "codemirror_mode": {
    "name": "ipython",
    "version": 3
   },
   "file_extension": ".py",
   "mimetype": "text/x-python",
   "name": "python",
   "nbconvert_exporter": "python",
   "pygments_lexer": "ipython3",
   "version": "3.12.0"
  }
 },
 "nbformat": 4,
 "nbformat_minor": 5
}
