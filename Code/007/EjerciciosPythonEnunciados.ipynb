{
 "cells": [
  {
   "cell_type": "markdown",
   "id": "cd9c4bd1",
   "metadata": {},
   "source": [
    "## Bucles For"
   ]
  },
  {
   "cell_type": "markdown",
   "id": "89d2c369",
   "metadata": {},
   "source": [
    "**Ejercicio 1:** Escribe un programa que imprima todos los elementos de una lista que sean menores que 10."
   ]
  },
  {
   "cell_type": "code",
   "execution_count": 3,
   "id": "52fd668d",
   "metadata": {},
   "outputs": [
    {
     "data": {
      "text/plain": [
       "[1, 2, 3]"
      ]
     },
     "execution_count": 3,
     "metadata": {},
     "output_type": "execute_result"
    }
   ],
   "source": [
    "def elementos_menor_10(lista_n):\n",
    "    lista_menor_10=[] \n",
    "    for i in lista_n:\n",
    "        if i<10:\n",
    "            lista_menor_10.append(i)\n",
    "    return lista_menor_10\n",
    "\n",
    "elementos_menor_10([1,2,3,10,11,12])"
   ]
  },
  {
   "cell_type": "markdown",
   "id": "8f1af102",
   "metadata": {},
   "source": [
    "**Ejercicio 2:** Utiliza un bucle for para contar cuántas veces aparece el carácter 'a' en una cadena dada."
   ]
  },
  {
   "cell_type": "code",
   "execution_count": 4,
   "id": "a6d5538e",
   "metadata": {},
   "outputs": [
    {
     "data": {
      "text/plain": [
       "3"
      ]
     },
     "execution_count": 4,
     "metadata": {},
     "output_type": "execute_result"
    }
   ],
   "source": [
    "def contar_palabra(palabra):\n",
    "    cont=0\n",
    "    for i in palabra:\n",
    "        if i=='a':\n",
    "            cont+=1\n",
    "    return cont\n",
    "contar_palabra('mañana')\n",
    "            \n",
    "    "
   ]
  },
  {
   "cell_type": "markdown",
   "id": "6c362cfb",
   "metadata": {},
   "source": [
    "**Ejercicio 3:** Crea un programa que imprima el índice de todos los elementos pares en una lista dada."
   ]
  },
  {
   "cell_type": "code",
   "execution_count": 6,
   "id": "9cb81a42",
   "metadata": {},
   "outputs": [
    {
     "data": {
      "text/plain": [
       "[1, 3, 5]"
      ]
     },
     "execution_count": 6,
     "metadata": {},
     "output_type": "execute_result"
    }
   ],
   "source": [
    "def imprimir_indice(lista):\n",
    "    lista_vacia=[]\n",
    "    for i in range(0,len(lista)):\n",
    "        if lista[i]%2==0:\n",
    "            lista_vacia.append(i)\n",
    "    return lista_vacia\n",
    "\n",
    "imprimir_indice([1,2,3,4,5,6])"
   ]
  },
  {
   "cell_type": "markdown",
   "id": "ab8df75c",
   "metadata": {},
   "source": [
    "## Listas por Comprensión"
   ]
  },
  {
   "cell_type": "markdown",
   "id": "37d44f02",
   "metadata": {},
   "source": [
    "**Ejercicio 1:** Usa una lista por comprensión para crear una lista de los nombres que tienen menos de 5 caracteres de una lista dada."
   ]
  },
  {
   "cell_type": "code",
   "execution_count": 4,
   "id": "ed07f1f2",
   "metadata": {},
   "outputs": [
    {
     "name": "stdout",
     "output_type": "stream",
     "text": [
      "['Nicolás', 'Kailei']\n"
     ]
    }
   ],
   "source": [
    "nombres=['Nicolás','Kailei','Ana']\n",
    "\n",
    "nombres_mayor_5=[i for i in nombres if len(i)>5]\n",
    "\n",
    "print(nombres_mayor_5)\n"
   ]
  },
  {
   "cell_type": "markdown",
   "id": "c0e7d47a",
   "metadata": {},
   "source": [
    "**Ejercicio 2:** Crea una lista de las raíces cuadradas de los números que son divisibles por 3 en un rango del 1 al 20."
   ]
  },
  {
   "cell_type": "code",
   "execution_count": 7,
   "id": "d0886fdb",
   "metadata": {},
   "outputs": [
    {
     "data": {
      "text/plain": [
       "[1.7320508075688772,\n",
       " 2.449489742783178,\n",
       " 3.0,\n",
       " 3.4641016151377544,\n",
       " 3.872983346207417,\n",
       " 4.242640687119285]"
      ]
     },
     "execution_count": 7,
     "metadata": {},
     "output_type": "execute_result"
    }
   ],
   "source": [
    "import numpy as np\n",
    "\n",
    "lista=[1,2,3,4,5,6,7,8,9,10,11,12,13,14,15,16,17,18,19,20]\n",
    "lista_raices=[ np.sqrt(i) for i in lista if i%3==0]\n",
    "lista_raices"
   ]
  },
  {
   "cell_type": "markdown",
   "id": "cd7d472a",
   "metadata": {},
   "source": [
    "**Ejercicio 3:** Utiliza una lista por comprensión para obtener una lista de todas las palabras en una cadena que comiencen con la letra 's'."
   ]
  },
  {
   "cell_type": "code",
   "execution_count": 9,
   "id": "8b3756da",
   "metadata": {},
   "outputs": [
    {
     "data": {
      "text/plain": [
       "['señora', 'sermón']"
      ]
     },
     "execution_count": 9,
     "metadata": {},
     "output_type": "execute_result"
    }
   ],
   "source": [
    "lista=['señora','hola','sermón','adios']\n",
    "lista_s=[i for i in lista if i[0]=='s']\n",
    "lista_s"
   ]
  },
  {
   "cell_type": "markdown",
   "id": "68b97b12",
   "metadata": {},
   "source": [
    "## Lambda"
   ]
  },
  {
   "cell_type": "markdown",
   "id": "410d28b8",
   "metadata": {},
   "source": [
    "**Ejercicio 1:** Escribe una función lambda que tome un número y devuelva su cubo."
   ]
  },
  {
   "cell_type": "code",
   "execution_count": 15,
   "id": "cb5c1f30",
   "metadata": {},
   "outputs": [
    {
     "data": {
      "text/plain": [
       "27"
      ]
     },
     "execution_count": 15,
     "metadata": {},
     "output_type": "execute_result"
    }
   ],
   "source": [
    "def cubo_num(x):\n",
    "    resultado= lambda x:x**3\n",
    "    return resultado(x)\n",
    "cubo_num(3)"
   ]
  },
  {
   "cell_type": "markdown",
   "id": "60023752",
   "metadata": {},
   "source": [
    "**Ejercicio 2:** Crea una función lambda que concatene dos strings, separados por un espacio."
   ]
  },
  {
   "cell_type": "code",
   "execution_count": 7,
   "id": "f04d6910",
   "metadata": {},
   "outputs": [
    {
     "data": {
      "text/plain": [
       "'uno dos'"
      ]
     },
     "execution_count": 7,
     "metadata": {},
     "output_type": "execute_result"
    }
   ],
   "source": [
    "\n",
    "concatenar_dos=lambda a,b:a+\" \"+b\n",
    "concatenar_dos(\"uno\",\"dos\")"
   ]
  },
  {
   "cell_type": "markdown",
   "id": "00564e4a",
   "metadata": {},
   "source": [
    "**Ejercicio 3:** Define una función lambda que reciba dos valores booleanos y devuelva True si ambos son True, de lo contrario False."
   ]
  },
  {
   "cell_type": "code",
   "execution_count": 8,
   "id": "a072d5f1",
   "metadata": {},
   "outputs": [
    {
     "name": "stdout",
     "output_type": "stream",
     "text": [
      "True\n",
      "False\n"
     ]
    }
   ],
   "source": [
    "revisar=lambda a,b: True if a and b is True else False\n",
    "print(revisar(True, True))\n",
    "print(revisar(True, False))"
   ]
  },
  {
   "cell_type": "code",
   "execution_count": 9,
   "id": "81cf5644",
   "metadata": {},
   "outputs": [
    {
     "name": "stdout",
     "output_type": "stream",
     "text": [
      "True\n",
      "False\n"
     ]
    }
   ],
   "source": [
    "revisar=lambda a,b: a and b \n",
    "print(revisar(True, True))\n",
    "print(revisar(True, False))"
   ]
  },
  {
   "cell_type": "markdown",
   "id": "b6543065",
   "metadata": {},
   "source": [
    "## Map o Filter y Lambda"
   ]
  },
  {
   "cell_type": "markdown",
   "id": "3e8d17bf",
   "metadata": {},
   "source": [
    "**Ejercicio 1:** Utiliza `map` y una función lambda para convertir todas las cadenas de una lista a mayúsculas."
   ]
  },
  {
   "cell_type": "code",
   "execution_count": 1,
   "id": "dc03a9db",
   "metadata": {},
   "outputs": [
    {
     "name": "stdout",
     "output_type": "stream",
     "text": [
      "['HOLA', 'MUNDO', 'CÓMO', 'ESTÁS']\n"
     ]
    }
   ],
   "source": [
    "lista_cadenas = [\"hola\", \"mundo\", \"cómo\", \"estás\"]\n",
    "\n",
    "# Usando map y una función lambda para convertir todas las cadenas a mayúsculas\n",
    "cadenas_mayusculas = list(map(lambda x: x.upper(), lista_cadenas))\n",
    "\n",
    "print(cadenas_mayusculas) \n"
   ]
  },
  {
   "cell_type": "markdown",
   "id": "f28adb35",
   "metadata": {},
   "source": [
    "**Ejercicio 2:** Emplea `filter` y una función lambda para filtrar todos los números negativos en una lista."
   ]
  },
  {
   "cell_type": "code",
   "execution_count": 4,
   "id": "134be77e",
   "metadata": {},
   "outputs": [
    {
     "name": "stdout",
     "output_type": "stream",
     "text": [
      "[-5, -3, -1]\n"
     ]
    }
   ],
   "source": [
    "lista_numeros = [10, -5, 8, -3, -1, 0, 6]\n",
    "num_negativos=list(filter(lambda x: x<0,lista_numeros))\n",
    "print(num_negativos)"
   ]
  },
  {
   "cell_type": "markdown",
   "id": "517f6544",
   "metadata": {},
   "source": [
    "**Ejercicio 3:** Usa `map` y una función lambda para obtener la longitud de cada palabra en una lista de palabras."
   ]
  },
  {
   "cell_type": "code",
   "execution_count": 6,
   "id": "41e98ce6",
   "metadata": {},
   "outputs": [
    {
     "name": "stdout",
     "output_type": "stream",
     "text": [
      "[7, 6, 7]\n"
     ]
    }
   ],
   "source": [
    "lista_palabras=['Nicolás','Alonso','Joaquín']\n",
    "lista_longitud_palabras=list(map(lambda x : len(x),lista_palabras))\n",
    "print(lista_longitud_palabras)"
   ]
  },
  {
   "cell_type": "markdown",
   "id": "9854b6e0",
   "metadata": {},
   "source": [
    "## Funciones"
   ]
  },
  {
   "cell_type": "markdown",
   "id": "e804e79b",
   "metadata": {},
   "source": [
    "**Ejercicio 1:** Define una función `es_par` que devuelva True si un número es par, de lo contrario False."
   ]
  },
  {
   "cell_type": "code",
   "execution_count": 10,
   "id": "eb2f8cf8",
   "metadata": {},
   "outputs": [
    {
     "name": "stdout",
     "output_type": "stream",
     "text": [
      "True\n",
      "False\n"
     ]
    }
   ],
   "source": [
    "def es_par(num):\n",
    "    if num%2==0:\n",
    "        return True\n",
    "    else:\n",
    "        return False\n",
    "    \n",
    "print(es_par(2))\n",
    "print(es_par(3))"
   ]
  },
  {
   "cell_type": "markdown",
   "id": "44b0d5c4",
   "metadata": {},
   "source": [
    "**Ejercicio 2:** Crea una función `contar_vocales` que cuente el número de vocales en una cadena."
   ]
  },
  {
   "cell_type": "code",
   "execution_count": 25,
   "id": "9e3c016e",
   "metadata": {},
   "outputs": [
    {
     "name": "stdout",
     "output_type": "stream",
     "text": [
      "5\n",
      "2\n"
     ]
    }
   ],
   "source": [
    "def contar_vocales(palabra):\n",
    "    cont=0 \n",
    "    vocales=['a','e','i','o','u']\n",
    "    for i in palabra:\n",
    "        if i in vocales:\n",
    "            cont+=1\n",
    "    return cont\n",
    "\n",
    "print(contar_vocales('murcielago'))\n",
    "print(contar_vocales('cara'))"
   ]
  },
  {
   "cell_type": "markdown",
   "id": "f6796dbe",
   "metadata": {},
   "source": [
    "**Ejercicio 3:** Escribe una función `inverso` que tome una lista y la devuelva invertida."
   ]
  },
  {
   "cell_type": "code",
   "execution_count": 26,
   "id": "db05400f",
   "metadata": {},
   "outputs": [
    {
     "data": {
      "text/plain": [
       "[4, 3, 2, 1]"
      ]
     },
     "execution_count": 26,
     "metadata": {},
     "output_type": "execute_result"
    }
   ],
   "source": [
    "def inverso(lista):\n",
    "    return lista[::-1]\n",
    "\n",
    "inverso([1,2,3,4])"
   ]
  },
  {
   "cell_type": "markdown",
   "id": "b01b9726",
   "metadata": {},
   "source": [
    "**Ejercicio 4:** Diseña una función `interseccion` que tome dos listas y devuelva una lista con los elementos que aparecen en ambas."
   ]
  },
  {
   "cell_type": "code",
   "execution_count": 27,
   "id": "6a043a94",
   "metadata": {},
   "outputs": [
    {
     "data": {
      "text/plain": [
       "['c', 'd']"
      ]
     },
     "execution_count": 27,
     "metadata": {},
     "output_type": "execute_result"
    }
   ],
   "source": [
    "lista_1=['a','b','c','d']\n",
    "lista_2=['c','d','e','f']\n",
    "\n",
    "def interseccion(lista_1,lista_2):\n",
    "    return list(set(lista_1) & set(lista_2))\n",
    "\n",
    "interseccion(lista_1,lista_2)"
   ]
  },
  {
   "cell_type": "markdown",
   "id": "c984a960",
   "metadata": {},
   "source": [
    "## Apply y Map en DataFrames"
   ]
  },
  {
   "cell_type": "markdown",
   "id": "fb032cde",
   "metadata": {},
   "source": [
    "**Ejercicio 1:** Crea un DataFrame de pandas y usa `apply` para normalizar los valores de una columna (restar la media y dividir por la desviación estándar)."
   ]
  },
  {
   "cell_type": "code",
   "execution_count": 42,
   "id": "ef0613f5",
   "metadata": {},
   "outputs": [
    {
     "data": {
      "text/html": [
       "<div>\n",
       "<style scoped>\n",
       "    .dataframe tbody tr th:only-of-type {\n",
       "        vertical-align: middle;\n",
       "    }\n",
       "\n",
       "    .dataframe tbody tr th {\n",
       "        vertical-align: top;\n",
       "    }\n",
       "\n",
       "    .dataframe thead th {\n",
       "        text-align: right;\n",
       "    }\n",
       "</style>\n",
       "<table border=\"1\" class=\"dataframe\">\n",
       "  <thead>\n",
       "    <tr style=\"text-align: right;\">\n",
       "      <th></th>\n",
       "      <th>Nombre</th>\n",
       "      <th>Edad</th>\n",
       "    </tr>\n",
       "  </thead>\n",
       "  <tbody>\n",
       "    <tr>\n",
       "      <th>0</th>\n",
       "      <td>Nicolás</td>\n",
       "      <td>0.927173</td>\n",
       "    </tr>\n",
       "    <tr>\n",
       "      <th>1</th>\n",
       "      <td>Alonso</td>\n",
       "      <td>0.132453</td>\n",
       "    </tr>\n",
       "    <tr>\n",
       "      <th>2</th>\n",
       "      <td>Joaquín</td>\n",
       "      <td>-1.059626</td>\n",
       "    </tr>\n",
       "  </tbody>\n",
       "</table>\n",
       "</div>"
      ],
      "text/plain": [
       "    Nombre      Edad\n",
       "0  Nicolás  0.927173\n",
       "1   Alonso  0.132453\n",
       "2  Joaquín -1.059626"
      ]
     },
     "execution_count": 42,
     "metadata": {},
     "output_type": "execute_result"
    }
   ],
   "source": [
    "import pandas as pd\n",
    "df=pd.DataFrame({'Nombre':['Nicolás','Alonso','Joaquín'],'Edad':[26,24,21]})\n",
    "df['Edad']=df['Edad'].apply(lambda x: (x -df['Edad'].mean())/df['Edad'].std())\n",
    "df"
   ]
  },
  {
   "cell_type": "markdown",
   "id": "4497ae7f",
   "metadata": {},
   "source": [
    "**Ejercicio 2:** Utilizando `map`, añade una nueva columna a un DataFrame que clasifique los valores de otra columna como 'Alto' o 'Bajo' basado en un umbral."
   ]
  },
  {
   "cell_type": "code",
   "execution_count": 55,
   "id": "fcde31f1",
   "metadata": {},
   "outputs": [
    {
     "data": {
      "text/html": [
       "<div>\n",
       "<style scoped>\n",
       "    .dataframe tbody tr th:only-of-type {\n",
       "        vertical-align: middle;\n",
       "    }\n",
       "\n",
       "    .dataframe tbody tr th {\n",
       "        vertical-align: top;\n",
       "    }\n",
       "\n",
       "    .dataframe thead th {\n",
       "        text-align: right;\n",
       "    }\n",
       "</style>\n",
       "<table border=\"1\" class=\"dataframe\">\n",
       "  <thead>\n",
       "    <tr style=\"text-align: right;\">\n",
       "      <th></th>\n",
       "      <th>Nombre</th>\n",
       "      <th>Edad</th>\n",
       "      <th>Clasificacion</th>\n",
       "    </tr>\n",
       "  </thead>\n",
       "  <tbody>\n",
       "    <tr>\n",
       "      <th>0</th>\n",
       "      <td>Nicolás</td>\n",
       "      <td>26</td>\n",
       "      <td>Alto</td>\n",
       "    </tr>\n",
       "    <tr>\n",
       "      <th>1</th>\n",
       "      <td>Alonso</td>\n",
       "      <td>24</td>\n",
       "      <td>Bajo</td>\n",
       "    </tr>\n",
       "    <tr>\n",
       "      <th>2</th>\n",
       "      <td>Joaquín</td>\n",
       "      <td>21</td>\n",
       "      <td>Bajo</td>\n",
       "    </tr>\n",
       "  </tbody>\n",
       "</table>\n",
       "</div>"
      ],
      "text/plain": [
       "    Nombre  Edad Clasificacion\n",
       "0  Nicolás    26          Alto\n",
       "1   Alonso    24          Bajo\n",
       "2  Joaquín    21          Bajo"
      ]
     },
     "execution_count": 55,
     "metadata": {},
     "output_type": "execute_result"
    }
   ],
   "source": [
    "import pandas as pd\n",
    "df = pd.DataFrame({'Nombre': ['Nicolás', 'Alonso', 'Joaquín'], 'Edad': [26, 24, 21]})\n",
    "df['Clasificacion']=df['Edad'].map(lambda x: 'Alto' if x>25 else 'Bajo')\n",
    "df"
   ]
  },
  {
   "cell_type": "markdown",
   "id": "319661a4",
   "metadata": {},
   "source": [
    "**Ejercicio 3:** Aplica la función `applymap` para convertir todos los datos numéricos de un DataFrame en strings formateados como números con dos decimales."
   ]
  },
  {
   "cell_type": "code",
   "execution_count": 58,
   "id": "2b254b1f",
   "metadata": {},
   "outputs": [
    {
     "name": "stdout",
     "output_type": "stream",
     "text": [
      "    Nombre   Edad Altura\n",
      "0  Nicolás  26.00   1.80\n",
      "1   Alonso  24.00   1.71\n",
      "2  Joaquín  21.00   1.80\n"
     ]
    }
   ],
   "source": [
    "import pandas as pd\n",
    "\n",
    "df = pd.DataFrame({'Nombre': ['Nicolás', 'Alonso', 'Joaquín'], 'Edad': [26, 24, 21], 'Altura': [1.80, 1.71, 1.80]})\n",
    "df = df.map(lambda x: f'{x:.2f}' if isinstance(x, (int, float)) else x)\n",
    "print(df)\n"
   ]
  },
  {
   "cell_type": "markdown",
   "id": "14c64190",
   "metadata": {},
   "source": [
    "**Ejercicio 4:** Usa `apply` en un DataFrame para contar cuántos valores no nulos hay en cada fila."
   ]
  },
  {
   "cell_type": "code",
   "execution_count": 69,
   "id": "a398521c",
   "metadata": {},
   "outputs": [
    {
     "name": "stdout",
     "output_type": "stream",
     "text": [
      "Nombre    3\n",
      "Edad      3\n",
      "Altura    2\n",
      "dtype: int64\n"
     ]
    }
   ],
   "source": [
    "import pandas as pd\n",
    "\n",
    "df = pd.DataFrame({'Nombre': ['Nicolás', 'Alonso', 'Joaquín'], 'Edad': [26, 24,20], 'Altura': [1.80, None, 1.80]})\n",
    "resultados = df.apply(lambda x: x.count())\n",
    "print(resultados)"
   ]
  }
 ],
 "metadata": {
  "kernelspec": {
   "display_name": "nicolas-env",
   "language": "python",
   "name": "python3"
  },
  "language_info": {
   "codemirror_mode": {
    "name": "ipython",
    "version": 3
   },
   "file_extension": ".py",
   "mimetype": "text/x-python",
   "name": "python",
   "nbconvert_exporter": "python",
   "pygments_lexer": "ipython3",
   "version": "3.12.0"
  }
 },
 "nbformat": 4,
 "nbformat_minor": 5
}
