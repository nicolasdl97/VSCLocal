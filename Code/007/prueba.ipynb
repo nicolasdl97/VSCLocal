{
 "cells": [
  {
   "cell_type": "code",
   "execution_count": 1,
   "metadata": {},
   "outputs": [],
   "source": [
    "import pandas as pd\n",
    "import numpy as np"
   ]
  },
  {
   "cell_type": "code",
   "execution_count": 4,
   "metadata": {},
   "outputs": [
    {
     "name": "stderr",
     "output_type": "stream",
     "text": [
      "<>:1: SyntaxWarning: invalid escape sequence '\\e'\n",
      "<>:1: SyntaxWarning: invalid escape sequence '\\e'\n",
      "C:\\Users\\nicol\\AppData\\Local\\Temp\\ipykernel_27288\\2695484875.py:1: SyntaxWarning: invalid escape sequence '\\e'\n",
      "  df=pd.read_csv(\"C:/Users/nicol/OneDrive/Documentos/VSCLocal/Data\\exercise_datetime.csv\")\n"
     ]
    }
   ],
   "source": [
    "df=pd.read_csv(\"C:/Users/nicol/OneDrive/Documentos/VSCLocal/Data\\exercise_datetime.csv\")"
   ]
  },
  {
   "cell_type": "code",
   "execution_count": 5,
   "metadata": {},
   "outputs": [
    {
     "data": {
      "text/html": [
       "<div>\n",
       "<style scoped>\n",
       "    .dataframe tbody tr th:only-of-type {\n",
       "        vertical-align: middle;\n",
       "    }\n",
       "\n",
       "    .dataframe tbody tr th {\n",
       "        vertical-align: top;\n",
       "    }\n",
       "\n",
       "    .dataframe thead th {\n",
       "        text-align: right;\n",
       "    }\n",
       "</style>\n",
       "<table border=\"1\" class=\"dataframe\">\n",
       "  <thead>\n",
       "    <tr style=\"text-align: right;\">\n",
       "      <th></th>\n",
       "      <th>Unnamed: 0</th>\n",
       "      <th>TagName</th>\n",
       "      <th>Value</th>\n",
       "      <th>DateTime</th>\n",
       "    </tr>\n",
       "  </thead>\n",
       "  <tbody>\n",
       "    <tr>\n",
       "      <th>0</th>\n",
       "      <td>0</td>\n",
       "      <td>EAE_Business_School.ValueTarget</td>\n",
       "      <td>10.468952</td>\n",
       "      <td>2023-01-01 00:00:00</td>\n",
       "    </tr>\n",
       "    <tr>\n",
       "      <th>1</th>\n",
       "      <td>1</td>\n",
       "      <td>EAE_Business_School.ValueTarget</td>\n",
       "      <td>14.029077</td>\n",
       "      <td>2023-01-01 00:59:00.152Z</td>\n",
       "    </tr>\n",
       "    <tr>\n",
       "      <th>2</th>\n",
       "      <td>2</td>\n",
       "      <td>EAE_Business_School.ValueTarget</td>\n",
       "      <td>12.677625</td>\n",
       "      <td>2023-01-01 01:58:00.151</td>\n",
       "    </tr>\n",
       "    <tr>\n",
       "      <th>3</th>\n",
       "      <td>3</td>\n",
       "      <td>EAE_Business_School.ValueTarget</td>\n",
       "      <td>11.853758</td>\n",
       "      <td>2023-01-01 02:57:00.663</td>\n",
       "    </tr>\n",
       "    <tr>\n",
       "      <th>4</th>\n",
       "      <td>4</td>\n",
       "      <td>EAE_Business_School.ValueTarget</td>\n",
       "      <td>9.118729</td>\n",
       "      <td>2023-01-01 03:56:00.387Z</td>\n",
       "    </tr>\n",
       "  </tbody>\n",
       "</table>\n",
       "</div>"
      ],
      "text/plain": [
       "   Unnamed: 0                          TagName      Value  \\\n",
       "0           0  EAE_Business_School.ValueTarget  10.468952   \n",
       "1           1  EAE_Business_School.ValueTarget  14.029077   \n",
       "2           2  EAE_Business_School.ValueTarget  12.677625   \n",
       "3           3  EAE_Business_School.ValueTarget  11.853758   \n",
       "4           4  EAE_Business_School.ValueTarget   9.118729   \n",
       "\n",
       "                   DateTime  \n",
       "0       2023-01-01 00:00:00  \n",
       "1  2023-01-01 00:59:00.152Z  \n",
       "2   2023-01-01 01:58:00.151  \n",
       "3   2023-01-01 02:57:00.663  \n",
       "4  2023-01-01 03:56:00.387Z  "
      ]
     },
     "execution_count": 5,
     "metadata": {},
     "output_type": "execute_result"
    },
    {
     "ename": "",
     "evalue": "",
     "output_type": "error",
     "traceback": [
      "\u001b[1;31mEl kernel se bloqueó al ejecutar código en la celda actual o en una celda anterior. \n",
      "\u001b[1;31mRevise el código de las celdas para identificar una posible causa del error. \n",
      "\u001b[1;31mHaga clic <a href='https://aka.ms/vscodeJupyterKernelCrash'>aquí</a> para obtener más información. \n",
      "\u001b[1;31mVea Jupyter <a href='command:jupyter.viewOutput'>log</a> para obtener más detalles."
     ]
    }
   ],
   "source": [
    "df.head(5)"
   ]
  }
 ],
 "metadata": {
  "kernelspec": {
   "display_name": "nicolas-env",
   "language": "python",
   "name": "python3"
  },
  "language_info": {
   "codemirror_mode": {
    "name": "ipython",
    "version": 3
   },
   "file_extension": ".py",
   "mimetype": "text/x-python",
   "name": "python",
   "nbconvert_exporter": "python",
   "pygments_lexer": "ipython3",
   "version": "3.12.0"
  }
 },
 "nbformat": 4,
 "nbformat_minor": 2
}
