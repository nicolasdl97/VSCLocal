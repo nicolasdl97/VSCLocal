{
 "cells": [
  {
   "cell_type": "code",
   "execution_count": 2,
   "metadata": {},
   "outputs": [],
   "source": [
    "import pandas as pd\n",
    "import numpy as np"
   ]
  },
  {
   "cell_type": "code",
   "execution_count": 20,
   "metadata": {},
   "outputs": [
    {
     "name": "stdout",
     "output_type": "stream",
     "text": [
      "7.0\n"
     ]
    }
   ],
   "source": [
    "def promedio_pares(lista_num):\n",
    "    pares = [i for i in lista_num if i % 2 == 0]\n",
    "    if len(pares) == 0:\n",
    "        return None\n",
    "    promedio = sum(pares) / len(pares)\n",
    "    return promedio\n",
    "\n",
    "lista_num = [2, 5, 4, 3, 10, 11, 12]\n",
    "print(promedio_pares(lista_num))\n"
   ]
  },
  {
   "cell_type": "code",
   "execution_count": 23,
   "metadata": {},
   "outputs": [
    {
     "data": {
      "text/plain": [
       "['pepe', 'hugo', 'carlos', 'luis', 'manu']"
      ]
     },
     "execution_count": 23,
     "metadata": {},
     "output_type": "execute_result"
    }
   ],
   "source": [
    "data = {'Nombre': ['pepe','hugo', 'carlos', 'luis', 'manu']}\n",
    "df = pd.DataFrame(data)\n",
    "def diccionario_lista (diccionario):\n",
    "    y = []\n",
    "    df.map(lambda x: y.append(x))\n",
    "    return y\n",
    "\n",
    "diccionario = {'Nombre': ['pepe','hugo', 'carlos', 'luis', 'manu']}\n",
    "diccionario_lista(diccionario)"
   ]
  }
 ],
 "metadata": {
  "kernelspec": {
   "display_name": "nicolas-env",
   "language": "python",
   "name": "python3"
  },
  "language_info": {
   "codemirror_mode": {
    "name": "ipython",
    "version": 3
   },
   "file_extension": ".py",
   "mimetype": "text/x-python",
   "name": "python",
   "nbconvert_exporter": "python",
   "pygments_lexer": "ipython3",
   "version": "3.12.0"
  }
 },
 "nbformat": 4,
 "nbformat_minor": 2
}
